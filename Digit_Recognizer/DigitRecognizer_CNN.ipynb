{
 "cells": [
  {
   "cell_type": "code",
   "execution_count": 1,
   "metadata": {
    "execution": {
     "iopub.execute_input": "2021-02-19T09:57:39.731038Z",
     "iopub.status.busy": "2021-02-19T09:57:39.730313Z",
     "iopub.status.idle": "2021-02-19T09:57:45.677655Z",
     "shell.execute_reply": "2021-02-19T09:57:45.676822Z"
    },
    "id": "f7gNkN0jfEFc",
    "papermill": {
     "duration": 5.967132,
     "end_time": "2021-02-19T09:57:45.677895",
     "exception": false,
     "start_time": "2021-02-19T09:57:39.710763",
     "status": "completed"
    },
    "tags": []
   },
   "outputs": [],
   "source": [
    "#All imports\n",
    "import warnings\n",
    "warnings.filterwarnings('ignore')\n",
    "\n",
    "import pandas as pd\n",
    "import numpy as np\n",
    "\n",
    "import matplotlib.pyplot as plt\n",
    "import seaborn as sns\n",
    "\n",
    "from sklearn.model_selection import train_test_split\n",
    "\n",
    "import tensorflow as tf"
   ]
  },
  {
   "cell_type": "code",
   "execution_count": 2,
   "metadata": {
    "execution": {
     "iopub.execute_input": "2021-02-19T09:57:45.708848Z",
     "iopub.status.busy": "2021-02-19T09:57:45.708008Z",
     "iopub.status.idle": "2021-02-19T09:57:45.710901Z",
     "shell.execute_reply": "2021-02-19T09:57:45.710429Z"
    },
    "id": "USdqyzg6OY2L",
    "papermill": {
     "duration": 0.019665,
     "end_time": "2021-02-19T09:57:45.711027",
     "exception": false,
     "start_time": "2021-02-19T09:57:45.691362",
     "status": "completed"
    },
    "tags": []
   },
   "outputs": [],
   "source": [
    "#set seed value for reproducibility\n",
    "seed_val=42\n",
    "\n",
    "tf.random.set_seed(seed_val)"
   ]
  },
  {
   "cell_type": "markdown",
   "metadata": {
    "id": "-RymDPZ1fnxK",
    "papermill": {
     "duration": 0.012069,
     "end_time": "2021-02-19T09:57:45.735279",
     "exception": false,
     "start_time": "2021-02-19T09:57:45.723210",
     "status": "completed"
    },
    "tags": []
   },
   "source": [
    "**Data Reading and Understanding**"
   ]
  },
  {
   "cell_type": "code",
   "execution_count": 3,
   "metadata": {
    "execution": {
     "iopub.execute_input": "2021-02-19T09:57:45.764590Z",
     "iopub.status.busy": "2021-02-19T09:57:45.764009Z",
     "iopub.status.idle": "2021-02-19T09:57:51.940501Z",
     "shell.execute_reply": "2021-02-19T09:57:51.941034Z"
    },
    "id": "or1NWbgFff1l",
    "outputId": "a1755d76-629d-44de-9ef6-1b8d56e17923",
    "papermill": {
     "duration": 6.193467,
     "end_time": "2021-02-19T09:57:51.941199",
     "exception": false,
     "start_time": "2021-02-19T09:57:45.747732",
     "status": "completed"
    },
    "tags": []
   },
   "outputs": [
    {
     "data": {
      "text/html": [
       "<div>\n",
       "<style scoped>\n",
       "    .dataframe tbody tr th:only-of-type {\n",
       "        vertical-align: middle;\n",
       "    }\n",
       "\n",
       "    .dataframe tbody tr th {\n",
       "        vertical-align: top;\n",
       "    }\n",
       "\n",
       "    .dataframe thead th {\n",
       "        text-align: right;\n",
       "    }\n",
       "</style>\n",
       "<table border=\"1\" class=\"dataframe\">\n",
       "  <thead>\n",
       "    <tr style=\"text-align: right;\">\n",
       "      <th></th>\n",
       "      <th>label</th>\n",
       "      <th>pixel0</th>\n",
       "      <th>pixel1</th>\n",
       "      <th>pixel2</th>\n",
       "      <th>pixel3</th>\n",
       "      <th>pixel4</th>\n",
       "      <th>pixel5</th>\n",
       "      <th>pixel6</th>\n",
       "      <th>pixel7</th>\n",
       "      <th>pixel8</th>\n",
       "      <th>...</th>\n",
       "      <th>pixel774</th>\n",
       "      <th>pixel775</th>\n",
       "      <th>pixel776</th>\n",
       "      <th>pixel777</th>\n",
       "      <th>pixel778</th>\n",
       "      <th>pixel779</th>\n",
       "      <th>pixel780</th>\n",
       "      <th>pixel781</th>\n",
       "      <th>pixel782</th>\n",
       "      <th>pixel783</th>\n",
       "    </tr>\n",
       "  </thead>\n",
       "  <tbody>\n",
       "    <tr>\n",
       "      <th>0</th>\n",
       "      <td>1</td>\n",
       "      <td>0</td>\n",
       "      <td>0</td>\n",
       "      <td>0</td>\n",
       "      <td>0</td>\n",
       "      <td>0</td>\n",
       "      <td>0</td>\n",
       "      <td>0</td>\n",
       "      <td>0</td>\n",
       "      <td>0</td>\n",
       "      <td>...</td>\n",
       "      <td>0</td>\n",
       "      <td>0</td>\n",
       "      <td>0</td>\n",
       "      <td>0</td>\n",
       "      <td>0</td>\n",
       "      <td>0</td>\n",
       "      <td>0</td>\n",
       "      <td>0</td>\n",
       "      <td>0</td>\n",
       "      <td>0</td>\n",
       "    </tr>\n",
       "    <tr>\n",
       "      <th>1</th>\n",
       "      <td>0</td>\n",
       "      <td>0</td>\n",
       "      <td>0</td>\n",
       "      <td>0</td>\n",
       "      <td>0</td>\n",
       "      <td>0</td>\n",
       "      <td>0</td>\n",
       "      <td>0</td>\n",
       "      <td>0</td>\n",
       "      <td>0</td>\n",
       "      <td>...</td>\n",
       "      <td>0</td>\n",
       "      <td>0</td>\n",
       "      <td>0</td>\n",
       "      <td>0</td>\n",
       "      <td>0</td>\n",
       "      <td>0</td>\n",
       "      <td>0</td>\n",
       "      <td>0</td>\n",
       "      <td>0</td>\n",
       "      <td>0</td>\n",
       "    </tr>\n",
       "    <tr>\n",
       "      <th>2</th>\n",
       "      <td>1</td>\n",
       "      <td>0</td>\n",
       "      <td>0</td>\n",
       "      <td>0</td>\n",
       "      <td>0</td>\n",
       "      <td>0</td>\n",
       "      <td>0</td>\n",
       "      <td>0</td>\n",
       "      <td>0</td>\n",
       "      <td>0</td>\n",
       "      <td>...</td>\n",
       "      <td>0</td>\n",
       "      <td>0</td>\n",
       "      <td>0</td>\n",
       "      <td>0</td>\n",
       "      <td>0</td>\n",
       "      <td>0</td>\n",
       "      <td>0</td>\n",
       "      <td>0</td>\n",
       "      <td>0</td>\n",
       "      <td>0</td>\n",
       "    </tr>\n",
       "    <tr>\n",
       "      <th>3</th>\n",
       "      <td>4</td>\n",
       "      <td>0</td>\n",
       "      <td>0</td>\n",
       "      <td>0</td>\n",
       "      <td>0</td>\n",
       "      <td>0</td>\n",
       "      <td>0</td>\n",
       "      <td>0</td>\n",
       "      <td>0</td>\n",
       "      <td>0</td>\n",
       "      <td>...</td>\n",
       "      <td>0</td>\n",
       "      <td>0</td>\n",
       "      <td>0</td>\n",
       "      <td>0</td>\n",
       "      <td>0</td>\n",
       "      <td>0</td>\n",
       "      <td>0</td>\n",
       "      <td>0</td>\n",
       "      <td>0</td>\n",
       "      <td>0</td>\n",
       "    </tr>\n",
       "    <tr>\n",
       "      <th>4</th>\n",
       "      <td>0</td>\n",
       "      <td>0</td>\n",
       "      <td>0</td>\n",
       "      <td>0</td>\n",
       "      <td>0</td>\n",
       "      <td>0</td>\n",
       "      <td>0</td>\n",
       "      <td>0</td>\n",
       "      <td>0</td>\n",
       "      <td>0</td>\n",
       "      <td>...</td>\n",
       "      <td>0</td>\n",
       "      <td>0</td>\n",
       "      <td>0</td>\n",
       "      <td>0</td>\n",
       "      <td>0</td>\n",
       "      <td>0</td>\n",
       "      <td>0</td>\n",
       "      <td>0</td>\n",
       "      <td>0</td>\n",
       "      <td>0</td>\n",
       "    </tr>\n",
       "  </tbody>\n",
       "</table>\n",
       "<p>5 rows × 785 columns</p>\n",
       "</div>"
      ],
      "text/plain": [
       "   label  pixel0  pixel1  pixel2  pixel3  pixel4  pixel5  pixel6  pixel7  \\\n",
       "0      1       0       0       0       0       0       0       0       0   \n",
       "1      0       0       0       0       0       0       0       0       0   \n",
       "2      1       0       0       0       0       0       0       0       0   \n",
       "3      4       0       0       0       0       0       0       0       0   \n",
       "4      0       0       0       0       0       0       0       0       0   \n",
       "\n",
       "   pixel8  ...  pixel774  pixel775  pixel776  pixel777  pixel778  pixel779  \\\n",
       "0       0  ...         0         0         0         0         0         0   \n",
       "1       0  ...         0         0         0         0         0         0   \n",
       "2       0  ...         0         0         0         0         0         0   \n",
       "3       0  ...         0         0         0         0         0         0   \n",
       "4       0  ...         0         0         0         0         0         0   \n",
       "\n",
       "   pixel780  pixel781  pixel782  pixel783  \n",
       "0         0         0         0         0  \n",
       "1         0         0         0         0  \n",
       "2         0         0         0         0  \n",
       "3         0         0         0         0  \n",
       "4         0         0         0         0  \n",
       "\n",
       "[5 rows x 785 columns]"
      ]
     },
     "execution_count": 3,
     "metadata": {},
     "output_type": "execute_result"
    }
   ],
   "source": [
    "#Read data\n",
    "train_df = pd.read_csv('/kaggle/input/digit-recognizer/train.csv')\n",
    "test_df = pd.read_csv('/kaggle/input/digit-recognizer/test.csv')\n",
    "train_df.head()"
   ]
  },
  {
   "cell_type": "code",
   "execution_count": 4,
   "metadata": {
    "execution": {
     "iopub.execute_input": "2021-02-19T09:57:52.020475Z",
     "iopub.status.busy": "2021-02-19T09:57:52.019656Z",
     "iopub.status.idle": "2021-02-19T09:57:52.023639Z",
     "shell.execute_reply": "2021-02-19T09:57:52.024093Z"
    },
    "id": "qExcUlCxf6QE",
    "outputId": "13646eb7-3f7a-4ad0-a125-745fbd70aeb7",
    "papermill": {
     "duration": 0.06915,
     "end_time": "2021-02-19T09:57:52.024264",
     "exception": false,
     "start_time": "2021-02-19T09:57:51.955114",
     "status": "completed"
    },
    "tags": []
   },
   "outputs": [
    {
     "name": "stdout",
     "output_type": "stream",
     "text": [
      "<class 'pandas.core.frame.DataFrame'>\n",
      "RangeIndex: 42000 entries, 0 to 41999\n",
      "Columns: 785 entries, label to pixel783\n",
      "dtypes: int64(785)\n",
      "memory usage: 251.5 MB\n"
     ]
    }
   ],
   "source": [
    "train_df.info()"
   ]
  },
  {
   "cell_type": "code",
   "execution_count": 5,
   "metadata": {
    "execution": {
     "iopub.execute_input": "2021-02-19T09:57:52.054849Z",
     "iopub.status.busy": "2021-02-19T09:57:52.054295Z",
     "iopub.status.idle": "2021-02-19T09:57:52.104375Z",
     "shell.execute_reply": "2021-02-19T09:57:52.104960Z"
    },
    "id": "zB84ckclgFRc",
    "outputId": "28ba8567-93e2-4f74-8c56-5beecf65765d",
    "papermill": {
     "duration": 0.066811,
     "end_time": "2021-02-19T09:57:52.105124",
     "exception": false,
     "start_time": "2021-02-19T09:57:52.038313",
     "status": "completed"
    },
    "tags": []
   },
   "outputs": [
    {
     "data": {
      "text/plain": [
       "Index([], dtype='object')"
      ]
     },
     "execution_count": 5,
     "metadata": {},
     "output_type": "execute_result"
    }
   ],
   "source": [
    "#Check if any null pixel value\n",
    "null_count = train_df.isnull().sum()\n",
    "null_count[null_count.values > 0].index"
   ]
  },
  {
   "cell_type": "code",
   "execution_count": 6,
   "metadata": {
    "execution": {
     "iopub.execute_input": "2021-02-19T09:57:52.136811Z",
     "iopub.status.busy": "2021-02-19T09:57:52.136238Z",
     "iopub.status.idle": "2021-02-19T09:57:52.325495Z",
     "shell.execute_reply": "2021-02-19T09:57:52.324919Z"
    },
    "id": "TKL-KCN6gbiC",
    "outputId": "bbe5b315-3240-4ee5-f094-a90ecf8d0369",
    "papermill": {
     "duration": 0.206059,
     "end_time": "2021-02-19T09:57:52.325646",
     "exception": false,
     "start_time": "2021-02-19T09:57:52.119587",
     "status": "completed"
    },
    "tags": []
   },
   "outputs": [
    {
     "data": {
      "image/png": "[encoded data removed]",
      "text/plain": [
       "<Figure size 432x288 with 1 Axes>"
      ]
     },
     "metadata": {
      "needs_background": "light"
     },
     "output_type": "display_data"
    }
   ],
   "source": [
    "#check distribution of samples for each label(i.e digit 0-9)\n",
    "sns.countplot(train_df['label'])\n",
    "plt.show()"
   ]
  },
  {
   "cell_type": "markdown",
   "metadata": {
    "id": "vm0Em1QgiPPF",
    "papermill": {
     "duration": 0.01471,
     "end_time": "2021-02-19T09:57:52.355206",
     "exception": false,
     "start_time": "2021-02-19T09:57:52.340496",
     "status": "completed"
    },
    "tags": []
   },
   "source": [
    "**Number of samples for each digit are close in count**"
   ]
  },
  {
   "cell_type": "code",
   "execution_count": 7,
   "metadata": {
    "execution": {
     "iopub.execute_input": "2021-02-19T09:57:52.407546Z",
     "iopub.status.busy": "2021-02-19T09:57:52.405560Z",
     "iopub.status.idle": "2021-02-19T09:57:52.788967Z",
     "shell.execute_reply": "2021-02-19T09:57:52.788306Z"
    },
    "id": "m2QPEh42h-m8",
    "outputId": "30a4892a-11db-4d29-8eca-6772bb69f43d",
    "papermill": {
     "duration": 0.418974,
     "end_time": "2021-02-19T09:57:52.789105",
     "exception": false,
     "start_time": "2021-02-19T09:57:52.370131",
     "status": "completed"
    },
    "tags": []
   },
   "outputs": [
    {
     "data": {
      "image/png": "[encoded data removed]",
      "text/plain": [
       "<Figure size 720x432 with 5 Axes>"
      ]
     },
     "metadata": {
      "needs_background": "light"
     },
     "output_type": "display_data"
    }
   ],
   "source": [
    "#display few images from train dataset\n",
    "fig, ax = plt.subplots(1,5, sharey=True, figsize=(10,6))\n",
    "\n",
    "for i in range(5):  \n",
    "  img = np.array(train_df.iloc[i, 1:])\n",
    "  ax[i].imshow(img.reshape(28,28), cmap='gray')"
   ]
  },
  {
   "cell_type": "markdown",
   "metadata": {
    "id": "g3UBDg5EmQQn",
    "papermill": {
     "duration": 0.016735,
     "end_time": "2021-02-19T09:57:52.821751",
     "exception": false,
     "start_time": "2021-02-19T09:57:52.805016",
     "status": "completed"
    },
    "tags": []
   },
   "source": [
    "**Data Preprocessing**"
   ]
  },
  {
   "cell_type": "code",
   "execution_count": 8,
   "metadata": {
    "execution": {
     "iopub.execute_input": "2021-02-19T09:57:52.857058Z",
     "iopub.status.busy": "2021-02-19T09:57:52.856307Z",
     "iopub.status.idle": "2021-02-19T09:57:52.859658Z",
     "shell.execute_reply": "2021-02-19T09:57:52.859135Z"
    },
    "id": "l9kGyTHejtlI",
    "papermill": {
     "duration": 0.022685,
     "end_time": "2021-02-19T09:57:52.859791",
     "exception": false,
     "start_time": "2021-02-19T09:57:52.837106",
     "status": "completed"
    },
    "tags": []
   },
   "outputs": [],
   "source": [
    "IMG_SHAPE =28\n",
    "BATCH_SZ=64"
   ]
  },
  {
   "cell_type": "code",
   "execution_count": 9,
   "metadata": {
    "execution": {
     "iopub.execute_input": "2021-02-19T09:57:52.898353Z",
     "iopub.status.busy": "2021-02-19T09:57:52.897728Z",
     "iopub.status.idle": "2021-02-19T09:57:53.165216Z",
     "shell.execute_reply": "2021-02-19T09:57:53.165638Z"
    },
    "id": "ojps2IVrmW7i",
    "papermill": {
     "duration": 0.290298,
     "end_time": "2021-02-19T09:57:53.165846",
     "exception": false,
     "start_time": "2021-02-19T09:57:52.875548",
     "status": "completed"
    },
    "tags": []
   },
   "outputs": [],
   "source": [
    "X = train_df.iloc[:,1:]\n",
    "y = train_df.iloc[:,0]\n",
    "\n",
    "X_train, X_val, y_train, y_val = train_test_split(X, y, train_size=0.8, random_state=100)"
   ]
  },
  {
   "cell_type": "code",
   "execution_count": 10,
   "metadata": {
    "execution": {
     "iopub.execute_input": "2021-02-19T09:57:53.200882Z",
     "iopub.status.busy": "2021-02-19T09:57:53.200275Z",
     "iopub.status.idle": "2021-02-19T09:57:53.205464Z",
     "shell.execute_reply": "2021-02-19T09:57:53.205956Z"
    },
    "id": "M4fLP7aq1PAp",
    "papermill": {
     "duration": 0.024147,
     "end_time": "2021-02-19T09:57:53.206123",
     "exception": false,
     "start_time": "2021-02-19T09:57:53.181976",
     "status": "completed"
    },
    "tags": []
   },
   "outputs": [],
   "source": [
    "#scale the images to bring pixel values in 0-1 range\n",
    "def preprocess_img(img):\n",
    "  img = np.array(img, dtype=np.float32)\n",
    "  img = img.reshape(IMG_SHAPE, IMG_SHAPE)\n",
    "  img = img/255  \n",
    "  img = img[:,:,np.newaxis]\n",
    "  return img"
   ]
  },
  {
   "cell_type": "code",
   "execution_count": 11,
   "metadata": {
    "execution": {
     "iopub.execute_input": "2021-02-19T09:57:53.245808Z",
     "iopub.status.busy": "2021-02-19T09:57:53.245179Z",
     "iopub.status.idle": "2021-02-19T09:57:54.693591Z",
     "shell.execute_reply": "2021-02-19T09:57:54.693069Z"
    },
    "id": "liwqV0L2xzlg",
    "papermill": {
     "duration": 1.470787,
     "end_time": "2021-02-19T09:57:54.693768",
     "exception": false,
     "start_time": "2021-02-19T09:57:53.222981",
     "status": "completed"
    },
    "tags": []
   },
   "outputs": [],
   "source": [
    "#Convert datasets to rank 4 dimension(#ofsamples, height, width, depth)\n",
    "X_train = X_train.apply(lambda x:preprocess_img(x), axis=1)\n",
    "X_val = X_val.apply(lambda x:preprocess_img(x), axis=1)\n",
    "\n",
    "X_train = np.stack(X_train)\n",
    "X_val = np.stack(X_val)\n",
    "\n",
    "y_train = tf.keras.utils.to_categorical(y_train, num_classes=10)\n",
    "y_val = tf.keras.utils.to_categorical(y_val, num_classes=10)"
   ]
  },
  {
   "cell_type": "markdown",
   "metadata": {
    "id": "D9_zAu7F1xpA",
    "papermill": {
     "duration": 0.015874,
     "end_time": "2021-02-19T09:57:54.725911",
     "exception": false,
     "start_time": "2021-02-19T09:57:54.710037",
     "status": "completed"
    },
    "tags": []
   },
   "source": [
    "**Modelling**"
   ]
  },
  {
   "cell_type": "code",
   "execution_count": 12,
   "metadata": {
    "execution": {
     "iopub.execute_input": "2021-02-19T09:57:54.767488Z",
     "iopub.status.busy": "2021-02-19T09:57:54.766865Z",
     "iopub.status.idle": "2021-02-19T09:57:55.057772Z",
     "shell.execute_reply": "2021-02-19T09:57:55.057114Z"
    },
    "id": "-zxvaw1-phYA",
    "papermill": {
     "duration": 0.315613,
     "end_time": "2021-02-19T09:57:55.057926",
     "exception": false,
     "start_time": "2021-02-19T09:57:54.742313",
     "status": "completed"
    },
    "tags": []
   },
   "outputs": [],
   "source": [
    "#Define CNN\n",
    "model = tf.keras.models.Sequential([\n",
    "          tf.keras.layers.Conv2D(16, 3, padding='same', activation='relu', input_shape=(IMG_SHAPE,IMG_SHAPE, 1)),\n",
    "          tf.keras.layers.MaxPooling2D(pool_size=(2, 2)),\n",
    "          \n",
    "          tf.keras.layers.Conv2D(32, 3, padding='same', activation='relu'),\n",
    "          tf.keras.layers.MaxPooling2D(pool_size=(2, 2)),\n",
    "          \n",
    "          tf.keras.layers.Conv2D(64, 3, padding='same', activation='relu'),\n",
    "          tf.keras.layers.MaxPooling2D(pool_size=(2, 2)),\n",
    "          \n",
    "          tf.keras.layers.Flatten(),\n",
    "          tf.keras.layers.Dropout(0.2),\n",
    "\n",
    "          tf.keras.layers.Dense(512, activation='relu'),\n",
    "          tf.keras.layers.Dropout(0.2),\n",
    "          tf.keras.layers.Dense(10, activation='softmax')\n",
    "        ])\n",
    "\n",
    "model.compile(optimizer='adam', loss=tf.keras.losses.CategoricalCrossentropy(), metrics=['accuracy'])"
   ]
  },
  {
   "cell_type": "code",
   "execution_count": 13,
   "metadata": {
    "execution": {
     "iopub.execute_input": "2021-02-19T09:57:55.109314Z",
     "iopub.status.busy": "2021-02-19T09:57:55.108559Z",
     "iopub.status.idle": "2021-02-19T10:21:16.770891Z",
     "shell.execute_reply": "2021-02-19T10:21:16.769840Z"
    },
    "id": "lQvXFFIe3a2D",
    "outputId": "34e0c76a-2825-47ae-8c35-0ff23e4f78dd",
    "papermill": {
     "duration": 1401.687616,
     "end_time": "2021-02-19T10:21:16.771083",
     "exception": false,
     "start_time": "2021-02-19T09:57:55.083467",
     "status": "completed"
    },
    "tags": []
   },
   "outputs": [
    {
     "name": "stdout",
     "output_type": "stream",
     "text": [
      "Epoch 1/100\n",
      "525/525 [==============================] - 16s 30ms/step - loss: 0.6348 - accuracy: 0.7933 - val_loss: 0.0925 - val_accuracy: 0.9712\n",
      "\n",
      "Epoch 00001: val_accuracy improved from -inf to 0.97119, saving model to best_model.h5\n",
      "Epoch 2/100\n",
      "525/525 [==============================] - 15s 29ms/step - loss: 0.0831 - accuracy: 0.9734 - val_loss: 0.0577 - val_accuracy: 0.9814\n",
      "\n",
      "Epoch 00002: val_accuracy improved from 0.97119 to 0.98143, saving model to best_model.h5\n",
      "Epoch 3/100\n",
      "525/525 [==============================] - 15s 29ms/step - loss: 0.0581 - accuracy: 0.9806 - val_loss: 0.0484 - val_accuracy: 0.9851\n",
      "\n",
      "Epoch 00003: val_accuracy improved from 0.98143 to 0.98512, saving model to best_model.h5\n",
      "Epoch 4/100\n",
      "525/525 [==============================] - 16s 30ms/step - loss: 0.0427 - accuracy: 0.9860 - val_loss: 0.0503 - val_accuracy: 0.9846\n",
      "\n",
      "Epoch 00004: val_accuracy did not improve from 0.98512\n",
      "Epoch 5/100\n",
      "525/525 [==============================] - 15s 29ms/step - loss: 0.0374 - accuracy: 0.9883 - val_loss: 0.0369 - val_accuracy: 0.9879\n",
      "\n",
      "Epoch 00005: val_accuracy improved from 0.98512 to 0.98786, saving model to best_model.h5\n",
      "Epoch 6/100\n",
      "525/525 [==============================] - 16s 30ms/step - loss: 0.0332 - accuracy: 0.9896 - val_loss: 0.0402 - val_accuracy: 0.9875\n",
      "\n",
      "Epoch 00006: val_accuracy did not improve from 0.98786\n",
      "Epoch 7/100\n",
      "525/525 [==============================] - 15s 28ms/step - loss: 0.0258 - accuracy: 0.9916 - val_loss: 0.0418 - val_accuracy: 0.9871\n",
      "\n",
      "Epoch 00007: val_accuracy did not improve from 0.98786\n",
      "Epoch 8/100\n",
      "525/525 [==============================] - 15s 29ms/step - loss: 0.0219 - accuracy: 0.9929 - val_loss: 0.0443 - val_accuracy: 0.9879\n",
      "\n",
      "Epoch 00008: val_accuracy did not improve from 0.98786\n",
      "Epoch 9/100\n",
      "525/525 [==============================] - 15s 29ms/step - loss: 0.0204 - accuracy: 0.9926 - val_loss: 0.0367 - val_accuracy: 0.9899\n",
      "\n",
      "Epoch 00009: val_accuracy improved from 0.98786 to 0.98988, saving model to best_model.h5\n",
      "Epoch 10/100\n",
      "525/525 [==============================] - 15s 29ms/step - loss: 0.0203 - accuracy: 0.9927 - val_loss: 0.0505 - val_accuracy: 0.9864\n",
      "\n",
      "Epoch 00010: val_accuracy did not improve from 0.98988\n",
      "Epoch 11/100\n",
      "525/525 [==============================] - 15s 29ms/step - loss: 0.0190 - accuracy: 0.9936 - val_loss: 0.0400 - val_accuracy: 0.9900\n",
      "\n",
      "Epoch 00011: val_accuracy improved from 0.98988 to 0.99000, saving model to best_model.h5\n",
      "Epoch 12/100\n",
      "525/525 [==============================] - 15s 29ms/step - loss: 0.0140 - accuracy: 0.9951 - val_loss: 0.0393 - val_accuracy: 0.9887\n",
      "\n",
      "Epoch 00012: val_accuracy did not improve from 0.99000\n",
      "Epoch 13/100\n",
      "525/525 [==============================] - 15s 29ms/step - loss: 0.0129 - accuracy: 0.9959 - val_loss: 0.0428 - val_accuracy: 0.9882\n",
      "\n",
      "Epoch 00013: val_accuracy did not improve from 0.99000\n",
      "Epoch 14/100\n",
      "525/525 [==============================] - 15s 29ms/step - loss: 0.0140 - accuracy: 0.9955 - val_loss: 0.0546 - val_accuracy: 0.9868\n",
      "\n",
      "Epoch 00014: val_accuracy did not improve from 0.99000\n",
      "Epoch 15/100\n",
      "525/525 [==============================] - 15s 29ms/step - loss: 0.0139 - accuracy: 0.9950 - val_loss: 0.0331 - val_accuracy: 0.9913\n",
      "\n",
      "Epoch 00015: val_accuracy improved from 0.99000 to 0.99131, saving model to best_model.h5\n",
      "Epoch 16/100\n",
      "525/525 [==============================] - 15s 28ms/step - loss: 0.0102 - accuracy: 0.9966 - val_loss: 0.0468 - val_accuracy: 0.9877\n",
      "\n",
      "Epoch 00016: val_accuracy did not improve from 0.99131\n",
      "Epoch 17/100\n",
      "525/525 [==============================] - 16s 30ms/step - loss: 0.0092 - accuracy: 0.9967 - val_loss: 0.0466 - val_accuracy: 0.9901\n",
      "\n",
      "Epoch 00017: val_accuracy did not improve from 0.99131\n",
      "Epoch 18/100\n",
      "525/525 [==============================] - 15s 28ms/step - loss: 0.0116 - accuracy: 0.9962 - val_loss: 0.0529 - val_accuracy: 0.9865\n",
      "\n",
      "Epoch 00018: val_accuracy did not improve from 0.99131\n",
      "Epoch 19/100\n",
      "525/525 [==============================] - 16s 30ms/step - loss: 0.0100 - accuracy: 0.9963 - val_loss: 0.0401 - val_accuracy: 0.9895\n",
      "\n",
      "Epoch 00019: val_accuracy did not improve from 0.99131\n",
      "Epoch 20/100\n",
      "525/525 [==============================] - 15s 28ms/step - loss: 0.0086 - accuracy: 0.9973 - val_loss: 0.0516 - val_accuracy: 0.9902\n",
      "\n",
      "Epoch 00020: val_accuracy did not improve from 0.99131\n",
      "Epoch 21/100\n",
      "525/525 [==============================] - 16s 30ms/step - loss: 0.0099 - accuracy: 0.9969 - val_loss: 0.0589 - val_accuracy: 0.9871\n",
      "\n",
      "Epoch 00021: val_accuracy did not improve from 0.99131\n",
      "Epoch 22/100\n",
      "525/525 [==============================] - 15s 29ms/step - loss: 0.0099 - accuracy: 0.9967 - val_loss: 0.0405 - val_accuracy: 0.9908\n",
      "\n",
      "Epoch 00022: val_accuracy did not improve from 0.99131\n",
      "Epoch 23/100\n",
      "525/525 [==============================] - 16s 30ms/step - loss: 0.0080 - accuracy: 0.9971 - val_loss: 0.0405 - val_accuracy: 0.9914\n",
      "\n",
      "Epoch 00023: val_accuracy improved from 0.99131 to 0.99143, saving model to best_model.h5\n",
      "Epoch 24/100\n",
      "525/525 [==============================] - 15s 29ms/step - loss: 0.0073 - accuracy: 0.9981 - val_loss: 0.0509 - val_accuracy: 0.9894\n",
      "\n",
      "Epoch 00024: val_accuracy did not improve from 0.99143\n",
      "Epoch 25/100\n",
      "525/525 [==============================] - 16s 30ms/step - loss: 0.0066 - accuracy: 0.9980 - val_loss: 0.0426 - val_accuracy: 0.9905\n",
      "\n",
      "Epoch 00025: val_accuracy did not improve from 0.99143\n",
      "Epoch 26/100\n",
      "525/525 [==============================] - 15s 28ms/step - loss: 0.0087 - accuracy: 0.9971 - val_loss: 0.0484 - val_accuracy: 0.9902\n",
      "\n",
      "Epoch 00026: val_accuracy did not improve from 0.99143\n",
      "Epoch 27/100\n",
      "525/525 [==============================] - 15s 29ms/step - loss: 0.0088 - accuracy: 0.9970 - val_loss: 0.0565 - val_accuracy: 0.9895\n",
      "\n",
      "Epoch 00027: val_accuracy did not improve from 0.99143\n",
      "Epoch 28/100\n",
      "525/525 [==============================] - 15s 29ms/step - loss: 0.0083 - accuracy: 0.9973 - val_loss: 0.0535 - val_accuracy: 0.9887\n",
      "\n",
      "Epoch 00028: val_accuracy did not improve from 0.99143\n",
      "Epoch 29/100\n",
      "525/525 [==============================] - 15s 29ms/step - loss: 0.0089 - accuracy: 0.9976 - val_loss: 0.0395 - val_accuracy: 0.9913\n",
      "\n",
      "Epoch 00029: val_accuracy did not improve from 0.99143\n",
      "Epoch 30/100\n",
      "525/525 [==============================] - 16s 30ms/step - loss: 0.0067 - accuracy: 0.9978 - val_loss: 0.0435 - val_accuracy: 0.9904\n",
      "\n",
      "Epoch 00030: val_accuracy did not improve from 0.99143\n",
      "Epoch 31/100\n",
      "525/525 [==============================] - 15s 29ms/step - loss: 0.0072 - accuracy: 0.9974 - val_loss: 0.0567 - val_accuracy: 0.9894\n",
      "\n",
      "Epoch 00031: val_accuracy did not improve from 0.99143\n",
      "Epoch 32/100\n",
      "525/525 [==============================] - 16s 30ms/step - loss: 0.0067 - accuracy: 0.9978 - val_loss: 0.0539 - val_accuracy: 0.9896\n",
      "\n",
      "Epoch 00032: val_accuracy did not improve from 0.99143\n",
      "Epoch 33/100\n",
      "525/525 [==============================] - 15s 29ms/step - loss: 0.0046 - accuracy: 0.9987 - val_loss: 0.0423 - val_accuracy: 0.9896\n",
      "\n",
      "Epoch 00033: val_accuracy did not improve from 0.99143\n",
      "Epoch 34/100\n",
      "525/525 [==============================] - 16s 30ms/step - loss: 0.0046 - accuracy: 0.9984 - val_loss: 0.0579 - val_accuracy: 0.9907\n",
      "\n",
      "Epoch 00034: val_accuracy did not improve from 0.99143\n",
      "Epoch 35/100\n",
      "525/525 [==============================] - 15s 28ms/step - loss: 0.0066 - accuracy: 0.9974 - val_loss: 0.0465 - val_accuracy: 0.9901\n",
      "\n",
      "Epoch 00035: val_accuracy did not improve from 0.99143\n",
      "Epoch 36/100\n",
      "525/525 [==============================] - 16s 31ms/step - loss: 0.0045 - accuracy: 0.9985 - val_loss: 0.0569 - val_accuracy: 0.9883\n",
      "\n",
      "Epoch 00036: val_accuracy did not improve from 0.99143\n",
      "Epoch 37/100\n",
      "525/525 [==============================] - 15s 28ms/step - loss: 0.0084 - accuracy: 0.9982 - val_loss: 0.0495 - val_accuracy: 0.9898\n",
      "\n",
      "Epoch 00037: val_accuracy did not improve from 0.99143\n",
      "Epoch 38/100\n",
      "525/525 [==============================] - 15s 29ms/step - loss: 0.0063 - accuracy: 0.9982 - val_loss: 0.0451 - val_accuracy: 0.9908\n",
      "\n",
      "Epoch 00038: val_accuracy did not improve from 0.99143\n",
      "Epoch 39/100\n",
      "525/525 [==============================] - 16s 30ms/step - loss: 0.0026 - accuracy: 0.9991 - val_loss: 0.0567 - val_accuracy: 0.9895\n",
      "\n",
      "Epoch 00039: val_accuracy did not improve from 0.99143\n",
      "Epoch 40/100\n",
      "525/525 [==============================] - 15s 29ms/step - loss: 0.0082 - accuracy: 0.9980 - val_loss: 0.0535 - val_accuracy: 0.9895\n",
      "\n",
      "Epoch 00040: val_accuracy did not improve from 0.99143\n",
      "Epoch 41/100\n",
      "525/525 [==============================] - 16s 30ms/step - loss: 0.0072 - accuracy: 0.9980 - val_loss: 0.0498 - val_accuracy: 0.9919\n",
      "\n",
      "Epoch 00041: val_accuracy improved from 0.99143 to 0.99190, saving model to best_model.h5\n",
      "Epoch 42/100\n",
      "525/525 [==============================] - 15s 29ms/step - loss: 0.0080 - accuracy: 0.9970 - val_loss: 0.0540 - val_accuracy: 0.9889\n",
      "\n",
      "Epoch 00042: val_accuracy did not improve from 0.99190\n",
      "Epoch 43/100\n",
      "525/525 [==============================] - 16s 30ms/step - loss: 0.0066 - accuracy: 0.9975 - val_loss: 0.0514 - val_accuracy: 0.9902\n",
      "\n",
      "Epoch 00043: val_accuracy did not improve from 0.99190\n",
      "Epoch 44/100\n",
      "525/525 [==============================] - 16s 30ms/step - loss: 0.0038 - accuracy: 0.9989 - val_loss: 0.0666 - val_accuracy: 0.9900\n",
      "\n",
      "Epoch 00044: val_accuracy did not improve from 0.99190\n",
      "Epoch 45/100\n",
      "525/525 [==============================] - 15s 29ms/step - loss: 0.0037 - accuracy: 0.9987 - val_loss: 0.0528 - val_accuracy: 0.9910\n",
      "\n",
      "Epoch 00045: val_accuracy did not improve from 0.99190\n",
      "Epoch 46/100\n",
      "525/525 [==============================] - 16s 30ms/step - loss: 0.0075 - accuracy: 0.9976 - val_loss: 0.0495 - val_accuracy: 0.9904\n",
      "\n",
      "Epoch 00046: val_accuracy did not improve from 0.99190\n",
      "Epoch 47/100\n",
      "525/525 [==============================] - 15s 28ms/step - loss: 0.0053 - accuracy: 0.9982 - val_loss: 0.0536 - val_accuracy: 0.9908\n",
      "\n",
      "Epoch 00047: val_accuracy did not improve from 0.99190\n",
      "Epoch 48/100\n",
      "525/525 [==============================] - 16s 31ms/step - loss: 0.0054 - accuracy: 0.9983 - val_loss: 0.0660 - val_accuracy: 0.9879\n",
      "\n",
      "Epoch 00048: val_accuracy did not improve from 0.99190\n",
      "Epoch 49/100\n",
      "525/525 [==============================] - 15s 29ms/step - loss: 0.0057 - accuracy: 0.9981 - val_loss: 0.0606 - val_accuracy: 0.9890\n",
      "\n",
      "Epoch 00049: val_accuracy did not improve from 0.99190\n",
      "Epoch 50/100\n",
      "525/525 [==============================] - 16s 31ms/step - loss: 0.0058 - accuracy: 0.9983 - val_loss: 0.0578 - val_accuracy: 0.9910\n",
      "\n",
      "Epoch 00050: val_accuracy did not improve from 0.99190\n",
      "Epoch 51/100\n",
      "525/525 [==============================] - 15s 28ms/step - loss: 0.0030 - accuracy: 0.9992 - val_loss: 0.0591 - val_accuracy: 0.9890\n",
      "\n",
      "Epoch 00051: val_accuracy did not improve from 0.99190\n",
      "Epoch 52/100\n",
      "525/525 [==============================] - 15s 29ms/step - loss: 0.0041 - accuracy: 0.9987 - val_loss: 0.0590 - val_accuracy: 0.9893\n",
      "\n",
      "Epoch 00052: val_accuracy did not improve from 0.99190\n",
      "Epoch 53/100\n",
      "525/525 [==============================] - 16s 30ms/step - loss: 0.0058 - accuracy: 0.9978 - val_loss: 0.0568 - val_accuracy: 0.9907\n",
      "\n",
      "Epoch 00053: val_accuracy did not improve from 0.99190\n",
      "Epoch 54/100\n",
      "525/525 [==============================] - 15s 29ms/step - loss: 0.0033 - accuracy: 0.9990 - val_loss: 0.0598 - val_accuracy: 0.9911\n",
      "\n",
      "Epoch 00054: val_accuracy did not improve from 0.99190\n",
      "Epoch 55/100\n",
      "525/525 [==============================] - 16s 31ms/step - loss: 0.0036 - accuracy: 0.9989 - val_loss: 0.0641 - val_accuracy: 0.9898\n",
      "\n",
      "Epoch 00055: val_accuracy did not improve from 0.99190\n",
      "Epoch 56/100\n",
      "525/525 [==============================] - 15s 29ms/step - loss: 0.0070 - accuracy: 0.9980 - val_loss: 0.0612 - val_accuracy: 0.9902\n",
      "\n",
      "Epoch 00056: val_accuracy did not improve from 0.99190\n",
      "Epoch 57/100\n",
      "525/525 [==============================] - 16s 30ms/step - loss: 0.0065 - accuracy: 0.9981 - val_loss: 0.0623 - val_accuracy: 0.9917\n",
      "\n",
      "Epoch 00057: val_accuracy did not improve from 0.99190\n",
      "Epoch 58/100\n",
      "525/525 [==============================] - 15s 29ms/step - loss: 0.0023 - accuracy: 0.9993 - val_loss: 0.0632 - val_accuracy: 0.9894\n",
      "\n",
      "Epoch 00058: val_accuracy did not improve from 0.99190\n",
      "Epoch 59/100\n",
      "525/525 [==============================] - 15s 28ms/step - loss: 0.0040 - accuracy: 0.9988 - val_loss: 0.0612 - val_accuracy: 0.9893\n",
      "\n",
      "Epoch 00059: val_accuracy did not improve from 0.99190\n",
      "Epoch 60/100\n",
      "525/525 [==============================] - 15s 29ms/step - loss: 0.0044 - accuracy: 0.9988 - val_loss: 0.0648 - val_accuracy: 0.9886\n",
      "\n",
      "Epoch 00060: val_accuracy did not improve from 0.99190\n",
      "Epoch 61/100\n",
      "525/525 [==============================] - 15s 28ms/step - loss: 0.0058 - accuracy: 0.9981 - val_loss: 0.0547 - val_accuracy: 0.9899\n",
      "\n",
      "Epoch 00061: val_accuracy did not improve from 0.99190\n",
      "Epoch 62/100\n",
      "525/525 [==============================] - 17s 32ms/step - loss: 0.0038 - accuracy: 0.9987 - val_loss: 0.0628 - val_accuracy: 0.9881\n",
      "\n",
      "Epoch 00062: val_accuracy did not improve from 0.99190\n",
      "Epoch 63/100\n",
      "525/525 [==============================] - 15s 28ms/step - loss: 0.0034 - accuracy: 0.9986 - val_loss: 0.0665 - val_accuracy: 0.9906\n",
      "\n",
      "Epoch 00063: val_accuracy did not improve from 0.99190\n",
      "Epoch 64/100\n",
      "525/525 [==============================] - 15s 29ms/step - loss: 0.0028 - accuracy: 0.9993 - val_loss: 0.0636 - val_accuracy: 0.9893\n",
      "\n",
      "Epoch 00064: val_accuracy did not improve from 0.99190\n",
      "Epoch 65/100\n",
      "525/525 [==============================] - 15s 29ms/step - loss: 0.0046 - accuracy: 0.9984 - val_loss: 0.0723 - val_accuracy: 0.9886\n",
      "\n",
      "Epoch 00065: val_accuracy did not improve from 0.99190\n",
      "Epoch 66/100\n",
      "525/525 [==============================] - 16s 31ms/step - loss: 0.0071 - accuracy: 0.9979 - val_loss: 0.0644 - val_accuracy: 0.9902\n",
      "\n",
      "Epoch 00066: val_accuracy did not improve from 0.99190\n",
      "Epoch 67/100\n",
      "525/525 [==============================] - 15s 29ms/step - loss: 0.0028 - accuracy: 0.9992 - val_loss: 0.0676 - val_accuracy: 0.9898\n",
      "\n",
      "Epoch 00067: val_accuracy did not improve from 0.99190\n",
      "Epoch 68/100\n",
      "525/525 [==============================] - 15s 28ms/step - loss: 0.0051 - accuracy: 0.9987 - val_loss: 0.0761 - val_accuracy: 0.9898\n",
      "\n",
      "Epoch 00068: val_accuracy did not improve from 0.99190\n",
      "Epoch 69/100\n",
      "525/525 [==============================] - 15s 29ms/step - loss: 0.0049 - accuracy: 0.9985 - val_loss: 0.0750 - val_accuracy: 0.9912\n",
      "\n",
      "Epoch 00069: val_accuracy did not improve from 0.99190\n",
      "Epoch 70/100\n",
      "525/525 [==============================] - 15s 28ms/step - loss: 0.0029 - accuracy: 0.9991 - val_loss: 0.0610 - val_accuracy: 0.9910\n",
      "\n",
      "Epoch 00070: val_accuracy did not improve from 0.99190\n",
      "Epoch 71/100\n",
      "525/525 [==============================] - 17s 32ms/step - loss: 0.0046 - accuracy: 0.9988 - val_loss: 0.0795 - val_accuracy: 0.9896\n",
      "\n",
      "Epoch 00071: val_accuracy did not improve from 0.99190\n",
      "Epoch 72/100\n",
      "525/525 [==============================] - 15s 28ms/step - loss: 0.0032 - accuracy: 0.9990 - val_loss: 0.0708 - val_accuracy: 0.9895\n",
      "\n",
      "Epoch 00072: val_accuracy did not improve from 0.99190\n",
      "Epoch 73/100\n",
      "525/525 [==============================] - 15s 29ms/step - loss: 0.0053 - accuracy: 0.9984 - val_loss: 0.0735 - val_accuracy: 0.9895\n",
      "\n",
      "Epoch 00073: val_accuracy did not improve from 0.99190\n",
      "Epoch 74/100\n",
      "525/525 [==============================] - 15s 28ms/step - loss: 0.0034 - accuracy: 0.9988 - val_loss: 0.0828 - val_accuracy: 0.9893\n",
      "\n",
      "Epoch 00074: val_accuracy did not improve from 0.99190\n",
      "Epoch 75/100\n",
      "525/525 [==============================] - 17s 32ms/step - loss: 0.0061 - accuracy: 0.9985 - val_loss: 0.0804 - val_accuracy: 0.9912\n",
      "\n",
      "Epoch 00075: val_accuracy did not improve from 0.99190\n",
      "Epoch 76/100\n",
      "525/525 [==============================] - 15s 29ms/step - loss: 0.0040 - accuracy: 0.9989 - val_loss: 0.0690 - val_accuracy: 0.9902\n",
      "\n",
      "Epoch 00076: val_accuracy did not improve from 0.99190\n",
      "Epoch 77/100\n",
      "525/525 [==============================] - 15s 29ms/step - loss: 0.0032 - accuracy: 0.9989 - val_loss: 0.0667 - val_accuracy: 0.9902\n",
      "\n",
      "Epoch 00077: val_accuracy did not improve from 0.99190\n",
      "Epoch 78/100\n",
      "525/525 [==============================] - 15s 28ms/step - loss: 0.0042 - accuracy: 0.9990 - val_loss: 0.0627 - val_accuracy: 0.9915\n",
      "\n",
      "Epoch 00078: val_accuracy did not improve from 0.99190\n",
      "Epoch 79/100\n",
      "525/525 [==============================] - 15s 29ms/step - loss: 0.0026 - accuracy: 0.9993 - val_loss: 0.0804 - val_accuracy: 0.9912\n",
      "\n",
      "Epoch 00079: val_accuracy did not improve from 0.99190\n",
      "Epoch 80/100\n",
      "525/525 [==============================] - 17s 32ms/step - loss: 0.0031 - accuracy: 0.9993 - val_loss: 0.0715 - val_accuracy: 0.9906\n",
      "\n",
      "Epoch 00080: val_accuracy did not improve from 0.99190\n",
      "Epoch 81/100\n",
      "525/525 [==============================] - 15s 29ms/step - loss: 0.0053 - accuracy: 0.9983 - val_loss: 0.0732 - val_accuracy: 0.9904\n",
      "\n",
      "Epoch 00081: val_accuracy did not improve from 0.99190\n",
      "Epoch 82/100\n",
      "525/525 [==============================] - 15s 28ms/step - loss: 0.0067 - accuracy: 0.9984 - val_loss: 0.0692 - val_accuracy: 0.9902\n",
      "\n",
      "Epoch 00082: val_accuracy did not improve from 0.99190\n",
      "Epoch 83/100\n",
      "525/525 [==============================] - 15s 29ms/step - loss: 0.0029 - accuracy: 0.9993 - val_loss: 0.0800 - val_accuracy: 0.9913\n",
      "\n",
      "Epoch 00083: val_accuracy did not improve from 0.99190\n",
      "Epoch 84/100\n",
      "525/525 [==============================] - 16s 31ms/step - loss: 0.0035 - accuracy: 0.9991 - val_loss: 0.0817 - val_accuracy: 0.9895\n",
      "\n",
      "Epoch 00084: val_accuracy did not improve from 0.99190\n",
      "Epoch 85/100\n",
      "525/525 [==============================] - 16s 30ms/step - loss: 0.0022 - accuracy: 0.9993 - val_loss: 0.0869 - val_accuracy: 0.9902\n",
      "\n",
      "Epoch 00085: val_accuracy did not improve from 0.99190\n",
      "Epoch 86/100\n",
      "525/525 [==============================] - 15s 28ms/step - loss: 0.0045 - accuracy: 0.9990 - val_loss: 0.0765 - val_accuracy: 0.9910\n",
      "\n",
      "Epoch 00086: val_accuracy did not improve from 0.99190\n",
      "Epoch 87/100\n",
      "525/525 [==============================] - 15s 28ms/step - loss: 0.0040 - accuracy: 0.9987 - val_loss: 0.0879 - val_accuracy: 0.9899\n",
      "\n",
      "Epoch 00087: val_accuracy did not improve from 0.99190\n",
      "Epoch 88/100\n",
      "525/525 [==============================] - 15s 29ms/step - loss: 0.0041 - accuracy: 0.9989 - val_loss: 0.0839 - val_accuracy: 0.9901\n",
      "\n",
      "Epoch 00088: val_accuracy did not improve from 0.99190\n",
      "Epoch 89/100\n",
      "525/525 [==============================] - 17s 33ms/step - loss: 0.0021 - accuracy: 0.9992 - val_loss: 0.0694 - val_accuracy: 0.9906\n",
      "\n",
      "Epoch 00089: val_accuracy did not improve from 0.99190\n",
      "Epoch 90/100\n",
      "525/525 [==============================] - 15s 29ms/step - loss: 0.0015 - accuracy: 0.9997 - val_loss: 0.0764 - val_accuracy: 0.9902\n",
      "\n",
      "Epoch 00090: val_accuracy did not improve from 0.99190\n",
      "Epoch 91/100\n",
      "525/525 [==============================] - 15s 28ms/step - loss: 0.0047 - accuracy: 0.9990 - val_loss: 0.0700 - val_accuracy: 0.9902\n",
      "\n",
      "Epoch 00091: val_accuracy did not improve from 0.99190\n"
     ]
    },
    {
     "data": {
      "text/plain": [
       "<tensorflow.python.keras.callbacks.History at 0x7f4805b54f90>"
      ]
     },
     "execution_count": 13,
     "metadata": {},
     "output_type": "execute_result"
    }
   ],
   "source": [
    "#stop iterations if model does not show any improvement for 50 consecutive epochs\n",
    "model_checkpoint = tf.keras.callbacks.ModelCheckpoint('best_model.h5', monitor='val_accuracy', verbose=1, save_best_only=True, mode='max')\n",
    "early_stopping = tf.keras.callbacks.EarlyStopping(monitor='val_accuracy',patience=50, mode='max')\n",
    "\n",
    "model.fit(X_train,y_train,       \n",
    "          steps_per_epoch=np.ceil(len(X_train)/BATCH_SZ),\n",
    "          epochs=100,\n",
    "          validation_data=(X_val, y_val),\n",
    "          validation_steps = np.ceil(len(X_val)/BATCH_SZ),\n",
    "          callbacks = [model_checkpoint, early_stopping]          \n",
    "          )"
   ]
  },
  {
   "cell_type": "markdown",
   "metadata": {
    "id": "hKH6_5e0JRpA",
    "papermill": {
     "duration": 9.208369,
     "end_time": "2021-02-19T10:21:35.029298",
     "exception": false,
     "start_time": "2021-02-19T10:21:25.820929",
     "status": "completed"
    },
    "tags": []
   },
   "source": [
    "**Fetch the saved best model**"
   ]
  },
  {
   "cell_type": "code",
   "execution_count": 14,
   "metadata": {
    "execution": {
     "iopub.execute_input": "2021-02-19T10:21:51.313640Z",
     "iopub.status.busy": "2021-02-19T10:21:51.312985Z",
     "iopub.status.idle": "2021-02-19T10:21:51.422286Z",
     "shell.execute_reply": "2021-02-19T10:21:51.421744Z"
    },
    "id": "FViKjO3gJT67",
    "papermill": {
     "duration": 7.765883,
     "end_time": "2021-02-19T10:21:51.422419",
     "exception": false,
     "start_time": "2021-02-19T10:21:43.656536",
     "status": "completed"
    },
    "tags": []
   },
   "outputs": [],
   "source": [
    "final_model = tf.keras.models.load_model('./best_model.h5')"
   ]
  },
  {
   "cell_type": "markdown",
   "metadata": {
    "id": "xVKF8bZRIPAF",
    "papermill": {
     "duration": 7.108584,
     "end_time": "2021-02-19T10:22:05.738824",
     "exception": false,
     "start_time": "2021-02-19T10:21:58.630240",
     "status": "completed"
    },
    "tags": []
   },
   "source": [
    "**Prediction on test set**"
   ]
  },
  {
   "cell_type": "code",
   "execution_count": 15,
   "metadata": {
    "execution": {
     "iopub.execute_input": "2021-02-19T10:22:20.036259Z",
     "iopub.status.busy": "2021-02-19T10:22:20.035638Z",
     "iopub.status.idle": "2021-02-19T10:22:25.627402Z",
     "shell.execute_reply": "2021-02-19T10:22:25.626148Z"
    },
    "id": "DzEbuI69IpjN",
    "outputId": "1c7c3e38-b61e-44fc-bc6b-4d6cadcdd0e1",
    "papermill": {
     "duration": 12.790468,
     "end_time": "2021-02-19T10:22:25.627553",
     "exception": false,
     "start_time": "2021-02-19T10:22:12.837085",
     "status": "completed"
    },
    "tags": []
   },
   "outputs": [],
   "source": [
    "X_test = test_df.apply(lambda x:preprocess_img(x), axis=1)\n",
    "X_test = np.stack(X_test)\n",
    "\n",
    "predictions = final_model.predict(X_test)\n",
    "test_predictions = np.argmax(predictions, axis=1)"
   ]
  },
  {
   "cell_type": "code",
   "execution_count": 16,
   "metadata": {
    "execution": {
     "iopub.execute_input": "2021-02-19T10:22:39.951453Z",
     "iopub.status.busy": "2021-02-19T10:22:39.950873Z",
     "iopub.status.idle": "2021-02-19T10:22:40.013502Z",
     "shell.execute_reply": "2021-02-19T10:22:40.012818Z"
    },
    "id": "ScUTpU-eQH24",
    "papermill": {
     "duration": 7.054843,
     "end_time": "2021-02-19T10:22:40.013672",
     "exception": false,
     "start_time": "2021-02-19T10:22:32.958829",
     "status": "completed"
    },
    "tags": []
   },
   "outputs": [],
   "source": [
    "submission = pd.DataFrame({'ImageId':test_df.index.values+1, 'Label':test_predictions})\n",
    "submission.to_csv('./submission.csv', index=False)"
   ]
  }
 ],
 "metadata": {
  "kernelspec": {
   "display_name": "Python 3",
   "language": "python",
   "name": "python3"
  },
  "language_info": {
   "codemirror_mode": {
    "name": "ipython",
    "version": 3
   },
   "file_extension": ".py",
   "mimetype": "text/x-python",
   "name": "python",
   "nbconvert_exporter": "python",
   "pygments_lexer": "ipython3",
   "version": "3.7.9"
  },
  "papermill": {
   "default_parameters": {},
   "duration": 1513.599107,
   "end_time": "2021-02-19T10:22:48.140657",
   "environment_variables": {},
   "exception": null,
   "input_path": "__notebook__.ipynb",
   "output_path": "__notebook__.ipynb",
   "parameters": {},
   "start_time": "2021-02-19T09:57:34.541550",
   "version": "2.2.2"
  }
 },
 "nbformat": 4,
 "nbformat_minor": 4
}

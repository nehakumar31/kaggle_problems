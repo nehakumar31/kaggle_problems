{
 "cells": [
  {
   "cell_type": "markdown",
   "metadata": {
    "id": "DSHfg3O3IoBk",
    "papermill": {
     "duration": 0.024547,
     "end_time": "2021-02-15T08:22:55.413445",
     "exception": false,
     "start_time": "2021-02-15T08:22:55.388898",
     "status": "completed"
    },
    "tags": []
   },
   "source": [
    "**Approach-<br>- Regular expression cleaning, tokenization, spacy lemmatization<br>- Download pre-trained glove embeddings<br>- Feed to Embedding LSTM network**"
   ]
  },
  {
   "cell_type": "code",
   "execution_count": 1,
   "metadata": {
    "execution": {
     "iopub.execute_input": "2021-02-15T08:22:55.464559Z",
     "iopub.status.busy": "2021-02-15T08:22:55.463837Z",
     "iopub.status.idle": "2021-02-15T08:23:04.386652Z",
     "shell.execute_reply": "2021-02-15T08:23:04.387200Z"
    },
    "id": "cGAKI9Pzaw-C",
    "papermill": {
     "duration": 8.950855,
     "end_time": "2021-02-15T08:23:04.387540",
     "exception": false,
     "start_time": "2021-02-15T08:22:55.436685",
     "status": "completed"
    },
    "tags": []
   },
   "outputs": [],
   "source": [
    "import regex as re\n",
    "import string\n",
    "import random\n",
    "import os\n",
    "import tqdm\n",
    "import numpy as np\n",
    "import pandas as pd\n",
    "\n",
    "import requests\n",
    "import zipfile\n",
    "\n",
    "import matplotlib.pyplot as plt\n",
    "import seaborn as sns\n",
    "\n",
    "from nltk.tokenize import TweetTokenizer\n",
    "from nltk.corpus import stopwords\n",
    "\n",
    "from sklearn.model_selection import train_test_split\n",
    "from sklearn.metrics import f1_score\n",
    "\n",
    "from gensim.scripts.glove2word2vec import glove2word2vec\n",
    "from gensim.models.keyedvectors import KeyedVectors\n",
    "\n",
    "import tensorflow as tf\n",
    "from tensorflow.keras.preprocessing.text import Tokenizer\n",
    "from tensorflow.python.keras.preprocessing import sequence\n",
    "import tensorflow.keras.backend as K\n",
    "\n",
    "import spacy"
   ]
  },
  {
   "cell_type": "code",
   "execution_count": 2,
   "metadata": {
    "execution": {
     "iopub.execute_input": "2021-02-15T08:23:04.438442Z",
     "iopub.status.busy": "2021-02-15T08:23:04.437796Z",
     "iopub.status.idle": "2021-02-15T08:23:04.611925Z",
     "shell.execute_reply": "2021-02-15T08:23:04.612441Z"
    },
    "id": "oeg9w65e591B",
    "outputId": "7bf7193c-cab8-498c-c330-6a43834526fa",
    "papermill": {
     "duration": 0.200942,
     "end_time": "2021-02-15T08:23:04.612657",
     "exception": false,
     "start_time": "2021-02-15T08:23:04.411715",
     "status": "completed"
    },
    "tags": []
   },
   "outputs": [
    {
     "name": "stdout",
     "output_type": "stream",
     "text": [
      "[nltk_data] Downloading package stopwords to /usr/share/nltk_data...\n",
      "[nltk_data]   Package stopwords is already up-to-date!\n"
     ]
    },
    {
     "data": {
      "text/plain": [
       "True"
      ]
     },
     "execution_count": 2,
     "metadata": {},
     "output_type": "execute_result"
    }
   ],
   "source": [
    "#download nltk stopwords\n",
    "import nltk\n",
    "nltk.download('stopwords')"
   ]
  },
  {
   "cell_type": "code",
   "execution_count": 3,
   "metadata": {
    "execution": {
     "iopub.execute_input": "2021-02-15T08:23:04.668356Z",
     "iopub.status.busy": "2021-02-15T08:23:04.667616Z",
     "iopub.status.idle": "2021-02-15T08:23:04.671457Z",
     "shell.execute_reply": "2021-02-15T08:23:04.670822Z"
    },
    "id": "AWR6ApO-eTmy",
    "papermill": {
     "duration": 0.034243,
     "end_time": "2021-02-15T08:23:04.671629",
     "exception": false,
     "start_time": "2021-02-15T08:23:04.637386",
     "status": "completed"
    },
    "tags": []
   },
   "outputs": [],
   "source": [
    "#set display option\n",
    "pd.options.display.max_colwidth = 100\n",
    "tf.random.set_seed(42)"
   ]
  },
  {
   "cell_type": "markdown",
   "metadata": {
    "id": "yjtcUQZtbZJ1",
    "papermill": {
     "duration": 0.024361,
     "end_time": "2021-02-15T08:23:04.721823",
     "exception": false,
     "start_time": "2021-02-15T08:23:04.697462",
     "status": "completed"
    },
    "tags": []
   },
   "source": [
    "**Data Reading and Understanding**"
   ]
  },
  {
   "cell_type": "code",
   "execution_count": 4,
   "metadata": {
    "execution": {
     "iopub.execute_input": "2021-02-15T08:23:04.776681Z",
     "iopub.status.busy": "2021-02-15T08:23:04.775999Z",
     "iopub.status.idle": "2021-02-15T08:23:04.856408Z",
     "shell.execute_reply": "2021-02-15T08:23:04.856996Z"
    },
    "id": "d-wYtzLgbMDe",
    "outputId": "ad315065-8424-43e4-fa25-54f64803f63b",
    "papermill": {
     "duration": 0.111018,
     "end_time": "2021-02-15T08:23:04.857188",
     "exception": false,
     "start_time": "2021-02-15T08:23:04.746170",
     "status": "completed"
    },
    "tags": []
   },
   "outputs": [
    {
     "data": {
      "text/html": [
       "<div>\n",
       "<style scoped>\n",
       "    .dataframe tbody tr th:only-of-type {\n",
       "        vertical-align: middle;\n",
       "    }\n",
       "\n",
       "    .dataframe tbody tr th {\n",
       "        vertical-align: top;\n",
       "    }\n",
       "\n",
       "    .dataframe thead th {\n",
       "        text-align: right;\n",
       "    }\n",
       "</style>\n",
       "<table border=\"1\" class=\"dataframe\">\n",
       "  <thead>\n",
       "    <tr style=\"text-align: right;\">\n",
       "      <th></th>\n",
       "      <th>id</th>\n",
       "      <th>keyword</th>\n",
       "      <th>location</th>\n",
       "      <th>text</th>\n",
       "      <th>target</th>\n",
       "    </tr>\n",
       "  </thead>\n",
       "  <tbody>\n",
       "    <tr>\n",
       "      <th>0</th>\n",
       "      <td>1</td>\n",
       "      <td>NaN</td>\n",
       "      <td>NaN</td>\n",
       "      <td>Our Deeds are the Reason of this #earthquake May ALLAH Forgive us all</td>\n",
       "      <td>1</td>\n",
       "    </tr>\n",
       "    <tr>\n",
       "      <th>1</th>\n",
       "      <td>4</td>\n",
       "      <td>NaN</td>\n",
       "      <td>NaN</td>\n",
       "      <td>Forest fire near La Ronge Sask. Canada</td>\n",
       "      <td>1</td>\n",
       "    </tr>\n",
       "    <tr>\n",
       "      <th>2</th>\n",
       "      <td>5</td>\n",
       "      <td>NaN</td>\n",
       "      <td>NaN</td>\n",
       "      <td>All residents asked to 'shelter in place' are being notified by officers. No other evacuation or...</td>\n",
       "      <td>1</td>\n",
       "    </tr>\n",
       "    <tr>\n",
       "      <th>3</th>\n",
       "      <td>6</td>\n",
       "      <td>NaN</td>\n",
       "      <td>NaN</td>\n",
       "      <td>13,000 people receive #wildfires evacuation orders in California</td>\n",
       "      <td>1</td>\n",
       "    </tr>\n",
       "    <tr>\n",
       "      <th>4</th>\n",
       "      <td>7</td>\n",
       "      <td>NaN</td>\n",
       "      <td>NaN</td>\n",
       "      <td>Just got sent this photo from Ruby #Alaska as smoke from #wildfires pours into a school</td>\n",
       "      <td>1</td>\n",
       "    </tr>\n",
       "  </tbody>\n",
       "</table>\n",
       "</div>"
      ],
      "text/plain": [
       "   id keyword location  \\\n",
       "0   1     NaN      NaN   \n",
       "1   4     NaN      NaN   \n",
       "2   5     NaN      NaN   \n",
       "3   6     NaN      NaN   \n",
       "4   7     NaN      NaN   \n",
       "\n",
       "                                                                                                  text  \\\n",
       "0                                Our Deeds are the Reason of this #earthquake May ALLAH Forgive us all   \n",
       "1                                                               Forest fire near La Ronge Sask. Canada   \n",
       "2  All residents asked to 'shelter in place' are being notified by officers. No other evacuation or...   \n",
       "3                                    13,000 people receive #wildfires evacuation orders in California    \n",
       "4             Just got sent this photo from Ruby #Alaska as smoke from #wildfires pours into a school    \n",
       "\n",
       "   target  \n",
       "0       1  \n",
       "1       1  \n",
       "2       1  \n",
       "3       1  \n",
       "4       1  "
      ]
     },
     "execution_count": 4,
     "metadata": {},
     "output_type": "execute_result"
    }
   ],
   "source": [
    "train_df = pd.read_csv('/kaggle/input/nlp-getting-started/train.csv')\n",
    "train_df.head()"
   ]
  },
  {
   "cell_type": "code",
   "execution_count": 5,
   "metadata": {
    "execution": {
     "iopub.execute_input": "2021-02-15T08:23:04.910811Z",
     "iopub.status.busy": "2021-02-15T08:23:04.910045Z",
     "iopub.status.idle": "2021-02-15T08:23:04.933227Z",
     "shell.execute_reply": "2021-02-15T08:23:04.933872Z"
    },
    "id": "DFjP9kUVb36b",
    "outputId": "e6746033-87e4-4332-9a40-a6860a19864e",
    "papermill": {
     "duration": 0.051783,
     "end_time": "2021-02-15T08:23:04.934080",
     "exception": false,
     "start_time": "2021-02-15T08:23:04.882297",
     "status": "completed"
    },
    "tags": []
   },
   "outputs": [
    {
     "name": "stdout",
     "output_type": "stream",
     "text": [
      "<class 'pandas.core.frame.DataFrame'>\n",
      "RangeIndex: 7613 entries, 0 to 7612\n",
      "Data columns (total 5 columns):\n",
      " #   Column    Non-Null Count  Dtype \n",
      "---  ------    --------------  ----- \n",
      " 0   id        7613 non-null   int64 \n",
      " 1   keyword   7552 non-null   object\n",
      " 2   location  5080 non-null   object\n",
      " 3   text      7613 non-null   object\n",
      " 4   target    7613 non-null   int64 \n",
      "dtypes: int64(2), object(3)\n",
      "memory usage: 297.5+ KB\n",
      "None\n",
      "# of training records:  7613\n"
     ]
    }
   ],
   "source": [
    "print (train_df.info())\n",
    "print (\"# of training records: \", len(train_df))"
   ]
  },
  {
   "cell_type": "code",
   "execution_count": 6,
   "metadata": {
    "execution": {
     "iopub.execute_input": "2021-02-15T08:23:04.993557Z",
     "iopub.status.busy": "2021-02-15T08:23:04.992716Z",
     "iopub.status.idle": "2021-02-15T08:23:05.016683Z",
     "shell.execute_reply": "2021-02-15T08:23:05.017231Z"
    },
    "id": "wbvX-eLJPdDD",
    "outputId": "1fde5059-b126-485f-bec2-b88f4b2eaac2",
    "papermill": {
     "duration": 0.056393,
     "end_time": "2021-02-15T08:23:05.017447",
     "exception": false,
     "start_time": "2021-02-15T08:23:04.961054",
     "status": "completed"
    },
    "tags": []
   },
   "outputs": [
    {
     "data": {
      "text/plain": [
       "0    0.57034\n",
       "1    0.42966\n",
       "Name: target, dtype: float64"
      ]
     },
     "execution_count": 6,
     "metadata": {},
     "output_type": "execute_result"
    }
   ],
   "source": [
    "#to see distribution of target labels\n",
    "train_df['target'].value_counts(normalize=True)"
   ]
  },
  {
   "cell_type": "code",
   "execution_count": 7,
   "metadata": {
    "execution": {
     "iopub.execute_input": "2021-02-15T08:23:05.076293Z",
     "iopub.status.busy": "2021-02-15T08:23:05.075581Z",
     "iopub.status.idle": "2021-02-15T08:23:05.110188Z",
     "shell.execute_reply": "2021-02-15T08:23:05.109567Z"
    },
    "id": "LfMlaKXcrqlf",
    "outputId": "7f91f726-acfc-48b5-ada5-7d1d426d7b93",
    "papermill": {
     "duration": 0.063803,
     "end_time": "2021-02-15T08:23:05.110336",
     "exception": false,
     "start_time": "2021-02-15T08:23:05.046533",
     "status": "completed"
    },
    "tags": []
   },
   "outputs": [
    {
     "data": {
      "text/html": [
       "<div>\n",
       "<style scoped>\n",
       "    .dataframe tbody tr th:only-of-type {\n",
       "        vertical-align: middle;\n",
       "    }\n",
       "\n",
       "    .dataframe tbody tr th {\n",
       "        vertical-align: top;\n",
       "    }\n",
       "\n",
       "    .dataframe thead th {\n",
       "        text-align: right;\n",
       "    }\n",
       "</style>\n",
       "<table border=\"1\" class=\"dataframe\">\n",
       "  <thead>\n",
       "    <tr style=\"text-align: right;\">\n",
       "      <th></th>\n",
       "      <th>id</th>\n",
       "      <th>keyword</th>\n",
       "      <th>location</th>\n",
       "      <th>text</th>\n",
       "    </tr>\n",
       "  </thead>\n",
       "  <tbody>\n",
       "    <tr>\n",
       "      <th>0</th>\n",
       "      <td>0</td>\n",
       "      <td>NaN</td>\n",
       "      <td>NaN</td>\n",
       "      <td>Just happened a terrible car crash</td>\n",
       "    </tr>\n",
       "    <tr>\n",
       "      <th>1</th>\n",
       "      <td>2</td>\n",
       "      <td>NaN</td>\n",
       "      <td>NaN</td>\n",
       "      <td>Heard about #earthquake is different cities, stay safe everyone.</td>\n",
       "    </tr>\n",
       "    <tr>\n",
       "      <th>2</th>\n",
       "      <td>3</td>\n",
       "      <td>NaN</td>\n",
       "      <td>NaN</td>\n",
       "      <td>there is a forest fire at spot pond, geese are fleeing across the street, I cannot save them all</td>\n",
       "    </tr>\n",
       "    <tr>\n",
       "      <th>3</th>\n",
       "      <td>9</td>\n",
       "      <td>NaN</td>\n",
       "      <td>NaN</td>\n",
       "      <td>Apocalypse lighting. #Spokane #wildfires</td>\n",
       "    </tr>\n",
       "    <tr>\n",
       "      <th>4</th>\n",
       "      <td>11</td>\n",
       "      <td>NaN</td>\n",
       "      <td>NaN</td>\n",
       "      <td>Typhoon Soudelor kills 28 in China and Taiwan</td>\n",
       "    </tr>\n",
       "  </tbody>\n",
       "</table>\n",
       "</div>"
      ],
      "text/plain": [
       "   id keyword location  \\\n",
       "0   0     NaN      NaN   \n",
       "1   2     NaN      NaN   \n",
       "2   3     NaN      NaN   \n",
       "3   9     NaN      NaN   \n",
       "4  11     NaN      NaN   \n",
       "\n",
       "                                                                                               text  \n",
       "0                                                                Just happened a terrible car crash  \n",
       "1                                  Heard about #earthquake is different cities, stay safe everyone.  \n",
       "2  there is a forest fire at spot pond, geese are fleeing across the street, I cannot save them all  \n",
       "3                                                          Apocalypse lighting. #Spokane #wildfires  \n",
       "4                                                     Typhoon Soudelor kills 28 in China and Taiwan  "
      ]
     },
     "execution_count": 7,
     "metadata": {},
     "output_type": "execute_result"
    }
   ],
   "source": [
    "#read test data\n",
    "test_df = pd.read_csv('/kaggle/input/nlp-getting-started/test.csv')\n",
    "test_df.head()"
   ]
  },
  {
   "cell_type": "markdown",
   "metadata": {
    "id": "fNpXh7DJdfQa",
    "papermill": {
     "duration": 0.02674,
     "end_time": "2021-02-15T08:23:05.165681",
     "exception": false,
     "start_time": "2021-02-15T08:23:05.138941",
     "status": "completed"
    },
    "tags": []
   },
   "source": [
    "**Look at few of the tweets**"
   ]
  },
  {
   "cell_type": "code",
   "execution_count": 8,
   "metadata": {
    "execution": {
     "iopub.execute_input": "2021-02-15T08:23:05.230589Z",
     "iopub.status.busy": "2021-02-15T08:23:05.229486Z",
     "iopub.status.idle": "2021-02-15T08:23:05.234386Z",
     "shell.execute_reply": "2021-02-15T08:23:05.233838Z"
    },
    "id": "UIX0dSgEdedY",
    "outputId": "357a74c9-d7cb-487c-cbc1-c8c398de14cf",
    "papermill": {
     "duration": 0.042164,
     "end_time": "2021-02-15T08:23:05.234551",
     "exception": false,
     "start_time": "2021-02-15T08:23:05.192387",
     "status": "completed"
    },
    "tags": []
   },
   "outputs": [
    {
     "data": {
      "text/html": [
       "<div>\n",
       "<style scoped>\n",
       "    .dataframe tbody tr th:only-of-type {\n",
       "        vertical-align: middle;\n",
       "    }\n",
       "\n",
       "    .dataframe tbody tr th {\n",
       "        vertical-align: top;\n",
       "    }\n",
       "\n",
       "    .dataframe thead th {\n",
       "        text-align: right;\n",
       "    }\n",
       "</style>\n",
       "<table border=\"1\" class=\"dataframe\">\n",
       "  <thead>\n",
       "    <tr style=\"text-align: right;\">\n",
       "      <th></th>\n",
       "      <th>text</th>\n",
       "      <th>target</th>\n",
       "    </tr>\n",
       "  </thead>\n",
       "  <tbody>\n",
       "    <tr>\n",
       "      <th>0</th>\n",
       "      <td>Our Deeds are the Reason of this #earthquake May ALLAH Forgive us all</td>\n",
       "      <td>1</td>\n",
       "    </tr>\n",
       "    <tr>\n",
       "      <th>1</th>\n",
       "      <td>Forest fire near La Ronge Sask. Canada</td>\n",
       "      <td>1</td>\n",
       "    </tr>\n",
       "    <tr>\n",
       "      <th>2</th>\n",
       "      <td>All residents asked to 'shelter in place' are being notified by officers. No other evacuation or...</td>\n",
       "      <td>1</td>\n",
       "    </tr>\n",
       "    <tr>\n",
       "      <th>3</th>\n",
       "      <td>13,000 people receive #wildfires evacuation orders in California</td>\n",
       "      <td>1</td>\n",
       "    </tr>\n",
       "    <tr>\n",
       "      <th>4</th>\n",
       "      <td>Just got sent this photo from Ruby #Alaska as smoke from #wildfires pours into a school</td>\n",
       "      <td>1</td>\n",
       "    </tr>\n",
       "  </tbody>\n",
       "</table>\n",
       "</div>"
      ],
      "text/plain": [
       "                                                                                                  text  \\\n",
       "0                                Our Deeds are the Reason of this #earthquake May ALLAH Forgive us all   \n",
       "1                                                               Forest fire near La Ronge Sask. Canada   \n",
       "2  All residents asked to 'shelter in place' are being notified by officers. No other evacuation or...   \n",
       "3                                    13,000 people receive #wildfires evacuation orders in California    \n",
       "4             Just got sent this photo from Ruby #Alaska as smoke from #wildfires pours into a school    \n",
       "\n",
       "   target  \n",
       "0       1  \n",
       "1       1  \n",
       "2       1  \n",
       "3       1  \n",
       "4       1  "
      ]
     },
     "execution_count": 8,
     "metadata": {},
     "output_type": "execute_result"
    }
   ],
   "source": [
    "train_df.head()[['text','target']]"
   ]
  },
  {
   "cell_type": "markdown",
   "metadata": {
    "id": "nM90rW2xb_pO",
    "papermill": {
     "duration": 0.027296,
     "end_time": "2021-02-15T08:23:05.289337",
     "exception": false,
     "start_time": "2021-02-15T08:23:05.262041",
     "status": "completed"
    },
    "tags": []
   },
   "source": [
    "**Checking- if features keyword and location are useful and should be retained**"
   ]
  },
  {
   "cell_type": "code",
   "execution_count": 9,
   "metadata": {
    "execution": {
     "iopub.execute_input": "2021-02-15T08:23:05.352234Z",
     "iopub.status.busy": "2021-02-15T08:23:05.351384Z",
     "iopub.status.idle": "2021-02-15T08:23:05.367324Z",
     "shell.execute_reply": "2021-02-15T08:23:05.366631Z"
    },
    "id": "12tpRdP7bvmq",
    "outputId": "ee9c7c3a-2ad2-45f8-ba34-bf474fb5e490",
    "papermill": {
     "duration": 0.049711,
     "end_time": "2021-02-15T08:23:05.367473",
     "exception": false,
     "start_time": "2021-02-15T08:23:05.317762",
     "status": "completed"
    },
    "tags": []
   },
   "outputs": [
    {
     "data": {
      "text/html": [
       "<div>\n",
       "<style scoped>\n",
       "    .dataframe tbody tr th:only-of-type {\n",
       "        vertical-align: middle;\n",
       "    }\n",
       "\n",
       "    .dataframe tbody tr th {\n",
       "        vertical-align: top;\n",
       "    }\n",
       "\n",
       "    .dataframe thead th {\n",
       "        text-align: right;\n",
       "    }\n",
       "</style>\n",
       "<table border=\"1\" class=\"dataframe\">\n",
       "  <thead>\n",
       "    <tr style=\"text-align: right;\">\n",
       "      <th></th>\n",
       "      <th>keyword</th>\n",
       "      <th>text</th>\n",
       "    </tr>\n",
       "  </thead>\n",
       "  <tbody>\n",
       "    <tr>\n",
       "      <th>31</th>\n",
       "      <td>ablaze</td>\n",
       "      <td>@bbcmtd Wholesale Markets ablaze http://t.co/lHYXEOHY6C</td>\n",
       "    </tr>\n",
       "    <tr>\n",
       "      <th>32</th>\n",
       "      <td>ablaze</td>\n",
       "      <td>We always try to bring the heavy. #metal #RT http://t.co/YAo1e0xngw</td>\n",
       "    </tr>\n",
       "    <tr>\n",
       "      <th>33</th>\n",
       "      <td>ablaze</td>\n",
       "      <td>#AFRICANBAZE: Breaking news:Nigeria flag set ablaze in Aba. http://t.co/2nndBGwyEi</td>\n",
       "    </tr>\n",
       "    <tr>\n",
       "      <th>34</th>\n",
       "      <td>ablaze</td>\n",
       "      <td>Crying out for more! Set me ablaze</td>\n",
       "    </tr>\n",
       "    <tr>\n",
       "      <th>35</th>\n",
       "      <td>ablaze</td>\n",
       "      <td>On plus side LOOK AT THE SKY LAST NIGHT IT WAS ABLAZE http://t.co/qqsmshaJ3N</td>\n",
       "    </tr>\n",
       "    <tr>\n",
       "      <th>...</th>\n",
       "      <td>...</td>\n",
       "      <td>...</td>\n",
       "    </tr>\n",
       "    <tr>\n",
       "      <th>7578</th>\n",
       "      <td>wrecked</td>\n",
       "      <td>@jt_ruff23 @cameronhacker and I wrecked you both</td>\n",
       "    </tr>\n",
       "    <tr>\n",
       "      <th>7579</th>\n",
       "      <td>wrecked</td>\n",
       "      <td>Three days off from work and they've pretty much all been wrecked hahaha shoutout to my family f...</td>\n",
       "    </tr>\n",
       "    <tr>\n",
       "      <th>7580</th>\n",
       "      <td>wrecked</td>\n",
       "      <td>#FX #forex #trading Cramer: Iger's 3 words that wrecked Disney's stock http://t.co/7enNulLKzM</td>\n",
       "    </tr>\n",
       "    <tr>\n",
       "      <th>7581</th>\n",
       "      <td>wrecked</td>\n",
       "      <td>@engineshed Great atmosphere at the British Lion gig tonight. Hearing is wrecked. http://t.co/oM...</td>\n",
       "    </tr>\n",
       "    <tr>\n",
       "      <th>7582</th>\n",
       "      <td>wrecked</td>\n",
       "      <td>Cramer: Iger's 3 words that wrecked Disney's stock - CNBC http://t.co/N6RBnHMTD4</td>\n",
       "    </tr>\n",
       "  </tbody>\n",
       "</table>\n",
       "<p>7552 rows × 2 columns</p>\n",
       "</div>"
      ],
      "text/plain": [
       "      keyword  \\\n",
       "31     ablaze   \n",
       "32     ablaze   \n",
       "33     ablaze   \n",
       "34     ablaze   \n",
       "35     ablaze   \n",
       "...       ...   \n",
       "7578  wrecked   \n",
       "7579  wrecked   \n",
       "7580  wrecked   \n",
       "7581  wrecked   \n",
       "7582  wrecked   \n",
       "\n",
       "                                                                                                     text  \n",
       "31                                                @bbcmtd Wholesale Markets ablaze http://t.co/lHYXEOHY6C  \n",
       "32                                    We always try to bring the heavy. #metal #RT http://t.co/YAo1e0xngw  \n",
       "33                     #AFRICANBAZE: Breaking news:Nigeria flag set ablaze in Aba. http://t.co/2nndBGwyEi  \n",
       "34                                                                     Crying out for more! Set me ablaze  \n",
       "35                           On plus side LOOK AT THE SKY LAST NIGHT IT WAS ABLAZE http://t.co/qqsmshaJ3N  \n",
       "...                                                                                                   ...  \n",
       "7578                                                     @jt_ruff23 @cameronhacker and I wrecked you both  \n",
       "7579  Three days off from work and they've pretty much all been wrecked hahaha shoutout to my family f...  \n",
       "7580        #FX #forex #trading Cramer: Iger's 3 words that wrecked Disney's stock http://t.co/7enNulLKzM  \n",
       "7581  @engineshed Great atmosphere at the British Lion gig tonight. Hearing is wrecked. http://t.co/oM...  \n",
       "7582                     Cramer: Iger's 3 words that wrecked Disney's stock - CNBC http://t.co/N6RBnHMTD4  \n",
       "\n",
       "[7552 rows x 2 columns]"
      ]
     },
     "execution_count": 9,
     "metadata": {},
     "output_type": "execute_result"
    }
   ],
   "source": [
    "train_df[~train_df['keyword'].isnull()][['keyword', 'text']]"
   ]
  },
  {
   "cell_type": "code",
   "execution_count": 10,
   "metadata": {
    "execution": {
     "iopub.execute_input": "2021-02-15T08:23:05.431197Z",
     "iopub.status.busy": "2021-02-15T08:23:05.430203Z",
     "iopub.status.idle": "2021-02-15T08:23:05.435814Z",
     "shell.execute_reply": "2021-02-15T08:23:05.435130Z"
    },
    "id": "DDYFpXU1cKP-",
    "outputId": "db1d5eb6-96d4-47c5-a2a4-db71a7a9a77e",
    "papermill": {
     "duration": 0.040256,
     "end_time": "2021-02-15T08:23:05.436063",
     "exception": false,
     "start_time": "2021-02-15T08:23:05.395807",
     "status": "completed"
    },
    "tags": []
   },
   "outputs": [
    {
     "data": {
      "text/plain": [
       "3342"
      ]
     },
     "execution_count": 10,
     "metadata": {},
     "output_type": "execute_result"
    }
   ],
   "source": [
    "len(train_df['location'].unique())"
   ]
  },
  {
   "cell_type": "markdown",
   "metadata": {
    "id": "fFsbTOA_edwk",
    "papermill": {
     "duration": 0.0282,
     "end_time": "2021-02-15T08:23:05.493104",
     "exception": false,
     "start_time": "2021-02-15T08:23:05.464904",
     "status": "completed"
    },
    "tags": []
   },
   "source": [
    "**Dropping the features: keyword and location**"
   ]
  },
  {
   "cell_type": "code",
   "execution_count": 11,
   "metadata": {
    "execution": {
     "iopub.execute_input": "2021-02-15T08:23:05.559223Z",
     "iopub.status.busy": "2021-02-15T08:23:05.558453Z",
     "iopub.status.idle": "2021-02-15T08:23:05.561799Z",
     "shell.execute_reply": "2021-02-15T08:23:05.562302Z"
    },
    "id": "hVHqL0qgdTDt",
    "papermill": {
     "duration": 0.040464,
     "end_time": "2021-02-15T08:23:05.562490",
     "exception": false,
     "start_time": "2021-02-15T08:23:05.522026",
     "status": "completed"
    },
    "tags": []
   },
   "outputs": [],
   "source": [
    "train_df.drop(columns=['keyword', 'location'], inplace=True)"
   ]
  },
  {
   "cell_type": "markdown",
   "metadata": {
    "id": "NgSSd1O6fHBM",
    "papermill": {
     "duration": 0.028972,
     "end_time": "2021-02-15T08:23:05.620437",
     "exception": false,
     "start_time": "2021-02-15T08:23:05.591465",
     "status": "completed"
    },
    "tags": []
   },
   "source": [
    "**Data Cleaning and Preprocessing**"
   ]
  },
  {
   "cell_type": "code",
   "execution_count": 12,
   "metadata": {
    "execution": {
     "iopub.execute_input": "2021-02-15T08:23:05.683210Z",
     "iopub.status.busy": "2021-02-15T08:23:05.682531Z",
     "iopub.status.idle": "2021-02-15T08:23:06.798903Z",
     "shell.execute_reply": "2021-02-15T08:23:06.798190Z"
    },
    "id": "U85dDbfN-2WI",
    "papermill": {
     "duration": 1.149945,
     "end_time": "2021-02-15T08:23:06.799053",
     "exception": false,
     "start_time": "2021-02-15T08:23:05.649108",
     "status": "completed"
    },
    "tags": []
   },
   "outputs": [],
   "source": [
    "#Tweet tokenizer to take care of emojis in tweets\n",
    "tokenizer = TweetTokenizer()\n",
    "spacy_en = spacy.load('en_core_web_sm', disable=['parser','ner'])"
   ]
  },
  {
   "cell_type": "code",
   "execution_count": 13,
   "metadata": {
    "execution": {
     "iopub.execute_input": "2021-02-15T08:23:06.865272Z",
     "iopub.status.busy": "2021-02-15T08:23:06.864543Z",
     "iopub.status.idle": "2021-02-15T08:23:06.869806Z",
     "shell.execute_reply": "2021-02-15T08:23:06.868871Z"
    },
    "id": "DTgZ8OY7_KtK",
    "papermill": {
     "duration": 0.042097,
     "end_time": "2021-02-15T08:23:06.869974",
     "exception": false,
     "start_time": "2021-02-15T08:23:06.827877",
     "status": "completed"
    },
    "tags": []
   },
   "outputs": [],
   "source": [
    "def clean_text(text):  \n",
    "  cleaned_text = text.lower()\n",
    "  \n",
    "  #remove chars like hashtags, web addresses\n",
    "  cleaned_text = re.sub(r'#|@\\S+|<.*?>|http\\S+|[0-9,.]+\\S+', '', cleaned_text)\n",
    "\n",
    "  cleaned_text = tokenizer.tokenize(cleaned_text)\n",
    "  cleaned_text = ' '.join([word for word in cleaned_text if word not in string.punctuation and word not in stopwords.words('english')])\n",
    "    \n",
    "  doc = spacy_en(cleaned_text)\n",
    "  cleaned_text = ' '.join([token.lemma_ for token in doc if token.lemma_ not in ['-PRON-'] and token.pos_ not in ['DET','-PRON']])\n",
    "  return cleaned_text"
   ]
  },
  {
   "cell_type": "code",
   "execution_count": 14,
   "metadata": {
    "execution": {
     "iopub.execute_input": "2021-02-15T08:23:06.936453Z",
     "iopub.status.busy": "2021-02-15T08:23:06.935437Z",
     "iopub.status.idle": "2021-02-15T08:23:50.111553Z",
     "shell.execute_reply": "2021-02-15T08:23:50.110977Z"
    },
    "id": "No_aV_VlhuZ6",
    "papermill": {
     "duration": 43.210828,
     "end_time": "2021-02-15T08:23:50.111720",
     "exception": false,
     "start_time": "2021-02-15T08:23:06.900892",
     "status": "completed"
    },
    "tags": []
   },
   "outputs": [],
   "source": [
    "train_df['cleaned_text'] = train_df.apply(lambda row : clean_text(row['text']), axis=1)"
   ]
  },
  {
   "cell_type": "code",
   "execution_count": 15,
   "metadata": {
    "execution": {
     "iopub.execute_input": "2021-02-15T08:23:50.179475Z",
     "iopub.status.busy": "2021-02-15T08:23:50.178822Z",
     "iopub.status.idle": "2021-02-15T08:23:50.182066Z",
     "shell.execute_reply": "2021-02-15T08:23:50.181461Z"
    },
    "id": "0BriBSSZ3G5Y",
    "papermill": {
     "duration": 0.041189,
     "end_time": "2021-02-15T08:23:50.182211",
     "exception": false,
     "start_time": "2021-02-15T08:23:50.141022",
     "status": "completed"
    },
    "tags": []
   },
   "outputs": [],
   "source": [
    "#Tokenizer to train word vocabulary and generate sequences of optimal length to be fed to embeddings layer\n",
    "class CustomTokenizer:\n",
    "  def __init__(self):\n",
    "    self.tokenizer = Tokenizer(num_words=20000)\n",
    "\n",
    "  def fit(self, train_text):\n",
    "    max_length = max(train_text.map(len))\n",
    "    self.max_length = min(max_length, 50)\n",
    "    self.tokenizer.fit_on_texts(train_text)\n",
    "\n",
    "  def vectorize_input(self,tweets):\n",
    "    tweets_seq = self.tokenizer.texts_to_sequences(tweets)\n",
    "    tweets_seq = sequence.pad_sequences(tweets_seq, maxlen=self.max_length, padding='post', truncating='post')\n",
    "    return tweets_seq"
   ]
  },
  {
   "cell_type": "code",
   "execution_count": 16,
   "metadata": {
    "execution": {
     "iopub.execute_input": "2021-02-15T08:23:50.246158Z",
     "iopub.status.busy": "2021-02-15T08:23:50.245163Z",
     "iopub.status.idle": "2021-02-15T08:23:50.249155Z",
     "shell.execute_reply": "2021-02-15T08:23:50.248611Z"
    },
    "id": "8fdpm1Jn3YDH",
    "papermill": {
     "duration": 0.037863,
     "end_time": "2021-02-15T08:23:50.249319",
     "exception": false,
     "start_time": "2021-02-15T08:23:50.211456",
     "status": "completed"
    },
    "tags": []
   },
   "outputs": [],
   "source": [
    "cust_tokenize = CustomTokenizer()"
   ]
  },
  {
   "cell_type": "markdown",
   "metadata": {
    "id": "A1kS6hPVMruU",
    "papermill": {
     "duration": 0.028862,
     "end_time": "2021-02-15T08:23:50.307947",
     "exception": false,
     "start_time": "2021-02-15T08:23:50.279085",
     "status": "completed"
    },
    "tags": []
   },
   "source": [
    "**Modelling**"
   ]
  },
  {
   "cell_type": "code",
   "execution_count": 17,
   "metadata": {
    "execution": {
     "iopub.execute_input": "2021-02-15T08:23:50.371975Z",
     "iopub.status.busy": "2021-02-15T08:23:50.371234Z",
     "iopub.status.idle": "2021-02-15T08:23:50.374392Z",
     "shell.execute_reply": "2021-02-15T08:23:50.373849Z"
    },
    "id": "_lXxNal31XJf",
    "papermill": {
     "duration": 0.037194,
     "end_time": "2021-02-15T08:23:50.374574",
     "exception": false,
     "start_time": "2021-02-15T08:23:50.337380",
     "status": "completed"
    },
    "tags": []
   },
   "outputs": [],
   "source": [
    "#Download the glove embeddings\n",
    "URL = \"http://nlp.stanford.edu/data/glove.42B.300d.zip\"\n",
    "target_zip = 'glove.zip'\n",
    "target_file = 'glove.42B.300d.txt'\n",
    "GLOVE_DIM = 300"
   ]
  },
  {
   "cell_type": "code",
   "execution_count": 18,
   "metadata": {
    "execution": {
     "iopub.execute_input": "2021-02-15T08:23:50.441647Z",
     "iopub.status.busy": "2021-02-15T08:23:50.440564Z",
     "iopub.status.idle": "2021-02-15T08:23:50.443897Z",
     "shell.execute_reply": "2021-02-15T08:23:50.444369Z"
    },
    "id": "QXaJtLHB5L07",
    "papermill": {
     "duration": 0.040363,
     "end_time": "2021-02-15T08:23:50.444582",
     "exception": false,
     "start_time": "2021-02-15T08:23:50.404219",
     "status": "completed"
    },
    "tags": []
   },
   "outputs": [],
   "source": [
    "def fetch_glove_embeddings(url, target_zip):\n",
    "  if os.path.exists(target_file):\n",
    "    print(\"Glove embeddings already exist!!\")\n",
    "    return\n",
    "\n",
    "  response = requests.get(URL, stream=True)\n",
    "  with open(target_zip, 'wb') as file_handle:\n",
    "    for chunk in tqdm.tqdm(response.iter_content(chunk_size=512)):\n",
    "      if chunk:      \n",
    "        file_handle.write(chunk)\n",
    "\n",
    "  zf = zipfile.ZipFile(target_zip)\n",
    "  zf.extractall()"
   ]
  },
  {
   "cell_type": "code",
   "execution_count": 19,
   "metadata": {
    "execution": {
     "iopub.execute_input": "2021-02-15T08:23:50.509230Z",
     "iopub.status.busy": "2021-02-15T08:23:50.508425Z",
     "iopub.status.idle": "2021-02-15T08:39:35.812730Z",
     "shell.execute_reply": "2021-02-15T08:39:35.811946Z"
    },
    "id": "u1BndW-E9Fdh",
    "outputId": "bd0e5697-0aa9-4a91-ba68-b998c7e3452c",
    "papermill": {
     "duration": 945.338766,
     "end_time": "2021-02-15T08:39:35.812894",
     "exception": false,
     "start_time": "2021-02-15T08:23:50.474128",
     "status": "completed"
    },
    "tags": []
   },
   "outputs": [
    {
     "name": "stderr",
     "output_type": "stream",
     "text": [
      "3667580it [14:55, 4094.60it/s]\n"
     ]
    }
   ],
   "source": [
    "fetch_glove_embeddings(URL, target_zip)"
   ]
  },
  {
   "cell_type": "code",
   "execution_count": 20,
   "metadata": {
    "execution": {
     "iopub.execute_input": "2021-02-15T08:39:54.408156Z",
     "iopub.status.busy": "2021-02-15T08:39:54.407083Z",
     "iopub.status.idle": "2021-02-15T08:59:15.590738Z",
     "shell.execute_reply": "2021-02-15T08:59:15.591415Z"
    },
    "id": "RKz8IuUQnKeX",
    "outputId": "0997eae3-285b-4f9d-b465-14d726f2dcad",
    "papermill": {
     "duration": 1163.231535,
     "end_time": "2021-02-15T08:59:15.591663",
     "exception": false,
     "start_time": "2021-02-15T08:39:52.360128",
     "status": "completed"
    },
    "tags": []
   },
   "outputs": [],
   "source": [
    "#Load the gensim pre-trained embeddings and convert them to word2vec format\n",
    "word2vec_output_file = 'glove.42B.300d.w2v.txt'\n",
    "glove2word2vec(target_file, word2vec_output_file)\n",
    "glove_model = KeyedVectors.load_word2vec_format('glove.42B.300d.w2v.txt', binary=False)"
   ]
  },
  {
   "cell_type": "code",
   "execution_count": 21,
   "metadata": {
    "execution": {
     "iopub.execute_input": "2021-02-15T08:59:16.742450Z",
     "iopub.status.busy": "2021-02-15T08:59:16.741458Z",
     "iopub.status.idle": "2021-02-15T08:59:16.744696Z",
     "shell.execute_reply": "2021-02-15T08:59:16.744187Z"
    },
    "id": "m0WfF1mGHoWd",
    "papermill": {
     "duration": 0.573369,
     "end_time": "2021-02-15T08:59:16.744852",
     "exception": false,
     "start_time": "2021-02-15T08:59:16.171483",
     "status": "completed"
    },
    "tags": []
   },
   "outputs": [],
   "source": [
    "#word embeddings for entire vocabulary from tokenizer\n",
    "def generate_word_embeddings(word_vocab):\n",
    "  num_words = len(word_vocab) + 1\n",
    "  word_embeddings = np.zeros((num_words, GLOVE_DIM))\n",
    "\n",
    "  for word, i in word_vocab.items():\n",
    "    if word in glove_model:\n",
    "      word_embeddings[i] = glove_model[word]\n",
    "\n",
    "  return word_embeddings"
   ]
  },
  {
   "cell_type": "markdown",
   "metadata": {
    "id": "TF6t-opYZB-J",
    "papermill": {
     "duration": 0.615205,
     "end_time": "2021-02-15T08:59:17.954325",
     "exception": false,
     "start_time": "2021-02-15T08:59:17.339120",
     "status": "completed"
    },
    "tags": []
   },
   "source": [
    "**Helper callbacks**"
   ]
  },
  {
   "cell_type": "code",
   "execution_count": 22,
   "metadata": {
    "execution": {
     "iopub.execute_input": "2021-02-15T08:59:19.108359Z",
     "iopub.status.busy": "2021-02-15T08:59:19.107365Z",
     "iopub.status.idle": "2021-02-15T08:59:19.110020Z",
     "shell.execute_reply": "2021-02-15T08:59:19.110472Z"
    },
    "id": "LyGfSBKrQMcf",
    "papermill": {
     "duration": 0.582088,
     "end_time": "2021-02-15T08:59:19.110666",
     "exception": false,
     "start_time": "2021-02-15T08:59:18.528578",
     "status": "completed"
    },
    "tags": []
   },
   "outputs": [],
   "source": [
    "#Callback to compute f1 score on receiving precision and recall after every epoch\n",
    "class F1_score_callback(tf.keras.callbacks.Callback):\n",
    "  def on_epoch_end(self, epoch, logs):\n",
    "    lr = self.model.optimizer.lr\n",
    "    train_precision = logs['precision']\n",
    "    train_recall = logs['recall']\n",
    "    train_f1_score = 2 * train_precision * train_recall / (train_precision + train_recall + tf.keras.backend.epsilon())\n",
    "\n",
    "    val_precision = logs['val_precision']\n",
    "    val_recall = logs['val_recall']\n",
    "    val_f1_score = 2 * val_precision * val_recall / (val_precision + val_recall + tf.keras.backend.epsilon())\n",
    "\n",
    "    print (\"Learning rate: {} Train f1score: {} Val f1score: {}\".format(lr, train_f1_score, val_f1_score))"
   ]
  },
  {
   "cell_type": "code",
   "execution_count": 23,
   "metadata": {
    "execution": {
     "iopub.execute_input": "2021-02-15T08:59:20.256119Z",
     "iopub.status.busy": "2021-02-15T08:59:20.255171Z",
     "iopub.status.idle": "2021-02-15T08:59:20.258161Z",
     "shell.execute_reply": "2021-02-15T08:59:20.257593Z"
    },
    "papermill": {
     "duration": 0.580855,
     "end_time": "2021-02-15T08:59:20.258302",
     "exception": false,
     "start_time": "2021-02-15T08:59:19.677447",
     "status": "completed"
    },
    "tags": []
   },
   "outputs": [],
   "source": [
    "#Custom metric f1-score to be used for monitoring\n",
    "def recall(y_true, y_pred):    \n",
    "    true_positives = K.sum(K.round(y_true * y_pred))\n",
    "    possible_positives = K.sum(y_true)\n",
    "    recall = true_positives / (possible_positives + K.epsilon())\n",
    "    return recall\n",
    "\n",
    "def precision(y_true, y_pred):\n",
    "    true_positives = K.sum(K.round(y_true * y_pred))\n",
    "    predicted_positives = K.sum(K.round(y_pred))\n",
    "    precision = true_positives / (predicted_positives + K.epsilon())\n",
    "    return precision\n",
    "\n",
    "def f1_score(y_true, y_pred):\n",
    "    prec = precision(y_true, y_pred)\n",
    "    rec = recall(y_true, y_pred)\n",
    "    return 2*((prec*rec)/(prec+rec+K.epsilon()))"
   ]
  },
  {
   "cell_type": "markdown",
   "metadata": {
    "id": "mmDAExGMGCLB",
    "papermill": {
     "duration": 0.587297,
     "end_time": "2021-02-15T08:59:21.415209",
     "exception": false,
     "start_time": "2021-02-15T08:59:20.827912",
     "status": "completed"
    },
    "tags": []
   },
   "source": [
    "**Train - 80% Val - 20% of entire training data available**"
   ]
  },
  {
   "cell_type": "code",
   "execution_count": 24,
   "metadata": {
    "execution": {
     "iopub.execute_input": "2021-02-15T08:59:22.564168Z",
     "iopub.status.busy": "2021-02-15T08:59:22.563427Z",
     "iopub.status.idle": "2021-02-15T08:59:22.934016Z",
     "shell.execute_reply": "2021-02-15T08:59:22.934592Z"
    },
    "id": "6efWScfXib6c",
    "papermill": {
     "duration": 0.950238,
     "end_time": "2021-02-15T08:59:22.934782",
     "exception": false,
     "start_time": "2021-02-15T08:59:21.984544",
     "status": "completed"
    },
    "tags": []
   },
   "outputs": [],
   "source": [
    "X = train_df['cleaned_text']\n",
    "y = train_df['target']\n",
    "\n",
    "X_train, X_val, y_train, y_val = train_test_split(X, y, train_size=0.8, random_state=100)\n",
    "\n",
    "cust_tokenize.fit(X_train)\n",
    "word_embeddings = generate_word_embeddings(cust_tokenize.tokenizer.word_index)\n",
    "\n",
    "X_train_transformed = cust_tokenize.vectorize_input(X_train)\n",
    "X_val_transformed = cust_tokenize.vectorize_input(X_val)"
   ]
  },
  {
   "cell_type": "code",
   "execution_count": 25,
   "metadata": {
    "execution": {
     "iopub.execute_input": "2021-02-15T08:59:24.080443Z",
     "iopub.status.busy": "2021-02-15T08:59:24.079707Z",
     "iopub.status.idle": "2021-02-15T08:59:24.083311Z",
     "shell.execute_reply": "2021-02-15T08:59:24.083850Z"
    },
    "id": "2ih5aqRIgB26",
    "papermill": {
     "duration": 0.580746,
     "end_time": "2021-02-15T08:59:24.084025",
     "exception": false,
     "start_time": "2021-02-15T08:59:23.503279",
     "status": "completed"
    },
    "tags": []
   },
   "outputs": [],
   "source": [
    "INPUT_DIM = cust_tokenize.max_length\n",
    "BATCH_SZ = 32"
   ]
  },
  {
   "cell_type": "code",
   "execution_count": 26,
   "metadata": {
    "execution": {
     "iopub.execute_input": "2021-02-15T08:59:25.233479Z",
     "iopub.status.busy": "2021-02-15T08:59:25.232713Z",
     "iopub.status.idle": "2021-02-15T09:16:05.588762Z",
     "shell.execute_reply": "2021-02-15T09:16:05.557971Z"
    },
    "id": "hblD0JvXcdFb",
    "outputId": "85a7dfc2-1391-46e2-e7c7-c523fca66780",
    "papermill": {
     "duration": 1000.937267,
     "end_time": "2021-02-15T09:16:05.588979",
     "exception": false,
     "start_time": "2021-02-15T08:59:24.651712",
     "status": "completed"
    },
    "tags": []
   },
   "outputs": [
    {
     "name": "stdout",
     "output_type": "stream",
     "text": [
      "Epoch 1/100\n",
      "191/191 [==============================] - 17s 77ms/step - loss: 0.5777 - acc: 0.7154 - f1_score: 0.5395 - val_loss: 0.4731 - val_acc: 0.8050 - val_f1_score: 0.7294\n",
      "\n",
      "Epoch 00001: val_f1_score improved from -inf to 0.72940, saving model to best_model.h5\n",
      "Epoch 2/100\n",
      "191/191 [==============================] - 14s 73ms/step - loss: 0.4720 - acc: 0.8062 - f1_score: 0.7433 - val_loss: 0.4563 - val_acc: 0.8089 - val_f1_score: 0.7536\n",
      "\n",
      "Epoch 00002: val_f1_score improved from 0.72940 to 0.75356, saving model to best_model.h5\n",
      "Epoch 3/100\n",
      "191/191 [==============================] - 14s 74ms/step - loss: 0.4594 - acc: 0.8034 - f1_score: 0.7400 - val_loss: 0.4968 - val_acc: 0.7965 - val_f1_score: 0.7102\n",
      "\n",
      "Epoch 00003: val_f1_score did not improve from 0.75356\n",
      "Epoch 4/100\n",
      "191/191 [==============================] - 14s 75ms/step - loss: 0.4532 - acc: 0.8087 - f1_score: 0.7429 - val_loss: 0.4338 - val_acc: 0.8116 - val_f1_score: 0.7432\n",
      "\n",
      "Epoch 00004: val_f1_score did not improve from 0.75356\n",
      "Epoch 5/100\n",
      "191/191 [==============================] - 14s 73ms/step - loss: 0.4462 - acc: 0.8064 - f1_score: 0.7524 - val_loss: 0.4589 - val_acc: 0.7702 - val_f1_score: 0.6337\n",
      "\n",
      "Epoch 00005: val_f1_score did not improve from 0.75356\n",
      "Epoch 6/100\n",
      "191/191 [==============================] - 14s 74ms/step - loss: 0.4507 - acc: 0.8015 - f1_score: 0.7482 - val_loss: 0.4568 - val_acc: 0.8122 - val_f1_score: 0.7606\n",
      "\n",
      "Epoch 00006: val_f1_score improved from 0.75356 to 0.76064, saving model to best_model.h5\n",
      "Epoch 7/100\n",
      "191/191 [==============================] - 14s 72ms/step - loss: 0.4479 - acc: 0.8016 - f1_score: 0.7548 - val_loss: 0.4912 - val_acc: 0.7800 - val_f1_score: 0.7384\n",
      "\n",
      "Epoch 00007: val_f1_score did not improve from 0.76064\n",
      "Epoch 8/100\n",
      "191/191 [==============================] - 14s 75ms/step - loss: 0.5502 - acc: 0.7375 - f1_score: 0.6152 - val_loss: 0.5224 - val_acc: 0.7800 - val_f1_score: 0.6838\n",
      "\n",
      "Epoch 00008: val_f1_score did not improve from 0.76064\n",
      "Epoch 9/100\n",
      "191/191 [==============================] - 14s 73ms/step - loss: 0.5333 - acc: 0.7751 - f1_score: 0.6999 - val_loss: 0.5256 - val_acc: 0.7859 - val_f1_score: 0.7309\n",
      "\n",
      "Epoch 00009: val_f1_score did not improve from 0.76064\n",
      "Epoch 10/100\n",
      "191/191 [==============================] - 14s 72ms/step - loss: 0.5187 - acc: 0.7873 - f1_score: 0.7202 - val_loss: 0.5585 - val_acc: 0.7321 - val_f1_score: 0.5564\n",
      "\n",
      "Epoch 00010: val_f1_score did not improve from 0.76064\n",
      "Epoch 11/100\n",
      "191/191 [==============================] - 14s 73ms/step - loss: 0.5707 - acc: 0.7314 - f1_score: 0.5521 - val_loss: 0.5805 - val_acc: 0.6691 - val_f1_score: 0.6980\n",
      "\n",
      "Epoch 00011: val_f1_score did not improve from 0.76064\n",
      "Epoch 12/100\n",
      "191/191 [==============================] - 14s 73ms/step - loss: 0.5909 - acc: 0.6507 - f1_score: 0.5991 - val_loss: 0.5820 - val_acc: 0.6658 - val_f1_score: 0.6969\n",
      "\n",
      "Epoch 00012: val_f1_score did not improve from 0.76064\n",
      "Epoch 13/100\n",
      "191/191 [==============================] - 14s 73ms/step - loss: 0.5939 - acc: 0.6628 - f1_score: 0.6517 - val_loss: 0.5679 - val_acc: 0.7682 - val_f1_score: 0.7284\n",
      "\n",
      "Epoch 00013: val_f1_score did not improve from 0.76064\n",
      "Epoch 14/100\n",
      "191/191 [==============================] - 14s 72ms/step - loss: 0.5214 - acc: 0.7647 - f1_score: 0.7002 - val_loss: 0.4516 - val_acc: 0.8102 - val_f1_score: 0.7508\n",
      "\n",
      "Epoch 00014: val_f1_score did not improve from 0.76064\n",
      "Epoch 15/100\n",
      "191/191 [==============================] - 14s 75ms/step - loss: 0.4267 - acc: 0.8244 - f1_score: 0.7780 - val_loss: 0.4467 - val_acc: 0.7971 - val_f1_score: 0.7094\n",
      "\n",
      "Epoch 00015: val_f1_score did not improve from 0.76064\n",
      "Epoch 16/100\n",
      "191/191 [==============================] - 14s 72ms/step - loss: 0.4059 - acc: 0.8335 - f1_score: 0.7839 - val_loss: 0.4580 - val_acc: 0.7984 - val_f1_score: 0.7005\n",
      "\n",
      "Epoch 00016: val_f1_score did not improve from 0.76064\n",
      "Epoch 17/100\n",
      "191/191 [==============================] - 14s 74ms/step - loss: 0.3832 - acc: 0.8367 - f1_score: 0.7842 - val_loss: 0.4310 - val_acc: 0.8188 - val_f1_score: 0.7698\n",
      "\n",
      "Epoch 00017: val_f1_score improved from 0.76064 to 0.76981, saving model to best_model.h5\n",
      "Epoch 18/100\n",
      "191/191 [==============================] - 14s 74ms/step - loss: 0.3510 - acc: 0.8598 - f1_score: 0.8225 - val_loss: 0.4320 - val_acc: 0.8142 - val_f1_score: 0.7419\n",
      "\n",
      "Epoch 00018: val_f1_score did not improve from 0.76981\n",
      "Epoch 19/100\n",
      "191/191 [==============================] - 15s 77ms/step - loss: 0.3209 - acc: 0.8711 - f1_score: 0.8356 - val_loss: 0.4439 - val_acc: 0.8142 - val_f1_score: 0.7500\n",
      "\n",
      "Epoch 00019: val_f1_score did not improve from 0.76981\n",
      "Epoch 20/100\n",
      "191/191 [==============================] - 14s 75ms/step - loss: 0.3055 - acc: 0.8817 - f1_score: 0.8536 - val_loss: 0.5060 - val_acc: 0.8076 - val_f1_score: 0.7688\n",
      "\n",
      "Epoch 00020: val_f1_score did not improve from 0.76981\n",
      "Epoch 21/100\n",
      "191/191 [==============================] - 14s 74ms/step - loss: 0.2936 - acc: 0.8876 - f1_score: 0.8500 - val_loss: 0.4758 - val_acc: 0.8089 - val_f1_score: 0.7579\n",
      "\n",
      "Epoch 00021: val_f1_score did not improve from 0.76981\n",
      "Epoch 22/100\n",
      "191/191 [==============================] - 14s 75ms/step - loss: 0.2503 - acc: 0.9073 - f1_score: 0.8830 - val_loss: 0.4996 - val_acc: 0.8037 - val_f1_score: 0.7508\n",
      "\n",
      "Epoch 00022: val_f1_score did not improve from 0.76981\n",
      "Epoch 23/100\n",
      "191/191 [==============================] - 14s 75ms/step - loss: 0.2373 - acc: 0.9131 - f1_score: 0.8853 - val_loss: 0.5078 - val_acc: 0.7938 - val_f1_score: 0.7441\n",
      "\n",
      "Epoch 00023: val_f1_score did not improve from 0.76981\n",
      "Epoch 24/100\n",
      "191/191 [==============================] - 15s 77ms/step - loss: 0.2317 - acc: 0.9149 - f1_score: 0.8968 - val_loss: 0.4978 - val_acc: 0.7997 - val_f1_score: 0.7616\n",
      "\n",
      "Epoch 00024: val_f1_score did not improve from 0.76981\n",
      "Epoch 25/100\n",
      "191/191 [==============================] - 15s 77ms/step - loss: 0.2084 - acc: 0.9243 - f1_score: 0.9052 - val_loss: 0.5343 - val_acc: 0.8129 - val_f1_score: 0.7500\n",
      "\n",
      "Epoch 00025: val_f1_score did not improve from 0.76981\n",
      "Epoch 26/100\n",
      "191/191 [==============================] - 16s 84ms/step - loss: 0.1984 - acc: 0.9263 - f1_score: 0.9064 - val_loss: 0.5052 - val_acc: 0.8043 - val_f1_score: 0.7424\n",
      "\n",
      "Epoch 00026: val_f1_score did not improve from 0.76981\n",
      "Epoch 27/100\n",
      "191/191 [==============================] - 15s 76ms/step - loss: 0.2084 - acc: 0.9190 - f1_score: 0.9010 - val_loss: 0.5213 - val_acc: 0.8050 - val_f1_score: 0.7305\n",
      "\n",
      "Epoch 00027: val_f1_score did not improve from 0.76981\n",
      "Epoch 28/100\n",
      "191/191 [==============================] - 14s 75ms/step - loss: 0.1941 - acc: 0.9230 - f1_score: 0.9052 - val_loss: 0.5290 - val_acc: 0.8017 - val_f1_score: 0.7429\n",
      "\n",
      "Epoch 00028: val_f1_score did not improve from 0.76981\n",
      "Epoch 29/100\n",
      "191/191 [==============================] - 15s 77ms/step - loss: 0.1877 - acc: 0.9305 - f1_score: 0.9146 - val_loss: 0.5711 - val_acc: 0.8102 - val_f1_score: 0.7577\n",
      "\n",
      "Epoch 00029: val_f1_score did not improve from 0.76981\n",
      "Epoch 30/100\n",
      "191/191 [==============================] - 14s 75ms/step - loss: 0.1797 - acc: 0.9316 - f1_score: 0.9075 - val_loss: 0.5503 - val_acc: 0.7978 - val_f1_score: 0.7401\n",
      "\n",
      "Epoch 00030: val_f1_score did not improve from 0.76981\n",
      "Epoch 31/100\n",
      "191/191 [==============================] - 14s 74ms/step - loss: 0.1863 - acc: 0.9293 - f1_score: 0.9103 - val_loss: 0.6183 - val_acc: 0.7886 - val_f1_score: 0.7438\n",
      "\n",
      "Epoch 00031: val_f1_score did not improve from 0.76981\n",
      "Epoch 32/100\n",
      "191/191 [==============================] - 15s 79ms/step - loss: 0.1747 - acc: 0.9357 - f1_score: 0.9217 - val_loss: 0.6147 - val_acc: 0.7905 - val_f1_score: 0.7168\n",
      "\n",
      "Epoch 00032: val_f1_score did not improve from 0.76981\n",
      "Epoch 33/100\n",
      "191/191 [==============================] - 14s 74ms/step - loss: 0.1918 - acc: 0.9267 - f1_score: 0.9135 - val_loss: 0.6661 - val_acc: 0.5719 - val_f1_score: 0.0000e+00\n",
      "\n",
      "Epoch 00033: val_f1_score did not improve from 0.76981\n",
      "Epoch 34/100\n",
      "191/191 [==============================] - 15s 78ms/step - loss: 0.6283 - acc: 0.6556 - f1_score: 0.5201 - val_loss: 0.5411 - val_acc: 0.7479 - val_f1_score: 0.6556\n",
      "\n",
      "Epoch 00034: val_f1_score did not improve from 0.76981\n",
      "Epoch 35/100\n",
      "191/191 [==============================] - 15s 76ms/step - loss: 0.4970 - acc: 0.7814 - f1_score: 0.7048 - val_loss: 0.5135 - val_acc: 0.7866 - val_f1_score: 0.7130\n",
      "\n",
      "Epoch 00035: val_f1_score did not improve from 0.76981\n",
      "Epoch 36/100\n",
      "191/191 [==============================] - 15s 77ms/step - loss: 0.4415 - acc: 0.8152 - f1_score: 0.7633 - val_loss: 0.4817 - val_acc: 0.7978 - val_f1_score: 0.7281\n",
      "\n",
      "Epoch 00036: val_f1_score did not improve from 0.76981\n",
      "Epoch 37/100\n",
      "191/191 [==============================] - 15s 78ms/step - loss: 0.4377 - acc: 0.8208 - f1_score: 0.7701 - val_loss: 0.4731 - val_acc: 0.8017 - val_f1_score: 0.7442\n",
      "\n",
      "Epoch 00037: val_f1_score did not improve from 0.76981\n",
      "Epoch 38/100\n",
      "191/191 [==============================] - 14s 75ms/step - loss: 0.3756 - acc: 0.8438 - f1_score: 0.7993 - val_loss: 0.4693 - val_acc: 0.8004 - val_f1_score: 0.7347\n",
      "\n",
      "Epoch 00038: val_f1_score did not improve from 0.76981\n",
      "Epoch 39/100\n",
      "191/191 [==============================] - 15s 80ms/step - loss: 0.3677 - acc: 0.8516 - f1_score: 0.8100 - val_loss: 0.5055 - val_acc: 0.7761 - val_f1_score: 0.7382\n",
      "\n",
      "Epoch 00039: val_f1_score did not improve from 0.76981\n",
      "Epoch 40/100\n",
      "191/191 [==============================] - 15s 81ms/step - loss: 0.3595 - acc: 0.8493 - f1_score: 0.8101 - val_loss: 0.4710 - val_acc: 0.8030 - val_f1_score: 0.7460\n",
      "\n",
      "Epoch 00040: val_f1_score did not improve from 0.76981\n",
      "Epoch 41/100\n",
      "191/191 [==============================] - 16s 85ms/step - loss: 0.3330 - acc: 0.8580 - f1_score: 0.8243 - val_loss: 0.5134 - val_acc: 0.8024 - val_f1_score: 0.7259\n",
      "\n",
      "Epoch 00041: val_f1_score did not improve from 0.76981\n",
      "Epoch 42/100\n",
      "191/191 [==============================] - 14s 76ms/step - loss: 0.3516 - acc: 0.8558 - f1_score: 0.8215 - val_loss: 0.4967 - val_acc: 0.7945 - val_f1_score: 0.7403\n",
      "\n",
      "Epoch 00042: val_f1_score did not improve from 0.76981\n",
      "Epoch 43/100\n",
      "191/191 [==============================] - 15s 77ms/step - loss: 0.3433 - acc: 0.8567 - f1_score: 0.8211 - val_loss: 0.5039 - val_acc: 0.7820 - val_f1_score: 0.7416\n",
      "\n",
      "Epoch 00043: val_f1_score did not improve from 0.76981\n",
      "Epoch 44/100\n",
      "191/191 [==============================] - 15s 78ms/step - loss: 0.3331 - acc: 0.8613 - f1_score: 0.8293 - val_loss: 0.5234 - val_acc: 0.7689 - val_f1_score: 0.7332\n",
      "\n",
      "Epoch 00044: val_f1_score did not improve from 0.76981\n",
      "Epoch 45/100\n",
      "191/191 [==============================] - 15s 76ms/step - loss: 0.3598 - acc: 0.8527 - f1_score: 0.8148 - val_loss: 0.5214 - val_acc: 0.7328 - val_f1_score: 0.7112\n",
      "\n",
      "Epoch 00045: val_f1_score did not improve from 0.76981\n",
      "Epoch 46/100\n",
      "191/191 [==============================] - 16s 82ms/step - loss: 0.5316 - acc: 0.7444 - f1_score: 0.6790 - val_loss: 0.6554 - val_acc: 0.6343 - val_f1_score: 0.4374\n",
      "\n",
      "Epoch 00046: val_f1_score did not improve from 0.76981\n",
      "Epoch 47/100\n",
      "191/191 [==============================] - 15s 77ms/step - loss: 0.6645 - acc: 0.6312 - f1_score: 0.5189 - val_loss: 0.6587 - val_acc: 0.6244 - val_f1_score: 0.4813\n",
      "\n",
      "Epoch 00047: val_f1_score did not improve from 0.76981\n",
      "Epoch 48/100\n",
      "191/191 [==============================] - 14s 75ms/step - loss: 0.6747 - acc: 0.6159 - f1_score: 0.4862 - val_loss: 0.6583 - val_acc: 0.6014 - val_f1_score: 0.5802\n",
      "\n",
      "Epoch 00048: val_f1_score did not improve from 0.76981\n",
      "Epoch 49/100\n",
      "191/191 [==============================] - 15s 80ms/step - loss: 0.6756 - acc: 0.6058 - f1_score: 0.4718 - val_loss: 0.6301 - val_acc: 0.6513 - val_f1_score: 0.5611\n",
      "\n",
      "Epoch 00049: val_f1_score did not improve from 0.76981\n",
      "Epoch 50/100\n",
      "191/191 [==============================] - 15s 76ms/step - loss: 0.6730 - acc: 0.6131 - f1_score: 0.4434 - val_loss: 0.7209 - val_acc: 0.6146 - val_f1_score: 0.2619\n",
      "\n",
      "Epoch 00050: val_f1_score did not improve from 0.76981\n",
      "Epoch 51/100\n",
      "191/191 [==============================] - 15s 80ms/step - loss: 0.6754 - acc: 0.6131 - f1_score: 0.4836 - val_loss: 0.6973 - val_acc: 0.5758 - val_f1_score: 0.6334\n",
      "\n",
      "Epoch 00051: val_f1_score did not improve from 0.76981\n",
      "Epoch 52/100\n",
      "191/191 [==============================] - 15s 79ms/step - loss: 0.6764 - acc: 0.5981 - f1_score: 0.4810 - val_loss: 0.6545 - val_acc: 0.6284 - val_f1_score: 0.6361\n",
      "\n",
      "Epoch 00052: val_f1_score did not improve from 0.76981\n",
      "Epoch 53/100\n",
      "191/191 [==============================] - 15s 77ms/step - loss: 0.6553 - acc: 0.6218 - f1_score: 0.5164 - val_loss: 0.6382 - val_acc: 0.6586 - val_f1_score: 0.5118\n",
      "\n",
      "Epoch 00053: val_f1_score did not improve from 0.76981\n",
      "Epoch 54/100\n",
      "191/191 [==============================] - 16s 82ms/step - loss: 0.6648 - acc: 0.6248 - f1_score: 0.4976 - val_loss: 0.6256 - val_acc: 0.6474 - val_f1_score: 0.6092\n",
      "\n",
      "Epoch 00054: val_f1_score did not improve from 0.76981\n",
      "Epoch 55/100\n",
      "191/191 [==============================] - 15s 76ms/step - loss: 0.6885 - acc: 0.6062 - f1_score: 0.4825 - val_loss: 0.6233 - val_acc: 0.6573 - val_f1_score: 0.5046\n",
      "\n",
      "Epoch 00055: val_f1_score did not improve from 0.76981\n",
      "Epoch 56/100\n",
      "191/191 [==============================] - 15s 77ms/step - loss: 0.6850 - acc: 0.6050 - f1_score: 0.4768 - val_loss: 0.6383 - val_acc: 0.6376 - val_f1_score: 0.4137\n",
      "\n",
      "Epoch 00056: val_f1_score did not improve from 0.76981\n",
      "Epoch 57/100\n",
      "191/191 [==============================] - 15s 77ms/step - loss: 0.6607 - acc: 0.6282 - f1_score: 0.4938 - val_loss: 0.6318 - val_acc: 0.6540 - val_f1_score: 0.5859\n",
      "\n",
      "Epoch 00057: val_f1_score did not improve from 0.76981\n",
      "Epoch 58/100\n",
      "191/191 [==============================] - 15s 81ms/step - loss: 0.6880 - acc: 0.6067 - f1_score: 0.4629 - val_loss: 0.7602 - val_acc: 0.5982 - val_f1_score: 0.1726\n",
      "\n",
      "Epoch 00058: val_f1_score did not improve from 0.76981\n",
      "Epoch 59/100\n",
      "191/191 [==============================] - 15s 77ms/step - loss: 0.7117 - acc: 0.5994 - f1_score: 0.4216 - val_loss: 0.7485 - val_acc: 0.5719 - val_f1_score: 0.6014\n",
      "\n",
      "Epoch 00059: val_f1_score did not improve from 0.76981\n",
      "Epoch 60/100\n",
      "191/191 [==============================] - 14s 75ms/step - loss: 1.0270 - acc: 0.5234 - f1_score: 0.3797 - val_loss: 0.7023 - val_acc: 0.5726 - val_f1_score: 0.5144\n",
      "\n",
      "Epoch 00060: val_f1_score did not improve from 0.76981\n",
      "Epoch 61/100\n",
      "191/191 [==============================] - 15s 77ms/step - loss: 0.8321 - acc: 0.5353 - f1_score: 0.3395 - val_loss: 0.6906 - val_acc: 0.6021 - val_f1_score: 0.3129\n",
      "\n",
      "Epoch 00061: val_f1_score did not improve from 0.76981\n",
      "Epoch 62/100\n",
      "191/191 [==============================] - 15s 79ms/step - loss: 0.8011 - acc: 0.5416 - f1_score: 0.3345 - val_loss: 0.9012 - val_acc: 0.4636 - val_f1_score: 0.5981\n",
      "\n",
      "Epoch 00062: val_f1_score did not improve from 0.76981\n",
      "Epoch 63/100\n",
      "191/191 [==============================] - 16s 83ms/step - loss: 0.7828 - acc: 0.5494 - f1_score: 0.3580 - val_loss: 0.6887 - val_acc: 0.5955 - val_f1_score: 0.4082\n",
      "\n",
      "Epoch 00063: val_f1_score did not improve from 0.76981\n",
      "Epoch 64/100\n",
      "191/191 [==============================] - 14s 76ms/step - loss: 0.7260 - acc: 0.5728 - f1_score: 0.4136 - val_loss: 1.0783 - val_acc: 0.5752 - val_f1_score: 0.0245\n",
      "\n",
      "Epoch 00064: val_f1_score did not improve from 0.76981\n",
      "Epoch 65/100\n",
      "191/191 [==============================] - 15s 77ms/step - loss: 0.7802 - acc: 0.5365 - f1_score: 0.3540 - val_loss: 0.8088 - val_acc: 0.5726 - val_f1_score: 0.0434\n",
      "\n",
      "Epoch 00065: val_f1_score did not improve from 0.76981\n",
      "Epoch 66/100\n",
      "191/191 [==============================] - 14s 75ms/step - loss: 0.7785 - acc: 0.5656 - f1_score: 0.3665 - val_loss: 0.6874 - val_acc: 0.6113 - val_f1_score: 0.4256\n",
      "\n",
      "Epoch 00066: val_f1_score did not improve from 0.76981\n",
      "Epoch 67/100\n",
      "191/191 [==============================] - 16s 84ms/step - loss: 0.7848 - acc: 0.5552 - f1_score: 0.3781 - val_loss: 1.2479 - val_acc: 0.5739 - val_f1_score: 0.0076\n",
      "\n",
      "Epoch 00067: val_f1_score did not improve from 0.76981\n"
     ]
    }
   ],
   "source": [
    "#Define a sequential model with embedding layer to generate embeddings of input sequences\n",
    "model = tf.keras.models.Sequential([\n",
    "          tf.keras.layers.Embedding(word_embeddings.shape[0], GLOVE_DIM, embeddings_initializer=tf.constant_initializer(word_embeddings),\n",
    "                                    input_length = INPUT_DIM, trainable=False),\n",
    "          tf.keras.layers.Dropout(0.2),\n",
    "          tf.keras.layers.LSTM(128),          \n",
    "          tf.keras.layers.Dense(1, activation='sigmoid')\n",
    "          ])\n",
    "\n",
    "optimizer = tf.keras.optimizers.Adam(lr=0.001)\n",
    "model.compile(optimizer, loss=tf.keras.losses.BinaryCrossentropy(), \n",
    "               metrics=['acc', f1_score])\n",
    "  \n",
    "lr_schedule = tf.keras.callbacks.LearningRateScheduler(lambda epoch: 1e-3 * 10**(epoch / 30))\n",
    "early_stopping = tf.keras.callbacks.EarlyStopping(patience=50)\n",
    "model_checkpoint = tf.keras.callbacks.ModelCheckpoint(\"best_model.h5\", save_best_only=True, verbose=1,\n",
    "                                                     mode='max', monitor='val_f1_score')\n",
    "  \n",
    "history = model.fit(X_train_transformed, y_train, batch_size=32, epochs=100, validation_data=(X_val_transformed, y_val), callbacks=[lr_schedule, early_stopping, model_checkpoint])"
   ]
  },
  {
   "cell_type": "code",
   "execution_count": 27,
   "metadata": {
    "execution": {
     "iopub.execute_input": "2021-02-15T09:16:14.634530Z",
     "iopub.status.busy": "2021-02-15T09:16:14.633821Z",
     "iopub.status.idle": "2021-02-15T09:16:14.884860Z",
     "shell.execute_reply": "2021-02-15T09:16:14.883747Z"
    },
    "id": "qBDbhC7t2Ndv",
    "outputId": "a7e60372-c9d6-4c68-8307-d1947c043c9b",
    "papermill": {
     "duration": 4.766722,
     "end_time": "2021-02-15T09:16:14.885046",
     "exception": false,
     "start_time": "2021-02-15T09:16:10.118324",
     "status": "completed"
    },
    "tags": []
   },
   "outputs": [
    {
     "data": {
      "image/png": "[encoded data removed]",
      "text/plain": [
       "<Figure size 432x288 with 1 Axes>"
      ]
     },
     "metadata": {
      "needs_background": "light"
     },
     "output_type": "display_data"
    }
   ],
   "source": [
    "#plot precision and recall with respect to learning rate\n",
    "plt.xlabel(\"learning rate\")\n",
    "plt.plot(history.history['lr'], history.history['f1_score'], label='training')\n",
    "plt.plot(history.history['lr'], history.history['val_f1_score'], label='validation')\n",
    "plt.legend(loc='upper right')\n",
    "plt.show()"
   ]
  },
  {
   "cell_type": "code",
   "execution_count": 28,
   "metadata": {
    "execution": {
     "iopub.execute_input": "2021-02-15T09:16:26.157008Z",
     "iopub.status.busy": "2021-02-15T09:16:26.144029Z",
     "iopub.status.idle": "2021-02-15T09:16:26.573951Z",
     "shell.execute_reply": "2021-02-15T09:16:26.573030Z"
    },
    "id": "7Jm4wGoK2qiG",
    "outputId": "70c9c4f4-ec92-46f1-9c80-848526384b1f",
    "papermill": {
     "duration": 7.091257,
     "end_time": "2021-02-15T09:16:26.574167",
     "exception": false,
     "start_time": "2021-02-15T09:16:19.482910",
     "status": "completed"
    },
    "tags": []
   },
   "outputs": [
    {
     "name": "stdout",
     "output_type": "stream",
     "text": [
      "Model: \"sequential\"\n",
      "_________________________________________________________________\n",
      "Layer (type)                 Output Shape              Param #   \n",
      "=================================================================\n",
      "embedding (Embedding)        (None, 50, 300)           3232200   \n",
      "_________________________________________________________________\n",
      "dropout (Dropout)            (None, 50, 300)           0         \n",
      "_________________________________________________________________\n",
      "lstm (LSTM)                  (None, 128)               219648    \n",
      "_________________________________________________________________\n",
      "dense (Dense)                (None, 1)                 129       \n",
      "=================================================================\n",
      "Total params: 3,451,977\n",
      "Trainable params: 219,777\n",
      "Non-trainable params: 3,232,200\n",
      "_________________________________________________________________\n"
     ]
    }
   ],
   "source": [
    "#Loading the best model to be used for predictions\n",
    "reloaded_model = tf.keras.models.load_model('./best_model.h5', custom_objects={'f1_score':f1_score})\n",
    "reloaded_model.summary()"
   ]
  },
  {
   "cell_type": "markdown",
   "metadata": {
    "id": "xPZxMVVnajdz",
    "papermill": {
     "duration": 4.602544,
     "end_time": "2021-02-15T09:16:35.767223",
     "exception": false,
     "start_time": "2021-02-15T09:16:31.164679",
     "status": "completed"
    },
    "tags": []
   },
   "source": [
    "**Prediction on test set to be evaluated**"
   ]
  },
  {
   "cell_type": "code",
   "execution_count": 29,
   "metadata": {
    "execution": {
     "iopub.execute_input": "2021-02-15T09:16:44.814915Z",
     "iopub.status.busy": "2021-02-15T09:16:44.806856Z",
     "iopub.status.idle": "2021-02-15T09:17:02.872636Z",
     "shell.execute_reply": "2021-02-15T09:17:02.871916Z"
    },
    "id": "DkN9wCuDDq4Y",
    "outputId": "9ac70da6-b7f2-4832-9f35-3c38f0aa0eeb",
    "papermill": {
     "duration": 22.633075,
     "end_time": "2021-02-15T09:17:02.872822",
     "exception": false,
     "start_time": "2021-02-15T09:16:40.239747",
     "status": "completed"
    },
    "tags": []
   },
   "outputs": [
    {
     "data": {
      "text/plain": [
       "0                                      happen terrible car crash\n",
       "1              hear earthquake different city stay safe everyone\n",
       "2    forest fire spot pond geese flee across street can not save\n",
       "3                           apocalypse lighting spokane wildfire\n",
       "4                             typhoon soudelor kill china taiwan\n",
       "Name: cleaned_text, dtype: object"
      ]
     },
     "execution_count": 29,
     "metadata": {},
     "output_type": "execute_result"
    }
   ],
   "source": [
    "test_df.drop(columns=['keyword', 'location'], inplace=True)\n",
    "test_df['cleaned_text'] = test_df.apply(lambda row:clean_text(row['text']), axis=1)\n",
    "test_df['cleaned_text'][0:5]"
   ]
  },
  {
   "cell_type": "code",
   "execution_count": 30,
   "metadata": {
    "execution": {
     "iopub.execute_input": "2021-02-15T09:17:12.045318Z",
     "iopub.status.busy": "2021-02-15T09:17:12.039694Z",
     "iopub.status.idle": "2021-02-15T09:17:15.249176Z",
     "shell.execute_reply": "2021-02-15T09:17:15.248485Z"
    },
    "id": "dmkLV2ZfegT9",
    "papermill": {
     "duration": 7.786335,
     "end_time": "2021-02-15T09:17:15.249332",
     "exception": false,
     "start_time": "2021-02-15T09:17:07.462997",
     "status": "completed"
    },
    "tags": []
   },
   "outputs": [],
   "source": [
    "test_transformed = cust_tokenize.vectorize_input(test_df['cleaned_text'])\n",
    "test_predictions = reloaded_model.predict(test_transformed)\n",
    "test_predictions = np.round(test_predictions).astype(int)\n",
    "test_predictions = test_predictions.reshape((3263,))"
   ]
  },
  {
   "cell_type": "code",
   "execution_count": 31,
   "metadata": {
    "execution": {
     "iopub.execute_input": "2021-02-15T09:17:24.252825Z",
     "iopub.status.busy": "2021-02-15T09:17:24.252102Z",
     "iopub.status.idle": "2021-02-15T09:17:24.266926Z",
     "shell.execute_reply": "2021-02-15T09:17:24.266310Z"
    },
    "id": "CZQ3KnKlteL8",
    "papermill": {
     "duration": 4.472836,
     "end_time": "2021-02-15T09:17:24.267090",
     "exception": false,
     "start_time": "2021-02-15T09:17:19.794254",
     "status": "completed"
    },
    "tags": []
   },
   "outputs": [],
   "source": [
    "submission = pd.DataFrame({'id':test_df['id'], 'target':test_predictions})\n",
    "submission.to_csv('./submission.csv', index=False)"
   ]
  },
  {
   "cell_type": "code",
   "execution_count": null,
   "metadata": {
    "id": "nIn0PvYttQ1k",
    "papermill": {
     "duration": 4.534003,
     "end_time": "2021-02-15T09:17:33.373445",
     "exception": false,
     "start_time": "2021-02-15T09:17:28.839442",
     "status": "completed"
    },
    "tags": []
   },
   "outputs": [],
   "source": []
  }
 ],
 "metadata": {
  "kernelspec": {
   "display_name": "Python 3",
   "language": "python",
   "name": "python3"
  },
  "language_info": {
   "codemirror_mode": {
    "name": "ipython",
    "version": 3
   },
   "file_extension": ".py",
   "mimetype": "text/x-python",
   "name": "python",
   "nbconvert_exporter": "python",
   "pygments_lexer": "ipython3",
   "version": "3.7.9"
  },
  "papermill": {
   "default_parameters": {},
   "duration": 3291.303871,
   "end_time": "2021-02-15T09:17:40.477563",
   "environment_variables": {},
   "exception": null,
   "input_path": "__notebook__.ipynb",
   "output_path": "__notebook__.ipynb",
   "parameters": {},
   "start_time": "2021-02-15T08:22:49.173692",
   "version": "2.2.2"
  }
 },
 "nbformat": 4,
 "nbformat_minor": 4
}

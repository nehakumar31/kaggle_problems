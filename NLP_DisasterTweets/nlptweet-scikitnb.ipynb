{
 "cells": [
  {
   "cell_type": "markdown",
   "metadata": {
    "id": "DSHfg3O3IoBk",
    "papermill": {
     "duration": 0.020122,
     "end_time": "2021-02-09T12:51:46.487985",
     "exception": false,
     "start_time": "2021-02-09T12:51:46.467863",
     "status": "completed"
    },
    "tags": []
   },
   "source": [
    "**Approach - <br>\n",
    "a) Bag of words model using CountVectorizer<br>\n",
    "b) Naive Bayes classification**"
   ]
  },
  {
   "cell_type": "code",
   "execution_count": 1,
   "metadata": {
    "execution": {
     "iopub.execute_input": "2021-02-09T12:51:46.533616Z",
     "iopub.status.busy": "2021-02-09T12:51:46.533006Z",
     "iopub.status.idle": "2021-02-09T12:51:48.485222Z",
     "shell.execute_reply": "2021-02-09T12:51:48.484244Z"
    },
    "executionInfo": {
     "elapsed": 1259,
     "status": "ok",
     "timestamp": 1612873859969,
     "user": {
      "displayName": "Neha Kumar",
      "photoUrl": "https://lh3.googleusercontent.com/a-/AOh14GgO7I8Zb8X8JN2s-HdGHdd9c3fVVhdn-eda4behUA=s64",
      "userId": "14029980675532820705"
     },
     "user_tz": -330
    },
    "id": "cGAKI9Pzaw-C",
    "papermill": {
     "duration": 1.977828,
     "end_time": "2021-02-09T12:51:48.485418",
     "exception": false,
     "start_time": "2021-02-09T12:51:46.507590",
     "status": "completed"
    },
    "tags": []
   },
   "outputs": [],
   "source": [
    "import regex as re\n",
    "import string\n",
    "\n",
    "import numpy as np\n",
    "import pandas as pd\n",
    "\n",
    "import matplotlib.pyplot as plt\n",
    "import seaborn as sns\n",
    "\n",
    "from nltk.tokenize import TweetTokenizer\n",
    "from nltk.corpus import stopwords\n",
    "from nltk.stem.snowball import SnowballStemmer\n",
    "\n",
    "from sklearn.feature_extraction.text import CountVectorizer\n",
    "from sklearn.model_selection import train_test_split\n",
    "from sklearn.metrics import f1_score\n",
    "from sklearn.naive_bayes import BernoulliNB"
   ]
  },
  {
   "cell_type": "code",
   "execution_count": 2,
   "metadata": {
    "execution": {
     "iopub.execute_input": "2021-02-09T12:51:48.539256Z",
     "iopub.status.busy": "2021-02-09T12:51:48.538625Z",
     "iopub.status.idle": "2021-02-09T12:51:49.058240Z",
     "shell.execute_reply": "2021-02-09T12:51:49.058932Z"
    },
    "executionInfo": {
     "elapsed": 1210,
     "status": "ok",
     "timestamp": 1612873866677,
     "user": {
      "displayName": "Neha Kumar",
      "photoUrl": "https://lh3.googleusercontent.com/a-/AOh14GgO7I8Zb8X8JN2s-HdGHdd9c3fVVhdn-eda4behUA=s64",
      "userId": "14029980675532820705"
     },
     "user_tz": -330
    },
    "id": "oeg9w65e591B",
    "outputId": "5467cd4c-ea08-451d-eebc-c2afd2b33bd7",
    "papermill": {
     "duration": 0.554004,
     "end_time": "2021-02-09T12:51:49.059146",
     "exception": false,
     "start_time": "2021-02-09T12:51:48.505142",
     "status": "completed"
    },
    "tags": []
   },
   "outputs": [
    {
     "name": "stdout",
     "output_type": "stream",
     "text": [
      "[nltk_data] Downloading package stopwords to /usr/share/nltk_data...\n",
      "[nltk_data]   Package stopwords is already up-to-date!\n"
     ]
    },
    {
     "data": {
      "text/plain": [
       "True"
      ]
     },
     "execution_count": 2,
     "metadata": {},
     "output_type": "execute_result"
    }
   ],
   "source": [
    "import nltk\n",
    "nltk.download('stopwords')"
   ]
  },
  {
   "cell_type": "markdown",
   "metadata": {
    "id": "yjtcUQZtbZJ1",
    "papermill": {
     "duration": 0.033341,
     "end_time": "2021-02-09T12:51:49.124355",
     "exception": false,
     "start_time": "2021-02-09T12:51:49.091014",
     "status": "completed"
    },
    "tags": []
   },
   "source": [
    "**Data Reading and Understanding**"
   ]
  },
  {
   "cell_type": "code",
   "execution_count": 3,
   "metadata": {
    "execution": {
     "iopub.execute_input": "2021-02-09T12:51:49.197494Z",
     "iopub.status.busy": "2021-02-09T12:51:49.196726Z",
     "iopub.status.idle": "2021-02-09T12:51:49.288910Z",
     "shell.execute_reply": "2021-02-09T12:51:49.288049Z"
    },
    "executionInfo": {
     "elapsed": 2983,
     "status": "ok",
     "timestamp": 1612873905347,
     "user": {
      "displayName": "Neha Kumar",
      "photoUrl": "https://lh3.googleusercontent.com/a-/AOh14GgO7I8Zb8X8JN2s-HdGHdd9c3fVVhdn-eda4behUA=s64",
      "userId": "14029980675532820705"
     },
     "user_tz": -330
    },
    "id": "d-wYtzLgbMDe",
    "outputId": "69a20734-4f7f-4054-cde4-cd1b2dc89d12",
    "papermill": {
     "duration": 0.133195,
     "end_time": "2021-02-09T12:51:49.289072",
     "exception": false,
     "start_time": "2021-02-09T12:51:49.155877",
     "status": "completed"
    },
    "tags": []
   },
   "outputs": [
    {
     "data": {
      "text/html": [
       "<div>\n",
       "<style scoped>\n",
       "    .dataframe tbody tr th:only-of-type {\n",
       "        vertical-align: middle;\n",
       "    }\n",
       "\n",
       "    .dataframe tbody tr th {\n",
       "        vertical-align: top;\n",
       "    }\n",
       "\n",
       "    .dataframe thead th {\n",
       "        text-align: right;\n",
       "    }\n",
       "</style>\n",
       "<table border=\"1\" class=\"dataframe\">\n",
       "  <thead>\n",
       "    <tr style=\"text-align: right;\">\n",
       "      <th></th>\n",
       "      <th>id</th>\n",
       "      <th>keyword</th>\n",
       "      <th>location</th>\n",
       "      <th>text</th>\n",
       "      <th>target</th>\n",
       "    </tr>\n",
       "  </thead>\n",
       "  <tbody>\n",
       "    <tr>\n",
       "      <th>0</th>\n",
       "      <td>1</td>\n",
       "      <td>NaN</td>\n",
       "      <td>NaN</td>\n",
       "      <td>Our Deeds are the Reason of this #earthquake M...</td>\n",
       "      <td>1</td>\n",
       "    </tr>\n",
       "    <tr>\n",
       "      <th>1</th>\n",
       "      <td>4</td>\n",
       "      <td>NaN</td>\n",
       "      <td>NaN</td>\n",
       "      <td>Forest fire near La Ronge Sask. Canada</td>\n",
       "      <td>1</td>\n",
       "    </tr>\n",
       "    <tr>\n",
       "      <th>2</th>\n",
       "      <td>5</td>\n",
       "      <td>NaN</td>\n",
       "      <td>NaN</td>\n",
       "      <td>All residents asked to 'shelter in place' are ...</td>\n",
       "      <td>1</td>\n",
       "    </tr>\n",
       "    <tr>\n",
       "      <th>3</th>\n",
       "      <td>6</td>\n",
       "      <td>NaN</td>\n",
       "      <td>NaN</td>\n",
       "      <td>13,000 people receive #wildfires evacuation or...</td>\n",
       "      <td>1</td>\n",
       "    </tr>\n",
       "    <tr>\n",
       "      <th>4</th>\n",
       "      <td>7</td>\n",
       "      <td>NaN</td>\n",
       "      <td>NaN</td>\n",
       "      <td>Just got sent this photo from Ruby #Alaska as ...</td>\n",
       "      <td>1</td>\n",
       "    </tr>\n",
       "  </tbody>\n",
       "</table>\n",
       "</div>"
      ],
      "text/plain": [
       "   id keyword location                                               text  \\\n",
       "0   1     NaN      NaN  Our Deeds are the Reason of this #earthquake M...   \n",
       "1   4     NaN      NaN             Forest fire near La Ronge Sask. Canada   \n",
       "2   5     NaN      NaN  All residents asked to 'shelter in place' are ...   \n",
       "3   6     NaN      NaN  13,000 people receive #wildfires evacuation or...   \n",
       "4   7     NaN      NaN  Just got sent this photo from Ruby #Alaska as ...   \n",
       "\n",
       "   target  \n",
       "0       1  \n",
       "1       1  \n",
       "2       1  \n",
       "3       1  \n",
       "4       1  "
      ]
     },
     "execution_count": 3,
     "metadata": {},
     "output_type": "execute_result"
    }
   ],
   "source": [
    "train_df = pd.read_csv('/kaggle/input/nlp-getting-started/train.csv')\n",
    "train_df.head()"
   ]
  },
  {
   "cell_type": "code",
   "execution_count": 4,
   "metadata": {
    "execution": {
     "iopub.execute_input": "2021-02-09T12:51:49.364435Z",
     "iopub.status.busy": "2021-02-09T12:51:49.363712Z",
     "iopub.status.idle": "2021-02-09T12:51:49.369435Z",
     "shell.execute_reply": "2021-02-09T12:51:49.368855Z"
    },
    "executionInfo": {
     "elapsed": 1637,
     "status": "ok",
     "timestamp": 1612089490034,
     "user": {
      "displayName": "Neha Kumar",
      "photoUrl": "https://lh3.googleusercontent.com/a-/AOh14GgO7I8Zb8X8JN2s-HdGHdd9c3fVVhdn-eda4behUA=s64",
      "userId": "14029980675532820705"
     },
     "user_tz": -330
    },
    "id": "DFjP9kUVb36b",
    "outputId": "b09ccc18-670f-48ae-e356-d824989451ec",
    "papermill": {
     "duration": 0.054639,
     "end_time": "2021-02-09T12:51:49.369584",
     "exception": false,
     "start_time": "2021-02-09T12:51:49.314945",
     "status": "completed"
    },
    "tags": []
   },
   "outputs": [
    {
     "name": "stdout",
     "output_type": "stream",
     "text": [
      "<class 'pandas.core.frame.DataFrame'>\n",
      "RangeIndex: 7613 entries, 0 to 7612\n",
      "Data columns (total 5 columns):\n",
      " #   Column    Non-Null Count  Dtype \n",
      "---  ------    --------------  ----- \n",
      " 0   id        7613 non-null   int64 \n",
      " 1   keyword   7552 non-null   object\n",
      " 2   location  5080 non-null   object\n",
      " 3   text      7613 non-null   object\n",
      " 4   target    7613 non-null   int64 \n",
      "dtypes: int64(2), object(3)\n",
      "memory usage: 297.5+ KB\n"
     ]
    }
   ],
   "source": [
    "train_df.info()"
   ]
  },
  {
   "cell_type": "code",
   "execution_count": 5,
   "metadata": {
    "execution": {
     "iopub.execute_input": "2021-02-09T12:51:49.421222Z",
     "iopub.status.busy": "2021-02-09T12:51:49.420455Z",
     "iopub.status.idle": "2021-02-09T12:51:49.442209Z",
     "shell.execute_reply": "2021-02-09T12:51:49.442812Z"
    },
    "executionInfo": {
     "elapsed": 1318,
     "status": "ok",
     "timestamp": 1612873911787,
     "user": {
      "displayName": "Neha Kumar",
      "photoUrl": "https://lh3.googleusercontent.com/a-/AOh14GgO7I8Zb8X8JN2s-HdGHdd9c3fVVhdn-eda4behUA=s64",
      "userId": "14029980675532820705"
     },
     "user_tz": -330
    },
    "id": "wbvX-eLJPdDD",
    "outputId": "5686e1f3-e632-4a2b-a401-b217abf53f40",
    "papermill": {
     "duration": 0.050791,
     "end_time": "2021-02-09T12:51:49.443023",
     "exception": false,
     "start_time": "2021-02-09T12:51:49.392232",
     "status": "completed"
    },
    "tags": []
   },
   "outputs": [
    {
     "data": {
      "text/plain": [
       "0    0.57034\n",
       "1    0.42966\n",
       "Name: target, dtype: float64"
      ]
     },
     "execution_count": 5,
     "metadata": {},
     "output_type": "execute_result"
    }
   ],
   "source": [
    "train_df['target'].value_counts(normalize=True)"
   ]
  },
  {
   "cell_type": "markdown",
   "metadata": {
    "id": "jIa5Uqt7xuXb",
    "papermill": {
     "duration": 0.022501,
     "end_time": "2021-02-09T12:51:49.488389",
     "exception": false,
     "start_time": "2021-02-09T12:51:49.465888",
     "status": "completed"
    },
    "tags": []
   },
   "source": [
    "**Classes seems to be balanced**"
   ]
  },
  {
   "cell_type": "markdown",
   "metadata": {
    "id": "nM90rW2xb_pO",
    "papermill": {
     "duration": 0.021917,
     "end_time": "2021-02-09T12:51:49.532541",
     "exception": false,
     "start_time": "2021-02-09T12:51:49.510624",
     "status": "completed"
    },
    "tags": []
   },
   "source": [
    "**Checking- if features keyword and location are useful and should be retained**"
   ]
  },
  {
   "cell_type": "code",
   "execution_count": 6,
   "metadata": {
    "execution": {
     "iopub.execute_input": "2021-02-09T12:51:49.581436Z",
     "iopub.status.busy": "2021-02-09T12:51:49.580577Z",
     "iopub.status.idle": "2021-02-09T12:51:49.600986Z",
     "shell.execute_reply": "2021-02-09T12:51:49.601525Z"
    },
    "executionInfo": {
     "elapsed": 1121,
     "status": "ok",
     "timestamp": 1612089495917,
     "user": {
      "displayName": "Neha Kumar",
      "photoUrl": "https://lh3.googleusercontent.com/a-/AOh14GgO7I8Zb8X8JN2s-HdGHdd9c3fVVhdn-eda4behUA=s64",
      "userId": "14029980675532820705"
     },
     "user_tz": -330
    },
    "id": "12tpRdP7bvmq",
    "outputId": "cd8ef283-701d-4592-8a86-0719213612ae",
    "papermill": {
     "duration": 0.047049,
     "end_time": "2021-02-09T12:51:49.601697",
     "exception": false,
     "start_time": "2021-02-09T12:51:49.554648",
     "status": "completed"
    },
    "tags": []
   },
   "outputs": [
    {
     "data": {
      "text/html": [
       "<div>\n",
       "<style scoped>\n",
       "    .dataframe tbody tr th:only-of-type {\n",
       "        vertical-align: middle;\n",
       "    }\n",
       "\n",
       "    .dataframe tbody tr th {\n",
       "        vertical-align: top;\n",
       "    }\n",
       "\n",
       "    .dataframe thead th {\n",
       "        text-align: right;\n",
       "    }\n",
       "</style>\n",
       "<table border=\"1\" class=\"dataframe\">\n",
       "  <thead>\n",
       "    <tr style=\"text-align: right;\">\n",
       "      <th></th>\n",
       "      <th>keyword</th>\n",
       "      <th>text</th>\n",
       "    </tr>\n",
       "  </thead>\n",
       "  <tbody>\n",
       "    <tr>\n",
       "      <th>31</th>\n",
       "      <td>ablaze</td>\n",
       "      <td>@bbcmtd Wholesale Markets ablaze http://t.co/l...</td>\n",
       "    </tr>\n",
       "    <tr>\n",
       "      <th>32</th>\n",
       "      <td>ablaze</td>\n",
       "      <td>We always try to bring the heavy. #metal #RT h...</td>\n",
       "    </tr>\n",
       "    <tr>\n",
       "      <th>33</th>\n",
       "      <td>ablaze</td>\n",
       "      <td>#AFRICANBAZE: Breaking news:Nigeria flag set a...</td>\n",
       "    </tr>\n",
       "    <tr>\n",
       "      <th>34</th>\n",
       "      <td>ablaze</td>\n",
       "      <td>Crying out for more! Set me ablaze</td>\n",
       "    </tr>\n",
       "    <tr>\n",
       "      <th>35</th>\n",
       "      <td>ablaze</td>\n",
       "      <td>On plus side LOOK AT THE SKY LAST NIGHT IT WAS...</td>\n",
       "    </tr>\n",
       "    <tr>\n",
       "      <th>...</th>\n",
       "      <td>...</td>\n",
       "      <td>...</td>\n",
       "    </tr>\n",
       "    <tr>\n",
       "      <th>7578</th>\n",
       "      <td>wrecked</td>\n",
       "      <td>@jt_ruff23 @cameronhacker and I wrecked you both</td>\n",
       "    </tr>\n",
       "    <tr>\n",
       "      <th>7579</th>\n",
       "      <td>wrecked</td>\n",
       "      <td>Three days off from work and they've pretty mu...</td>\n",
       "    </tr>\n",
       "    <tr>\n",
       "      <th>7580</th>\n",
       "      <td>wrecked</td>\n",
       "      <td>#FX #forex #trading Cramer: Iger's 3 words tha...</td>\n",
       "    </tr>\n",
       "    <tr>\n",
       "      <th>7581</th>\n",
       "      <td>wrecked</td>\n",
       "      <td>@engineshed Great atmosphere at the British Li...</td>\n",
       "    </tr>\n",
       "    <tr>\n",
       "      <th>7582</th>\n",
       "      <td>wrecked</td>\n",
       "      <td>Cramer: Iger's 3 words that wrecked Disney's s...</td>\n",
       "    </tr>\n",
       "  </tbody>\n",
       "</table>\n",
       "<p>7552 rows × 2 columns</p>\n",
       "</div>"
      ],
      "text/plain": [
       "      keyword                                               text\n",
       "31     ablaze  @bbcmtd Wholesale Markets ablaze http://t.co/l...\n",
       "32     ablaze  We always try to bring the heavy. #metal #RT h...\n",
       "33     ablaze  #AFRICANBAZE: Breaking news:Nigeria flag set a...\n",
       "34     ablaze                 Crying out for more! Set me ablaze\n",
       "35     ablaze  On plus side LOOK AT THE SKY LAST NIGHT IT WAS...\n",
       "...       ...                                                ...\n",
       "7578  wrecked   @jt_ruff23 @cameronhacker and I wrecked you both\n",
       "7579  wrecked  Three days off from work and they've pretty mu...\n",
       "7580  wrecked  #FX #forex #trading Cramer: Iger's 3 words tha...\n",
       "7581  wrecked  @engineshed Great atmosphere at the British Li...\n",
       "7582  wrecked  Cramer: Iger's 3 words that wrecked Disney's s...\n",
       "\n",
       "[7552 rows x 2 columns]"
      ]
     },
     "execution_count": 6,
     "metadata": {},
     "output_type": "execute_result"
    }
   ],
   "source": [
    "train_df[~train_df['keyword'].isnull()][['keyword', 'text']]"
   ]
  },
  {
   "cell_type": "code",
   "execution_count": 7,
   "metadata": {
    "execution": {
     "iopub.execute_input": "2021-02-09T12:51:49.650019Z",
     "iopub.status.busy": "2021-02-09T12:51:49.649295Z",
     "iopub.status.idle": "2021-02-09T12:51:49.655030Z",
     "shell.execute_reply": "2021-02-09T12:51:49.655527Z"
    },
    "executionInfo": {
     "elapsed": 1100,
     "status": "ok",
     "timestamp": 1612080310470,
     "user": {
      "displayName": "Neha Kumar",
      "photoUrl": "https://lh3.googleusercontent.com/a-/AOh14GgO7I8Zb8X8JN2s-HdGHdd9c3fVVhdn-eda4behUA=s64",
      "userId": "14029980675532820705"
     },
     "user_tz": -330
    },
    "id": "DDYFpXU1cKP-",
    "outputId": "7a79d8c8-c6e2-443f-b0fe-42414b6eaf2d",
    "papermill": {
     "duration": 0.03132,
     "end_time": "2021-02-09T12:51:49.655692",
     "exception": false,
     "start_time": "2021-02-09T12:51:49.624372",
     "status": "completed"
    },
    "tags": []
   },
   "outputs": [
    {
     "data": {
      "text/plain": [
       "3342"
      ]
     },
     "execution_count": 7,
     "metadata": {},
     "output_type": "execute_result"
    }
   ],
   "source": [
    "len(train_df['location'].unique())"
   ]
  },
  {
   "cell_type": "markdown",
   "metadata": {
    "id": "fFsbTOA_edwk",
    "papermill": {
     "duration": 0.022893,
     "end_time": "2021-02-09T12:51:49.702180",
     "exception": false,
     "start_time": "2021-02-09T12:51:49.679287",
     "status": "completed"
    },
    "tags": []
   },
   "source": [
    "**Dropping the features: keyword and location**"
   ]
  },
  {
   "cell_type": "code",
   "execution_count": 8,
   "metadata": {
    "execution": {
     "iopub.execute_input": "2021-02-09T12:51:49.756727Z",
     "iopub.status.busy": "2021-02-09T12:51:49.756054Z",
     "iopub.status.idle": "2021-02-09T12:51:49.759389Z",
     "shell.execute_reply": "2021-02-09T12:51:49.760036Z"
    },
    "executionInfo": {
     "elapsed": 1226,
     "status": "ok",
     "timestamp": 1612873951624,
     "user": {
      "displayName": "Neha Kumar",
      "photoUrl": "https://lh3.googleusercontent.com/a-/AOh14GgO7I8Zb8X8JN2s-HdGHdd9c3fVVhdn-eda4behUA=s64",
      "userId": "14029980675532820705"
     },
     "user_tz": -330
    },
    "id": "hVHqL0qgdTDt",
    "papermill": {
     "duration": 0.034485,
     "end_time": "2021-02-09T12:51:49.760216",
     "exception": false,
     "start_time": "2021-02-09T12:51:49.725731",
     "status": "completed"
    },
    "tags": []
   },
   "outputs": [],
   "source": [
    "train_df.drop(columns=['keyword', 'location'], inplace=True)"
   ]
  },
  {
   "cell_type": "markdown",
   "metadata": {
    "id": "NgSSd1O6fHBM",
    "papermill": {
     "duration": 0.022532,
     "end_time": "2021-02-09T12:51:49.805889",
     "exception": false,
     "start_time": "2021-02-09T12:51:49.783357",
     "status": "completed"
    },
    "tags": []
   },
   "source": [
    "**Data Cleaning and Preprocessing**"
   ]
  },
  {
   "cell_type": "code",
   "execution_count": 9,
   "metadata": {
    "execution": {
     "iopub.execute_input": "2021-02-09T12:51:49.857303Z",
     "iopub.status.busy": "2021-02-09T12:51:49.856647Z",
     "iopub.status.idle": "2021-02-09T12:51:49.860795Z",
     "shell.execute_reply": "2021-02-09T12:51:49.860303Z"
    },
    "executionInfo": {
     "elapsed": 1235,
     "status": "ok",
     "timestamp": 1612873962147,
     "user": {
      "displayName": "Neha Kumar",
      "photoUrl": "https://lh3.googleusercontent.com/a-/AOh14GgO7I8Zb8X8JN2s-HdGHdd9c3fVVhdn-eda4behUA=s64",
      "userId": "14029980675532820705"
     },
     "user_tz": -330
    },
    "id": "U85dDbfN-2WI",
    "papermill": {
     "duration": 0.031985,
     "end_time": "2021-02-09T12:51:49.860972",
     "exception": false,
     "start_time": "2021-02-09T12:51:49.828987",
     "status": "completed"
    },
    "tags": []
   },
   "outputs": [],
   "source": [
    "tokenizer = TweetTokenizer()\n",
    "stemmer = SnowballStemmer(language='english')"
   ]
  },
  {
   "cell_type": "code",
   "execution_count": 10,
   "metadata": {
    "execution": {
     "iopub.execute_input": "2021-02-09T12:51:49.915690Z",
     "iopub.status.busy": "2021-02-09T12:51:49.914909Z",
     "iopub.status.idle": "2021-02-09T12:51:49.918354Z",
     "shell.execute_reply": "2021-02-09T12:51:49.917659Z"
    },
    "executionInfo": {
     "elapsed": 931,
     "status": "ok",
     "timestamp": 1612873963811,
     "user": {
      "displayName": "Neha Kumar",
      "photoUrl": "https://lh3.googleusercontent.com/a-/AOh14GgO7I8Zb8X8JN2s-HdGHdd9c3fVVhdn-eda4behUA=s64",
      "userId": "14029980675532820705"
     },
     "user_tz": -330
    },
    "id": "DTgZ8OY7_KtK",
    "papermill": {
     "duration": 0.034325,
     "end_time": "2021-02-09T12:51:49.918509",
     "exception": false,
     "start_time": "2021-02-09T12:51:49.884184",
     "status": "completed"
    },
    "tags": []
   },
   "outputs": [],
   "source": [
    "def preprocess_text(text):\n",
    "  cleaned_text = text.lower()\n",
    "  \n",
    "  #remove words like hashtags, web addresses\n",
    "  cleaned_text = re.sub(r'#\\S+|@\\S+|<.*?>|http\\S+', '', cleaned_text)\n",
    "\n",
    "  cleaned_text = tokenizer.tokenize(cleaned_text)\n",
    "  cleaned_text = ' '.join([stemmer.stem(word) for word in cleaned_text if word not in string.punctuation and word not in stopwords.words('english')])\n",
    "\n",
    "  return cleaned_text"
   ]
  },
  {
   "cell_type": "code",
   "execution_count": 11,
   "metadata": {
    "execution": {
     "iopub.execute_input": "2021-02-09T12:51:49.993483Z",
     "iopub.status.busy": "2021-02-09T12:51:49.992697Z",
     "iopub.status.idle": "2021-02-09T12:52:08.003693Z",
     "shell.execute_reply": "2021-02-09T12:52:08.003023Z"
    },
    "executionInfo": {
     "elapsed": 14062,
     "status": "ok",
     "timestamp": 1612873979049,
     "user": {
      "displayName": "Neha Kumar",
      "photoUrl": "https://lh3.googleusercontent.com/a-/AOh14GgO7I8Zb8X8JN2s-HdGHdd9c3fVVhdn-eda4behUA=s64",
      "userId": "14029980675532820705"
     },
     "user_tz": -330
    },
    "id": "No_aV_VlhuZ6",
    "papermill": {
     "duration": 18.04951,
     "end_time": "2021-02-09T12:52:08.003849",
     "exception": false,
     "start_time": "2021-02-09T12:51:49.954339",
     "status": "completed"
    },
    "tags": []
   },
   "outputs": [],
   "source": [
    "train_df['cleaned_text'] = train_df['text'].apply(preprocess_text)"
   ]
  },
  {
   "cell_type": "code",
   "execution_count": 12,
   "metadata": {
    "execution": {
     "iopub.execute_input": "2021-02-09T12:52:08.058784Z",
     "iopub.status.busy": "2021-02-09T12:52:08.058024Z",
     "iopub.status.idle": "2021-02-09T12:52:08.062397Z",
     "shell.execute_reply": "2021-02-09T12:52:08.062881Z"
    },
    "executionInfo": {
     "elapsed": 1144,
     "status": "ok",
     "timestamp": 1612089551405,
     "user": {
      "displayName": "Neha Kumar",
      "photoUrl": "https://lh3.googleusercontent.com/a-/AOh14GgO7I8Zb8X8JN2s-HdGHdd9c3fVVhdn-eda4behUA=s64",
      "userId": "14029980675532820705"
     },
     "user_tz": -330
    },
    "id": "ty2chRtydn4-",
    "outputId": "0965d0c8-ee40-4d56-98d6-593253df5c34",
    "papermill": {
     "duration": 0.03505,
     "end_time": "2021-02-09T12:52:08.063064",
     "exception": false,
     "start_time": "2021-02-09T12:52:08.028014",
     "status": "completed"
    },
    "tags": []
   },
   "outputs": [
    {
     "data": {
      "text/plain": [
       "0                      deed reason may allah forgiv us\n",
       "1                 forest fire near la rong sask canada\n",
       "2    resid ask shelter place notifi offic evacu she...\n",
       "3           13,000 peopl receiv evacu order california\n",
       "4                got sent photo rubi smoke pour school\n",
       "Name: cleaned_text, dtype: object"
      ]
     },
     "execution_count": 12,
     "metadata": {},
     "output_type": "execute_result"
    }
   ],
   "source": [
    "train_df['cleaned_text'][0:5]"
   ]
  },
  {
   "cell_type": "code",
   "execution_count": 13,
   "metadata": {
    "execution": {
     "iopub.execute_input": "2021-02-09T12:52:08.111385Z",
     "iopub.status.busy": "2021-02-09T12:52:08.110536Z",
     "iopub.status.idle": "2021-02-09T12:52:08.283115Z",
     "shell.execute_reply": "2021-02-09T12:52:08.283747Z"
    },
    "executionInfo": {
     "elapsed": 2808,
     "status": "ok",
     "timestamp": 1612873988350,
     "user": {
      "displayName": "Neha Kumar",
      "photoUrl": "https://lh3.googleusercontent.com/a-/AOh14GgO7I8Zb8X8JN2s-HdGHdd9c3fVVhdn-eda4behUA=s64",
      "userId": "14029980675532820705"
     },
     "user_tz": -330
    },
    "id": "00ZUqT4nft4l",
    "papermill": {
     "duration": 0.196557,
     "end_time": "2021-02-09T12:52:08.283989",
     "exception": false,
     "start_time": "2021-02-09T12:52:08.087432",
     "status": "completed"
    },
    "tags": []
   },
   "outputs": [],
   "source": [
    "#Generate BOW with CountVectorizer\n",
    "vectorizer = CountVectorizer(max_features=5000)\n",
    "X = vectorizer.fit_transform(train_df['cleaned_text']).toarray()\n",
    "y = train_df['target']"
   ]
  },
  {
   "cell_type": "markdown",
   "metadata": {
    "id": "A1kS6hPVMruU",
    "papermill": {
     "duration": 0.037926,
     "end_time": "2021-02-09T12:52:08.359016",
     "exception": false,
     "start_time": "2021-02-09T12:52:08.321090",
     "status": "completed"
    },
    "tags": []
   },
   "source": [
    "**Modelling**"
   ]
  },
  {
   "cell_type": "code",
   "execution_count": 14,
   "metadata": {
    "execution": {
     "iopub.execute_input": "2021-02-09T12:52:08.438785Z",
     "iopub.status.busy": "2021-02-09T12:52:08.437998Z",
     "iopub.status.idle": "2021-02-09T12:52:08.529307Z",
     "shell.execute_reply": "2021-02-09T12:52:08.528553Z"
    },
    "executionInfo": {
     "elapsed": 1235,
     "status": "ok",
     "timestamp": 1612873992548,
     "user": {
      "displayName": "Neha Kumar",
      "photoUrl": "https://lh3.googleusercontent.com/a-/AOh14GgO7I8Zb8X8JN2s-HdGHdd9c3fVVhdn-eda4behUA=s64",
      "userId": "14029980675532820705"
     },
     "user_tz": -330
    },
    "id": "6efWScfXib6c",
    "papermill": {
     "duration": 0.133714,
     "end_time": "2021-02-09T12:52:08.529486",
     "exception": false,
     "start_time": "2021-02-09T12:52:08.395772",
     "status": "completed"
    },
    "tags": []
   },
   "outputs": [],
   "source": [
    "X_train, X_val, y_train, y_val = train_test_split(X, y, test_size=0.3, stratify=y,random_state=100)"
   ]
  },
  {
   "cell_type": "code",
   "execution_count": 15,
   "metadata": {
    "execution": {
     "iopub.execute_input": "2021-02-09T12:52:08.611393Z",
     "iopub.status.busy": "2021-02-09T12:52:08.610439Z",
     "iopub.status.idle": "2021-02-09T12:52:08.615425Z",
     "shell.execute_reply": "2021-02-09T12:52:08.614621Z"
    },
    "executionInfo": {
     "elapsed": 723,
     "status": "ok",
     "timestamp": 1612873994241,
     "user": {
      "displayName": "Neha Kumar",
      "photoUrl": "https://lh3.googleusercontent.com/a-/AOh14GgO7I8Zb8X8JN2s-HdGHdd9c3fVVhdn-eda4behUA=s64",
      "userId": "14029980675532820705"
     },
     "user_tz": -330
    },
    "id": "ouw458zDtJER",
    "outputId": "f53e262a-e281-4398-d6ff-fb19bbb98f98",
    "papermill": {
     "duration": 0.048112,
     "end_time": "2021-02-09T12:52:08.615584",
     "exception": false,
     "start_time": "2021-02-09T12:52:08.567472",
     "status": "completed"
    },
    "tags": []
   },
   "outputs": [
    {
     "name": "stdout",
     "output_type": "stream",
     "text": [
      "train:  (5329, 5000)\n",
      "test:  (2284, 5000)\n"
     ]
    }
   ],
   "source": [
    "print (\"train: \", X_train.shape)\n",
    "print (\"test: \", X_val.shape)"
   ]
  },
  {
   "cell_type": "code",
   "execution_count": 16,
   "metadata": {
    "execution": {
     "iopub.execute_input": "2021-02-09T12:52:08.699127Z",
     "iopub.status.busy": "2021-02-09T12:52:08.697994Z",
     "iopub.status.idle": "2021-02-09T12:52:09.294472Z",
     "shell.execute_reply": "2021-02-09T12:52:09.293916Z"
    },
    "executionInfo": {
     "elapsed": 1870,
     "status": "ok",
     "timestamp": 1612874020295,
     "user": {
      "displayName": "Neha Kumar",
      "photoUrl": "https://lh3.googleusercontent.com/a-/AOh14GgO7I8Zb8X8JN2s-HdGHdd9c3fVVhdn-eda4behUA=s64",
      "userId": "14029980675532820705"
     },
     "user_tz": -330
    },
    "id": "eBjeJK5E5xrL",
    "outputId": "c0a79448-1c72-4b71-b621-52dce5c45d35",
    "papermill": {
     "duration": 0.64068,
     "end_time": "2021-02-09T12:52:09.294618",
     "exception": false,
     "start_time": "2021-02-09T12:52:08.653938",
     "status": "completed"
    },
    "tags": []
   },
   "outputs": [
    {
     "name": "stdout",
     "output_type": "stream",
     "text": [
      "train score:  0.8388478933587241\n",
      "test score:  0.7401224262659989\n"
     ]
    }
   ],
   "source": [
    "bnb = BernoulliNB(alpha=1.0, fit_prior=True)\n",
    "bnb.fit(X_train, y_train)\n",
    "\n",
    "y_train_pred = bnb.predict(X_train)\n",
    "y_val_pred = bnb.predict(X_val)\n",
    "\n",
    "print (\"train score: \", f1_score(y_train, y_train_pred))\n",
    "print (\"test score: \", f1_score(y_val, y_val_pred))"
   ]
  },
  {
   "cell_type": "markdown",
   "metadata": {
    "id": "xPZxMVVnajdz",
    "papermill": {
     "duration": 0.024674,
     "end_time": "2021-02-09T12:52:09.345069",
     "exception": false,
     "start_time": "2021-02-09T12:52:09.320395",
     "status": "completed"
    },
    "tags": []
   },
   "source": [
    "**Prediction on test set to be evaluated**"
   ]
  },
  {
   "cell_type": "code",
   "execution_count": 17,
   "metadata": {
    "execution": {
     "iopub.execute_input": "2021-02-09T12:52:09.400484Z",
     "iopub.status.busy": "2021-02-09T12:52:09.399868Z",
     "iopub.status.idle": "2021-02-09T12:52:09.430903Z",
     "shell.execute_reply": "2021-02-09T12:52:09.430092Z"
    },
    "executionInfo": {
     "elapsed": 1946,
     "status": "ok",
     "timestamp": 1612874035284,
     "user": {
      "displayName": "Neha Kumar",
      "photoUrl": "https://lh3.googleusercontent.com/a-/AOh14GgO7I8Zb8X8JN2s-HdGHdd9c3fVVhdn-eda4behUA=s64",
      "userId": "14029980675532820705"
     },
     "user_tz": -330
    },
    "id": "G9XIFQ2z6qKK",
    "outputId": "9dc2cb70-caad-4fb7-9816-3f433e8bf90f",
    "papermill": {
     "duration": 0.060786,
     "end_time": "2021-02-09T12:52:09.431087",
     "exception": false,
     "start_time": "2021-02-09T12:52:09.370301",
     "status": "completed"
    },
    "tags": []
   },
   "outputs": [
    {
     "name": "stdout",
     "output_type": "stream",
     "text": [
      "   id keyword location                                               text\n",
      "0   0     NaN      NaN                 Just happened a terrible car crash\n",
      "1   2     NaN      NaN  Heard about #earthquake is different cities, s...\n",
      "2   3     NaN      NaN  there is a forest fire at spot pond, geese are...\n",
      "3   9     NaN      NaN           Apocalypse lighting. #Spokane #wildfires\n",
      "4  11     NaN      NaN      Typhoon Soudelor kills 28 in China and Taiwan\n",
      "(3263, 4)\n"
     ]
    }
   ],
   "source": [
    "test_df = pd.read_csv('/kaggle/input/nlp-getting-started/test.csv')\n",
    "print (test_df.head())\n",
    "print (test_df.shape)"
   ]
  },
  {
   "cell_type": "code",
   "execution_count": 18,
   "metadata": {
    "execution": {
     "iopub.execute_input": "2021-02-09T12:52:09.489540Z",
     "iopub.status.busy": "2021-02-09T12:52:09.488787Z",
     "iopub.status.idle": "2021-02-09T12:52:09.492454Z",
     "shell.execute_reply": "2021-02-09T12:52:09.491791Z"
    },
    "executionInfo": {
     "elapsed": 1295,
     "status": "ok",
     "timestamp": 1612874040809,
     "user": {
      "displayName": "Neha Kumar",
      "photoUrl": "https://lh3.googleusercontent.com/a-/AOh14GgO7I8Zb8X8JN2s-HdGHdd9c3fVVhdn-eda4behUA=s64",
      "userId": "14029980675532820705"
     },
     "user_tz": -330
    },
    "id": "VlI8NO7pPpVp",
    "papermill": {
     "duration": 0.03488,
     "end_time": "2021-02-09T12:52:09.492590",
     "exception": false,
     "start_time": "2021-02-09T12:52:09.457710",
     "status": "completed"
    },
    "tags": []
   },
   "outputs": [],
   "source": [
    "test_df.drop(columns=['keyword', 'location'], inplace=True)"
   ]
  },
  {
   "cell_type": "code",
   "execution_count": 19,
   "metadata": {
    "execution": {
     "iopub.execute_input": "2021-02-09T12:52:09.551343Z",
     "iopub.status.busy": "2021-02-09T12:52:09.550644Z",
     "iopub.status.idle": "2021-02-09T12:52:16.702283Z",
     "shell.execute_reply": "2021-02-09T12:52:16.701633Z"
    },
    "executionInfo": {
     "elapsed": 6657,
     "status": "ok",
     "timestamp": 1612874049900,
     "user": {
      "displayName": "Neha Kumar",
      "photoUrl": "https://lh3.googleusercontent.com/a-/AOh14GgO7I8Zb8X8JN2s-HdGHdd9c3fVVhdn-eda4behUA=s64",
      "userId": "14029980675532820705"
     },
     "user_tz": -330
    },
    "id": "A70OGk1jbEVj",
    "papermill": {
     "duration": 7.183482,
     "end_time": "2021-02-09T12:52:16.702424",
     "exception": false,
     "start_time": "2021-02-09T12:52:09.518942",
     "status": "completed"
    },
    "tags": []
   },
   "outputs": [],
   "source": [
    "test_df['cleaned_text'] = test_df['text'].apply(preprocess_text)\n",
    "test_X = vectorizer.transform(test_df['cleaned_text'])\n",
    "test_y = bnb.predict(test_X)"
   ]
  },
  {
   "cell_type": "code",
   "execution_count": 20,
   "metadata": {
    "execution": {
     "iopub.execute_input": "2021-02-09T12:52:16.765482Z",
     "iopub.status.busy": "2021-02-09T12:52:16.764634Z",
     "iopub.status.idle": "2021-02-09T12:52:16.767963Z",
     "shell.execute_reply": "2021-02-09T12:52:16.768613Z"
    },
    "executionInfo": {
     "elapsed": 1095,
     "status": "ok",
     "timestamp": 1612874051777,
     "user": {
      "displayName": "Neha Kumar",
      "photoUrl": "https://lh3.googleusercontent.com/a-/AOh14GgO7I8Zb8X8JN2s-HdGHdd9c3fVVhdn-eda4behUA=s64",
      "userId": "14029980675532820705"
     },
     "user_tz": -330
    },
    "id": "Aa0z5cbZcLj-",
    "outputId": "0e3ceb79-1cdf-4e5c-a840-e7338cceca10",
    "papermill": {
     "duration": 0.039929,
     "end_time": "2021-02-09T12:52:16.768841",
     "exception": false,
     "start_time": "2021-02-09T12:52:16.728912",
     "status": "completed"
    },
    "tags": []
   },
   "outputs": [
    {
     "data": {
      "text/html": [
       "<div>\n",
       "<style scoped>\n",
       "    .dataframe tbody tr th:only-of-type {\n",
       "        vertical-align: middle;\n",
       "    }\n",
       "\n",
       "    .dataframe tbody tr th {\n",
       "        vertical-align: top;\n",
       "    }\n",
       "\n",
       "    .dataframe thead th {\n",
       "        text-align: right;\n",
       "    }\n",
       "</style>\n",
       "<table border=\"1\" class=\"dataframe\">\n",
       "  <thead>\n",
       "    <tr style=\"text-align: right;\">\n",
       "      <th></th>\n",
       "      <th>id</th>\n",
       "      <th>target</th>\n",
       "    </tr>\n",
       "  </thead>\n",
       "  <tbody>\n",
       "    <tr>\n",
       "      <th>0</th>\n",
       "      <td>0</td>\n",
       "      <td>1</td>\n",
       "    </tr>\n",
       "    <tr>\n",
       "      <th>1</th>\n",
       "      <td>2</td>\n",
       "      <td>0</td>\n",
       "    </tr>\n",
       "    <tr>\n",
       "      <th>2</th>\n",
       "      <td>3</td>\n",
       "      <td>1</td>\n",
       "    </tr>\n",
       "    <tr>\n",
       "      <th>3</th>\n",
       "      <td>9</td>\n",
       "      <td>0</td>\n",
       "    </tr>\n",
       "    <tr>\n",
       "      <th>4</th>\n",
       "      <td>11</td>\n",
       "      <td>1</td>\n",
       "    </tr>\n",
       "  </tbody>\n",
       "</table>\n",
       "</div>"
      ],
      "text/plain": [
       "   id  target\n",
       "0   0       1\n",
       "1   2       0\n",
       "2   3       1\n",
       "3   9       0\n",
       "4  11       1"
      ]
     },
     "execution_count": 20,
     "metadata": {},
     "output_type": "execute_result"
    }
   ],
   "source": [
    "submission = pd.DataFrame({'id':test_df.id, 'target':test_y})\n",
    "submission.head()"
   ]
  },
  {
   "cell_type": "code",
   "execution_count": 21,
   "metadata": {
    "execution": {
     "iopub.execute_input": "2021-02-09T12:52:16.854974Z",
     "iopub.status.busy": "2021-02-09T12:52:16.854126Z",
     "iopub.status.idle": "2021-02-09T12:52:16.872500Z",
     "shell.execute_reply": "2021-02-09T12:52:16.871726Z"
    },
    "executionInfo": {
     "elapsed": 1986,
     "status": "ok",
     "timestamp": 1612874055003,
     "user": {
      "displayName": "Neha Kumar",
      "photoUrl": "https://lh3.googleusercontent.com/a-/AOh14GgO7I8Zb8X8JN2s-HdGHdd9c3fVVhdn-eda4behUA=s64",
      "userId": "14029980675532820705"
     },
     "user_tz": -330
    },
    "id": "qlydbS_ScQGG",
    "papermill": {
     "duration": 0.062688,
     "end_time": "2021-02-09T12:52:16.872677",
     "exception": false,
     "start_time": "2021-02-09T12:52:16.809989",
     "status": "completed"
    },
    "tags": []
   },
   "outputs": [],
   "source": [
    "submission.to_csv('./submission.csv', index=False)"
   ]
  },
  {
   "cell_type": "code",
   "execution_count": null,
   "metadata": {
    "id": "VNa3TvsEfyHX",
    "papermill": {
     "duration": 0.040456,
     "end_time": "2021-02-09T12:52:16.955485",
     "exception": false,
     "start_time": "2021-02-09T12:52:16.915029",
     "status": "completed"
    },
    "tags": []
   },
   "outputs": [],
   "source": []
  }
 ],
 "metadata": {
  "kernelspec": {
   "display_name": "Python 3",
   "language": "python",
   "name": "python3"
  },
  "language_info": {
   "codemirror_mode": {
    "name": "ipython",
    "version": 3
   },
   "file_extension": ".py",
   "mimetype": "text/x-python",
   "name": "python",
   "nbconvert_exporter": "python",
   "pygments_lexer": "ipython3",
   "version": "3.7.9"
  },
  "papermill": {
   "default_parameters": {},
   "duration": 38.606447,
   "end_time": "2021-02-09T12:52:17.908473",
   "environment_variables": {},
   "exception": null,
   "input_path": "__notebook__.ipynb",
   "output_path": "__notebook__.ipynb",
   "parameters": {},
   "start_time": "2021-02-09T12:51:39.302026",
   "version": "2.2.2"
  }
 },
 "nbformat": 4,
 "nbformat_minor": 4
}

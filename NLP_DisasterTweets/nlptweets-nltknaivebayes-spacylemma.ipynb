{
 "cells": [
  {
   "cell_type": "markdown",
   "metadata": {
    "id": "DSHfg3O3IoBk",
    "papermill": {
     "duration": 0.032432,
     "end_time": "2021-02-10T04:39:07.029023",
     "exception": false,
     "start_time": "2021-02-10T04:39:06.996591",
     "status": "completed"
    },
    "tags": []
   },
   "source": [
    "**NLTK Naive Bayes Classifier using SnowballStemmer**"
   ]
  },
  {
   "cell_type": "code",
   "execution_count": 1,
   "metadata": {
    "execution": {
     "iopub.execute_input": "2021-02-10T04:39:07.097606Z",
     "iopub.status.busy": "2021-02-10T04:39:07.096298Z",
     "iopub.status.idle": "2021-02-10T04:39:10.101967Z",
     "shell.execute_reply": "2021-02-10T04:39:10.101211Z"
    },
    "id": "cGAKI9Pzaw-C",
    "papermill": {
     "duration": 3.04309,
     "end_time": "2021-02-10T04:39:10.102197",
     "exception": false,
     "start_time": "2021-02-10T04:39:07.059107",
     "status": "completed"
    },
    "tags": []
   },
   "outputs": [],
   "source": [
    "import regex as re\n",
    "import string\n",
    "import random\n",
    "\n",
    "import numpy as np\n",
    "import pandas as pd\n",
    "\n",
    "import matplotlib.pyplot as plt\n",
    "import seaborn as sns\n",
    "\n",
    "from nltk.tokenize import TweetTokenizer\n",
    "from nltk.corpus import stopwords\n",
    "\n",
    "from sklearn.model_selection import train_test_split, KFold, cross_val_score\n",
    "from sklearn.metrics import f1_score\n",
    "\n",
    "import spacy"
   ]
  },
  {
   "cell_type": "code",
   "execution_count": 2,
   "metadata": {
    "execution": {
     "iopub.execute_input": "2021-02-10T04:39:10.153173Z",
     "iopub.status.busy": "2021-02-10T04:39:10.149802Z",
     "iopub.status.idle": "2021-02-10T04:39:10.678272Z",
     "shell.execute_reply": "2021-02-10T04:39:10.677422Z"
    },
    "id": "oeg9w65e591B",
    "outputId": "aae438f5-d675-4539-e582-b010da164610",
    "papermill": {
     "duration": 0.556487,
     "end_time": "2021-02-10T04:39:10.678418",
     "exception": false,
     "start_time": "2021-02-10T04:39:10.121931",
     "status": "completed"
    },
    "tags": []
   },
   "outputs": [
    {
     "name": "stdout",
     "output_type": "stream",
     "text": [
      "[nltk_data] Downloading package stopwords to /usr/share/nltk_data...\n",
      "[nltk_data]   Package stopwords is already up-to-date!\n"
     ]
    },
    {
     "data": {
      "text/plain": [
       "True"
      ]
     },
     "execution_count": 2,
     "metadata": {},
     "output_type": "execute_result"
    }
   ],
   "source": [
    "import nltk\n",
    "nltk.download('stopwords')"
   ]
  },
  {
   "cell_type": "markdown",
   "metadata": {
    "id": "yjtcUQZtbZJ1",
    "papermill": {
     "duration": 0.020032,
     "end_time": "2021-02-10T04:39:10.719318",
     "exception": false,
     "start_time": "2021-02-10T04:39:10.699286",
     "status": "completed"
    },
    "tags": []
   },
   "source": [
    "**Data Reading and Understanding**"
   ]
  },
  {
   "cell_type": "code",
   "execution_count": 3,
   "metadata": {
    "execution": {
     "iopub.execute_input": "2021-02-10T04:39:10.766646Z",
     "iopub.status.busy": "2021-02-10T04:39:10.765782Z",
     "iopub.status.idle": "2021-02-10T04:39:10.860139Z",
     "shell.execute_reply": "2021-02-10T04:39:10.859406Z"
    },
    "id": "d-wYtzLgbMDe",
    "outputId": "99a82cca-2e3b-46fb-fcff-02cf904d4122",
    "papermill": {
     "duration": 0.120358,
     "end_time": "2021-02-10T04:39:10.860329",
     "exception": false,
     "start_time": "2021-02-10T04:39:10.739971",
     "status": "completed"
    },
    "tags": []
   },
   "outputs": [
    {
     "data": {
      "text/html": [
       "<div>\n",
       "<style scoped>\n",
       "    .dataframe tbody tr th:only-of-type {\n",
       "        vertical-align: middle;\n",
       "    }\n",
       "\n",
       "    .dataframe tbody tr th {\n",
       "        vertical-align: top;\n",
       "    }\n",
       "\n",
       "    .dataframe thead th {\n",
       "        text-align: right;\n",
       "    }\n",
       "</style>\n",
       "<table border=\"1\" class=\"dataframe\">\n",
       "  <thead>\n",
       "    <tr style=\"text-align: right;\">\n",
       "      <th></th>\n",
       "      <th>id</th>\n",
       "      <th>keyword</th>\n",
       "      <th>location</th>\n",
       "      <th>text</th>\n",
       "      <th>target</th>\n",
       "    </tr>\n",
       "  </thead>\n",
       "  <tbody>\n",
       "    <tr>\n",
       "      <th>0</th>\n",
       "      <td>1</td>\n",
       "      <td>NaN</td>\n",
       "      <td>NaN</td>\n",
       "      <td>Our Deeds are the Reason of this #earthquake M...</td>\n",
       "      <td>1</td>\n",
       "    </tr>\n",
       "    <tr>\n",
       "      <th>1</th>\n",
       "      <td>4</td>\n",
       "      <td>NaN</td>\n",
       "      <td>NaN</td>\n",
       "      <td>Forest fire near La Ronge Sask. Canada</td>\n",
       "      <td>1</td>\n",
       "    </tr>\n",
       "    <tr>\n",
       "      <th>2</th>\n",
       "      <td>5</td>\n",
       "      <td>NaN</td>\n",
       "      <td>NaN</td>\n",
       "      <td>All residents asked to 'shelter in place' are ...</td>\n",
       "      <td>1</td>\n",
       "    </tr>\n",
       "    <tr>\n",
       "      <th>3</th>\n",
       "      <td>6</td>\n",
       "      <td>NaN</td>\n",
       "      <td>NaN</td>\n",
       "      <td>13,000 people receive #wildfires evacuation or...</td>\n",
       "      <td>1</td>\n",
       "    </tr>\n",
       "    <tr>\n",
       "      <th>4</th>\n",
       "      <td>7</td>\n",
       "      <td>NaN</td>\n",
       "      <td>NaN</td>\n",
       "      <td>Just got sent this photo from Ruby #Alaska as ...</td>\n",
       "      <td>1</td>\n",
       "    </tr>\n",
       "  </tbody>\n",
       "</table>\n",
       "</div>"
      ],
      "text/plain": [
       "   id keyword location                                               text  \\\n",
       "0   1     NaN      NaN  Our Deeds are the Reason of this #earthquake M...   \n",
       "1   4     NaN      NaN             Forest fire near La Ronge Sask. Canada   \n",
       "2   5     NaN      NaN  All residents asked to 'shelter in place' are ...   \n",
       "3   6     NaN      NaN  13,000 people receive #wildfires evacuation or...   \n",
       "4   7     NaN      NaN  Just got sent this photo from Ruby #Alaska as ...   \n",
       "\n",
       "   target  \n",
       "0       1  \n",
       "1       1  \n",
       "2       1  \n",
       "3       1  \n",
       "4       1  "
      ]
     },
     "execution_count": 3,
     "metadata": {},
     "output_type": "execute_result"
    }
   ],
   "source": [
    "train_df = pd.read_csv('/kaggle/input/nlp-getting-started/train.csv')\n",
    "train_df.head()"
   ]
  },
  {
   "cell_type": "code",
   "execution_count": 4,
   "metadata": {
    "execution": {
     "iopub.execute_input": "2021-02-10T04:39:10.937383Z",
     "iopub.status.busy": "2021-02-10T04:39:10.936699Z",
     "iopub.status.idle": "2021-02-10T04:39:10.950573Z",
     "shell.execute_reply": "2021-02-10T04:39:10.949955Z"
    },
    "id": "DFjP9kUVb36b",
    "outputId": "21923b61-ea99-4ce9-d5e4-5a4494c54414",
    "papermill": {
     "duration": 0.05799,
     "end_time": "2021-02-10T04:39:10.950720",
     "exception": false,
     "start_time": "2021-02-10T04:39:10.892730",
     "status": "completed"
    },
    "tags": []
   },
   "outputs": [
    {
     "name": "stdout",
     "output_type": "stream",
     "text": [
      "<class 'pandas.core.frame.DataFrame'>\n",
      "RangeIndex: 7613 entries, 0 to 7612\n",
      "Data columns (total 5 columns):\n",
      " #   Column    Non-Null Count  Dtype \n",
      "---  ------    --------------  ----- \n",
      " 0   id        7613 non-null   int64 \n",
      " 1   keyword   7552 non-null   object\n",
      " 2   location  5080 non-null   object\n",
      " 3   text      7613 non-null   object\n",
      " 4   target    7613 non-null   int64 \n",
      "dtypes: int64(2), object(3)\n",
      "memory usage: 297.5+ KB\n",
      "None\n",
      "# of training records:  7613\n"
     ]
    }
   ],
   "source": [
    "print (train_df.info())\n",
    "print (\"# of training records: \", len(train_df))"
   ]
  },
  {
   "cell_type": "code",
   "execution_count": 5,
   "metadata": {
    "execution": {
     "iopub.execute_input": "2021-02-10T04:39:10.998526Z",
     "iopub.status.busy": "2021-02-10T04:39:10.997816Z",
     "iopub.status.idle": "2021-02-10T04:39:11.030930Z",
     "shell.execute_reply": "2021-02-10T04:39:11.031455Z"
    },
    "id": "wbvX-eLJPdDD",
    "outputId": "6261f02c-2128-4283-bf59-97e94f419ef1",
    "papermill": {
     "duration": 0.057932,
     "end_time": "2021-02-10T04:39:11.031641",
     "exception": false,
     "start_time": "2021-02-10T04:39:10.973709",
     "status": "completed"
    },
    "tags": []
   },
   "outputs": [
    {
     "data": {
      "text/plain": [
       "0    0.57034\n",
       "1    0.42966\n",
       "Name: target, dtype: float64"
      ]
     },
     "execution_count": 5,
     "metadata": {},
     "output_type": "execute_result"
    }
   ],
   "source": [
    "train_df['target'].value_counts(normalize=True)"
   ]
  },
  {
   "cell_type": "code",
   "execution_count": 6,
   "metadata": {
    "execution": {
     "iopub.execute_input": "2021-02-10T04:39:11.081184Z",
     "iopub.status.busy": "2021-02-10T04:39:11.080533Z",
     "iopub.status.idle": "2021-02-10T04:39:11.123676Z",
     "shell.execute_reply": "2021-02-10T04:39:11.122980Z"
    },
    "id": "LfMlaKXcrqlf",
    "outputId": "532c5b82-3f29-4520-e9c3-53e5f01ac957",
    "papermill": {
     "duration": 0.069718,
     "end_time": "2021-02-10T04:39:11.123967",
     "exception": false,
     "start_time": "2021-02-10T04:39:11.054249",
     "status": "completed"
    },
    "tags": []
   },
   "outputs": [
    {
     "data": {
      "text/html": [
       "<div>\n",
       "<style scoped>\n",
       "    .dataframe tbody tr th:only-of-type {\n",
       "        vertical-align: middle;\n",
       "    }\n",
       "\n",
       "    .dataframe tbody tr th {\n",
       "        vertical-align: top;\n",
       "    }\n",
       "\n",
       "    .dataframe thead th {\n",
       "        text-align: right;\n",
       "    }\n",
       "</style>\n",
       "<table border=\"1\" class=\"dataframe\">\n",
       "  <thead>\n",
       "    <tr style=\"text-align: right;\">\n",
       "      <th></th>\n",
       "      <th>id</th>\n",
       "      <th>keyword</th>\n",
       "      <th>location</th>\n",
       "      <th>text</th>\n",
       "    </tr>\n",
       "  </thead>\n",
       "  <tbody>\n",
       "    <tr>\n",
       "      <th>0</th>\n",
       "      <td>0</td>\n",
       "      <td>NaN</td>\n",
       "      <td>NaN</td>\n",
       "      <td>Just happened a terrible car crash</td>\n",
       "    </tr>\n",
       "    <tr>\n",
       "      <th>1</th>\n",
       "      <td>2</td>\n",
       "      <td>NaN</td>\n",
       "      <td>NaN</td>\n",
       "      <td>Heard about #earthquake is different cities, s...</td>\n",
       "    </tr>\n",
       "    <tr>\n",
       "      <th>2</th>\n",
       "      <td>3</td>\n",
       "      <td>NaN</td>\n",
       "      <td>NaN</td>\n",
       "      <td>there is a forest fire at spot pond, geese are...</td>\n",
       "    </tr>\n",
       "    <tr>\n",
       "      <th>3</th>\n",
       "      <td>9</td>\n",
       "      <td>NaN</td>\n",
       "      <td>NaN</td>\n",
       "      <td>Apocalypse lighting. #Spokane #wildfires</td>\n",
       "    </tr>\n",
       "    <tr>\n",
       "      <th>4</th>\n",
       "      <td>11</td>\n",
       "      <td>NaN</td>\n",
       "      <td>NaN</td>\n",
       "      <td>Typhoon Soudelor kills 28 in China and Taiwan</td>\n",
       "    </tr>\n",
       "  </tbody>\n",
       "</table>\n",
       "</div>"
      ],
      "text/plain": [
       "   id keyword location                                               text\n",
       "0   0     NaN      NaN                 Just happened a terrible car crash\n",
       "1   2     NaN      NaN  Heard about #earthquake is different cities, s...\n",
       "2   3     NaN      NaN  there is a forest fire at spot pond, geese are...\n",
       "3   9     NaN      NaN           Apocalypse lighting. #Spokane #wildfires\n",
       "4  11     NaN      NaN      Typhoon Soudelor kills 28 in China and Taiwan"
      ]
     },
     "execution_count": 6,
     "metadata": {},
     "output_type": "execute_result"
    }
   ],
   "source": [
    "test_df = pd.read_csv('/kaggle/input/nlp-getting-started/test.csv')\n",
    "test_df.head()"
   ]
  },
  {
   "cell_type": "markdown",
   "metadata": {
    "id": "nM90rW2xb_pO",
    "papermill": {
     "duration": 0.021768,
     "end_time": "2021-02-10T04:39:11.168373",
     "exception": false,
     "start_time": "2021-02-10T04:39:11.146605",
     "status": "completed"
    },
    "tags": []
   },
   "source": [
    "**Checking- if features keyword and location are useful and should be retained**"
   ]
  },
  {
   "cell_type": "code",
   "execution_count": 7,
   "metadata": {
    "execution": {
     "iopub.execute_input": "2021-02-10T04:39:11.221680Z",
     "iopub.status.busy": "2021-02-10T04:39:11.220978Z",
     "iopub.status.idle": "2021-02-10T04:39:11.241092Z",
     "shell.execute_reply": "2021-02-10T04:39:11.240531Z"
    },
    "id": "12tpRdP7bvmq",
    "outputId": "9413354a-da90-480e-df48-7293a5bfeb6f",
    "papermill": {
     "duration": 0.050149,
     "end_time": "2021-02-10T04:39:11.241228",
     "exception": false,
     "start_time": "2021-02-10T04:39:11.191079",
     "status": "completed"
    },
    "tags": []
   },
   "outputs": [
    {
     "data": {
      "text/html": [
       "<div>\n",
       "<style scoped>\n",
       "    .dataframe tbody tr th:only-of-type {\n",
       "        vertical-align: middle;\n",
       "    }\n",
       "\n",
       "    .dataframe tbody tr th {\n",
       "        vertical-align: top;\n",
       "    }\n",
       "\n",
       "    .dataframe thead th {\n",
       "        text-align: right;\n",
       "    }\n",
       "</style>\n",
       "<table border=\"1\" class=\"dataframe\">\n",
       "  <thead>\n",
       "    <tr style=\"text-align: right;\">\n",
       "      <th></th>\n",
       "      <th>keyword</th>\n",
       "      <th>text</th>\n",
       "    </tr>\n",
       "  </thead>\n",
       "  <tbody>\n",
       "    <tr>\n",
       "      <th>31</th>\n",
       "      <td>ablaze</td>\n",
       "      <td>@bbcmtd Wholesale Markets ablaze http://t.co/l...</td>\n",
       "    </tr>\n",
       "    <tr>\n",
       "      <th>32</th>\n",
       "      <td>ablaze</td>\n",
       "      <td>We always try to bring the heavy. #metal #RT h...</td>\n",
       "    </tr>\n",
       "    <tr>\n",
       "      <th>33</th>\n",
       "      <td>ablaze</td>\n",
       "      <td>#AFRICANBAZE: Breaking news:Nigeria flag set a...</td>\n",
       "    </tr>\n",
       "    <tr>\n",
       "      <th>34</th>\n",
       "      <td>ablaze</td>\n",
       "      <td>Crying out for more! Set me ablaze</td>\n",
       "    </tr>\n",
       "    <tr>\n",
       "      <th>35</th>\n",
       "      <td>ablaze</td>\n",
       "      <td>On plus side LOOK AT THE SKY LAST NIGHT IT WAS...</td>\n",
       "    </tr>\n",
       "    <tr>\n",
       "      <th>...</th>\n",
       "      <td>...</td>\n",
       "      <td>...</td>\n",
       "    </tr>\n",
       "    <tr>\n",
       "      <th>7578</th>\n",
       "      <td>wrecked</td>\n",
       "      <td>@jt_ruff23 @cameronhacker and I wrecked you both</td>\n",
       "    </tr>\n",
       "    <tr>\n",
       "      <th>7579</th>\n",
       "      <td>wrecked</td>\n",
       "      <td>Three days off from work and they've pretty mu...</td>\n",
       "    </tr>\n",
       "    <tr>\n",
       "      <th>7580</th>\n",
       "      <td>wrecked</td>\n",
       "      <td>#FX #forex #trading Cramer: Iger's 3 words tha...</td>\n",
       "    </tr>\n",
       "    <tr>\n",
       "      <th>7581</th>\n",
       "      <td>wrecked</td>\n",
       "      <td>@engineshed Great atmosphere at the British Li...</td>\n",
       "    </tr>\n",
       "    <tr>\n",
       "      <th>7582</th>\n",
       "      <td>wrecked</td>\n",
       "      <td>Cramer: Iger's 3 words that wrecked Disney's s...</td>\n",
       "    </tr>\n",
       "  </tbody>\n",
       "</table>\n",
       "<p>7552 rows × 2 columns</p>\n",
       "</div>"
      ],
      "text/plain": [
       "      keyword                                               text\n",
       "31     ablaze  @bbcmtd Wholesale Markets ablaze http://t.co/l...\n",
       "32     ablaze  We always try to bring the heavy. #metal #RT h...\n",
       "33     ablaze  #AFRICANBAZE: Breaking news:Nigeria flag set a...\n",
       "34     ablaze                 Crying out for more! Set me ablaze\n",
       "35     ablaze  On plus side LOOK AT THE SKY LAST NIGHT IT WAS...\n",
       "...       ...                                                ...\n",
       "7578  wrecked   @jt_ruff23 @cameronhacker and I wrecked you both\n",
       "7579  wrecked  Three days off from work and they've pretty mu...\n",
       "7580  wrecked  #FX #forex #trading Cramer: Iger's 3 words tha...\n",
       "7581  wrecked  @engineshed Great atmosphere at the British Li...\n",
       "7582  wrecked  Cramer: Iger's 3 words that wrecked Disney's s...\n",
       "\n",
       "[7552 rows x 2 columns]"
      ]
     },
     "execution_count": 7,
     "metadata": {},
     "output_type": "execute_result"
    }
   ],
   "source": [
    "train_df[~train_df['keyword'].isnull()][['keyword', 'text']]"
   ]
  },
  {
   "cell_type": "code",
   "execution_count": 8,
   "metadata": {
    "execution": {
     "iopub.execute_input": "2021-02-10T04:39:11.296313Z",
     "iopub.status.busy": "2021-02-10T04:39:11.295562Z",
     "iopub.status.idle": "2021-02-10T04:39:11.300773Z",
     "shell.execute_reply": "2021-02-10T04:39:11.300148Z"
    },
    "id": "DDYFpXU1cKP-",
    "outputId": "83698104-eaf1-48a3-ed1b-19835a861ccb",
    "papermill": {
     "duration": 0.036698,
     "end_time": "2021-02-10T04:39:11.300912",
     "exception": false,
     "start_time": "2021-02-10T04:39:11.264214",
     "status": "completed"
    },
    "tags": []
   },
   "outputs": [
    {
     "data": {
      "text/plain": [
       "3342"
      ]
     },
     "execution_count": 8,
     "metadata": {},
     "output_type": "execute_result"
    }
   ],
   "source": [
    "len(train_df['location'].unique())"
   ]
  },
  {
   "cell_type": "markdown",
   "metadata": {
    "id": "fFsbTOA_edwk",
    "papermill": {
     "duration": 0.023357,
     "end_time": "2021-02-10T04:39:11.348099",
     "exception": false,
     "start_time": "2021-02-10T04:39:11.324742",
     "status": "completed"
    },
    "tags": []
   },
   "source": [
    "**Dropping the features: keyword and location**"
   ]
  },
  {
   "cell_type": "code",
   "execution_count": 9,
   "metadata": {
    "execution": {
     "iopub.execute_input": "2021-02-10T04:39:11.406439Z",
     "iopub.status.busy": "2021-02-10T04:39:11.405691Z",
     "iopub.status.idle": "2021-02-10T04:39:11.410438Z",
     "shell.execute_reply": "2021-02-10T04:39:11.409708Z"
    },
    "id": "hVHqL0qgdTDt",
    "papermill": {
     "duration": 0.036754,
     "end_time": "2021-02-10T04:39:11.410574",
     "exception": false,
     "start_time": "2021-02-10T04:39:11.373820",
     "status": "completed"
    },
    "tags": []
   },
   "outputs": [],
   "source": [
    "train_df.drop(columns=['keyword', 'location'], inplace=True)"
   ]
  },
  {
   "cell_type": "markdown",
   "metadata": {
    "id": "NgSSd1O6fHBM",
    "papermill": {
     "duration": 0.023599,
     "end_time": "2021-02-10T04:39:11.458132",
     "exception": false,
     "start_time": "2021-02-10T04:39:11.434533",
     "status": "completed"
    },
    "tags": []
   },
   "source": [
    "**Data Cleaning and Preprocessing**"
   ]
  },
  {
   "cell_type": "code",
   "execution_count": 10,
   "metadata": {
    "execution": {
     "iopub.execute_input": "2021-02-10T04:39:11.515924Z",
     "iopub.status.busy": "2021-02-10T04:39:11.515260Z",
     "iopub.status.idle": "2021-02-10T04:39:12.389176Z",
     "shell.execute_reply": "2021-02-10T04:39:12.389647Z"
    },
    "id": "U85dDbfN-2WI",
    "papermill": {
     "duration": 0.90491,
     "end_time": "2021-02-10T04:39:12.389838",
     "exception": false,
     "start_time": "2021-02-10T04:39:11.484928",
     "status": "completed"
    },
    "tags": []
   },
   "outputs": [],
   "source": [
    "tokenizer = TweetTokenizer()\n",
    "spacy_en = spacy.load('en_core_web_sm', disable=['ner', 'parser'])"
   ]
  },
  {
   "cell_type": "code",
   "execution_count": 11,
   "metadata": {
    "execution": {
     "iopub.execute_input": "2021-02-10T04:39:12.446531Z",
     "iopub.status.busy": "2021-02-10T04:39:12.445837Z",
     "iopub.status.idle": "2021-02-10T04:39:12.451695Z",
     "shell.execute_reply": "2021-02-10T04:39:12.452397Z"
    },
    "id": "DTgZ8OY7_KtK",
    "papermill": {
     "duration": 0.03789,
     "end_time": "2021-02-10T04:39:12.452642",
     "exception": false,
     "start_time": "2021-02-10T04:39:12.414752",
     "status": "completed"
    },
    "tags": []
   },
   "outputs": [],
   "source": [
    "def preprocess_text(text):\n",
    "  cleaned_text = text.lower()\n",
    "  \n",
    "  #remove words like hashtags, web addresses\n",
    "  cleaned_text = re.sub(r'#\\S+|@\\S+|<.*?>|http\\S+|[0-9,.]+\\S+', '', cleaned_text)\n",
    "\n",
    "  cleaned_text = tokenizer.tokenize(cleaned_text)\n",
    "  cleaned_text = ' '.join([word for word in cleaned_text if word not in string.punctuation and word not in stopwords.words('english')])\n",
    "\n",
    "  doc = spacy_en(cleaned_text)\n",
    "  cleaned_text = [token.lemma_ for token in doc if token.lemma_ not in ['-PRON-'] and token.pos_ not in ['DET','-PRON']]\n",
    "  return cleaned_text"
   ]
  },
  {
   "cell_type": "code",
   "execution_count": 12,
   "metadata": {
    "execution": {
     "iopub.execute_input": "2021-02-10T04:39:12.535880Z",
     "iopub.status.busy": "2021-02-10T04:39:12.535078Z",
     "iopub.status.idle": "2021-02-10T04:39:49.730730Z",
     "shell.execute_reply": "2021-02-10T04:39:49.731389Z"
    },
    "id": "No_aV_VlhuZ6",
    "papermill": {
     "duration": 37.240219,
     "end_time": "2021-02-10T04:39:49.731607",
     "exception": false,
     "start_time": "2021-02-10T04:39:12.491388",
     "status": "completed"
    },
    "tags": []
   },
   "outputs": [],
   "source": [
    "train_df['cleaned_text'] = train_df.apply(lambda row : (preprocess_text(row['text']), row['target']), axis=1)"
   ]
  },
  {
   "cell_type": "code",
   "execution_count": 13,
   "metadata": {
    "execution": {
     "iopub.execute_input": "2021-02-10T04:39:49.820068Z",
     "iopub.status.busy": "2021-02-10T04:39:49.819427Z",
     "iopub.status.idle": "2021-02-10T04:39:49.825134Z",
     "shell.execute_reply": "2021-02-10T04:39:49.824570Z"
    },
    "id": "00ZUqT4nft4l",
    "papermill": {
     "duration": 0.055457,
     "end_time": "2021-02-10T04:39:49.825294",
     "exception": false,
     "start_time": "2021-02-10T04:39:49.769837",
     "status": "completed"
    },
    "tags": []
   },
   "outputs": [],
   "source": [
    "train_tweets = train_df['cleaned_text'].map(lambda elem: elem[0])"
   ]
  },
  {
   "cell_type": "code",
   "execution_count": 14,
   "metadata": {
    "execution": {
     "iopub.execute_input": "2021-02-10T04:39:49.892521Z",
     "iopub.status.busy": "2021-02-10T04:39:49.886899Z",
     "iopub.status.idle": "2021-02-10T04:39:49.992936Z",
     "shell.execute_reply": "2021-02-10T04:39:49.991282Z"
    },
    "id": "c3o7rYkRJzvk",
    "outputId": "52883192-f05a-4917-9710-490886563eec",
    "papermill": {
     "duration": 0.142584,
     "end_time": "2021-02-10T04:39:49.993192",
     "exception": false,
     "start_time": "2021-02-10T04:39:49.850608",
     "status": "completed"
    },
    "tags": []
   },
   "outputs": [
    {
     "name": "stdout",
     "output_type": "stream",
     "text": [
      "Total unique features:  11090\n"
     ]
    }
   ],
   "source": [
    "def get_all_words(all_tweets):\n",
    "  all_words = []\n",
    "  for elem in all_tweets:\n",
    "    all_words.extend(elem)\n",
    "  return all_words\n",
    "\n",
    "def get_word_features(all_words):\n",
    "  word_count = nltk.FreqDist(all_words)\n",
    "  word_features = word_count.keys()\n",
    "  return word_features\n",
    "\n",
    "vocab = get_word_features(get_all_words(train_tweets))\n",
    "print(\"Total unique features: \", len(vocab))"
   ]
  },
  {
   "cell_type": "code",
   "execution_count": 15,
   "metadata": {
    "execution": {
     "iopub.execute_input": "2021-02-10T04:39:50.051731Z",
     "iopub.status.busy": "2021-02-10T04:39:50.050828Z",
     "iopub.status.idle": "2021-02-10T04:39:50.055505Z",
     "shell.execute_reply": "2021-02-10T04:39:50.054752Z"
    },
    "id": "cYzSrtF-rEkk",
    "papermill": {
     "duration": 0.037195,
     "end_time": "2021-02-10T04:39:50.055694",
     "exception": false,
     "start_time": "2021-02-10T04:39:50.018499",
     "status": "completed"
    },
    "tags": []
   },
   "outputs": [],
   "source": [
    "def extract_features(tweets):\n",
    "  features = {}\n",
    "  tweet_words = set(tweets)\n",
    "  for word in vocab:\n",
    "    features['contains(%s)' % word] = (word in tweet_words)\n",
    "  return features"
   ]
  },
  {
   "cell_type": "markdown",
   "metadata": {
    "id": "A1kS6hPVMruU",
    "papermill": {
     "duration": 0.037843,
     "end_time": "2021-02-10T04:39:50.132154",
     "exception": false,
     "start_time": "2021-02-10T04:39:50.094311",
     "status": "completed"
    },
    "tags": []
   },
   "source": [
    "**Modelling**"
   ]
  },
  {
   "cell_type": "code",
   "execution_count": 16,
   "metadata": {
    "execution": {
     "iopub.execute_input": "2021-02-10T04:39:50.216437Z",
     "iopub.status.busy": "2021-02-10T04:39:50.215473Z",
     "iopub.status.idle": "2021-02-10T04:39:57.816256Z",
     "shell.execute_reply": "2021-02-10T04:39:57.815564Z"
    },
    "id": "6efWScfXib6c",
    "outputId": "03c9ae80-ab48-4de5-f39a-2a9e0d2617fb",
    "papermill": {
     "duration": 7.646429,
     "end_time": "2021-02-10T04:39:57.816399",
     "exception": false,
     "start_time": "2021-02-10T04:39:50.169970",
     "status": "completed"
    },
    "tags": []
   },
   "outputs": [
    {
     "name": "stderr",
     "output_type": "stream",
     "text": [
      "/opt/conda/lib/python3.7/random.py:278: SettingWithCopyWarning: \n",
      "A value is trying to be set on a copy of a slice from a DataFrame\n",
      "\n",
      "See the caveats in the documentation: https://pandas.pydata.org/pandas-docs/stable/user_guide/indexing.html#returning-a-view-versus-a-copy\n",
      "  x[i], x[j] = x[j], x[i]\n"
     ]
    }
   ],
   "source": [
    "slice_index = int(len(train_df) * 0.8)\n",
    "messages_set = train_df['cleaned_text']\n",
    "random.shuffle(messages_set)\n",
    "\n",
    "train_messages, val_messages = messages_set[0:slice_index].tolist(), messages_set[slice_index:].tolist()"
   ]
  },
  {
   "cell_type": "code",
   "execution_count": 17,
   "metadata": {
    "execution": {
     "iopub.execute_input": "2021-02-10T04:39:57.877134Z",
     "iopub.status.busy": "2021-02-10T04:39:57.876223Z",
     "iopub.status.idle": "2021-02-10T04:39:57.880558Z",
     "shell.execute_reply": "2021-02-10T04:39:57.881298Z"
    },
    "id": "ouw458zDtJER",
    "papermill": {
     "duration": 0.037503,
     "end_time": "2021-02-10T04:39:57.881525",
     "exception": false,
     "start_time": "2021-02-10T04:39:57.844022",
     "status": "completed"
    },
    "tags": []
   },
   "outputs": [],
   "source": [
    "training_set = nltk.classify.apply_features(extract_features, train_messages)\n",
    "validation_set = nltk.classify.apply_features(extract_features, val_messages)"
   ]
  },
  {
   "cell_type": "code",
   "execution_count": 18,
   "metadata": {
    "execution": {
     "iopub.execute_input": "2021-02-10T04:39:57.981160Z",
     "iopub.status.busy": "2021-02-10T04:39:57.970112Z",
     "iopub.status.idle": "2021-02-10T04:51:02.531221Z",
     "shell.execute_reply": "2021-02-10T04:51:02.531904Z"
    },
    "id": "eBjeJK5E5xrL",
    "outputId": "fb255a82-4cb1-43af-abb5-5151d6e35ebc",
    "papermill": {
     "duration": 664.610731,
     "end_time": "2021-02-10T04:51:02.532135",
     "exception": false,
     "start_time": "2021-02-10T04:39:57.921404",
     "status": "completed"
    },
    "tags": []
   },
   "outputs": [
    {
     "name": "stdout",
     "output_type": "stream",
     "text": [
      "Train accuracy:  0.9047619047619048\n",
      "Validation accuracy:  0.7997373604727511\n"
     ]
    }
   ],
   "source": [
    "classifier = nltk.NaiveBayesClassifier.train(training_set)\n",
    "print(\"Train accuracy: \" , nltk.classify.accuracy(classifier, training_set))\n",
    "print(\"Validation accuracy: \", nltk.classify.accuracy(classifier, validation_set))"
   ]
  },
  {
   "cell_type": "markdown",
   "metadata": {
    "id": "Jz1FdfIAfguk",
    "papermill": {
     "duration": 0.041739,
     "end_time": "2021-02-10T04:51:02.614910",
     "exception": false,
     "start_time": "2021-02-10T04:51:02.573171",
     "status": "completed"
    },
    "tags": []
   },
   "source": [
    "**Training on full messages set to be used for test prediction**"
   ]
  },
  {
   "cell_type": "code",
   "execution_count": 19,
   "metadata": {
    "execution": {
     "iopub.execute_input": "2021-02-10T04:51:02.718236Z",
     "iopub.status.busy": "2021-02-10T04:51:02.712534Z",
     "iopub.status.idle": "2021-02-10T04:54:00.602881Z",
     "shell.execute_reply": "2021-02-10T04:54:00.602313Z"
    },
    "id": "538jV0x4feTg",
    "papermill": {
     "duration": 177.945794,
     "end_time": "2021-02-10T04:54:00.603027",
     "exception": false,
     "start_time": "2021-02-10T04:51:02.657233",
     "status": "completed"
    },
    "tags": []
   },
   "outputs": [],
   "source": [
    "full_train_messages = messages_set.tolist()\n",
    "full_training_set = nltk.classify.apply_features(extract_features, full_train_messages)\n",
    "classifier = nltk.NaiveBayesClassifier.train(full_training_set)"
   ]
  },
  {
   "cell_type": "markdown",
   "metadata": {
    "id": "xPZxMVVnajdz",
    "papermill": {
     "duration": 0.027863,
     "end_time": "2021-02-10T04:54:00.658535",
     "exception": false,
     "start_time": "2021-02-10T04:54:00.630672",
     "status": "completed"
    },
    "tags": []
   },
   "source": [
    "**Prediction on test set to be evaluated**"
   ]
  },
  {
   "cell_type": "code",
   "execution_count": 20,
   "metadata": {
    "execution": {
     "iopub.execute_input": "2021-02-10T04:54:00.723394Z",
     "iopub.status.busy": "2021-02-10T04:54:00.722736Z",
     "iopub.status.idle": "2021-02-10T04:54:16.205975Z",
     "shell.execute_reply": "2021-02-10T04:54:16.205364Z"
    },
    "papermill": {
     "duration": 15.520551,
     "end_time": "2021-02-10T04:54:16.206139",
     "exception": false,
     "start_time": "2021-02-10T04:54:00.685588",
     "status": "completed"
    },
    "tags": []
   },
   "outputs": [
    {
     "data": {
      "text/plain": [
       "0                       [happen, terrible, car, crash]\n",
       "1        [hear, different, city, stay, safe, everyone]\n",
       "2    [forest, fire, spot, pond, geese, flee, across...\n",
       "3                               [apocalypse, lighting]\n",
       "4             [typhoon, soudelor, kill, china, taiwan]\n",
       "Name: cleaned_text, dtype: object"
      ]
     },
     "execution_count": 20,
     "metadata": {},
     "output_type": "execute_result"
    }
   ],
   "source": [
    "test_df.drop(columns=['keyword', 'location'], inplace=True)\n",
    "test_df['cleaned_text'] = test_df.apply(lambda row:preprocess_text(row['text']), axis=1)\n",
    "test_df['cleaned_text'][0:5]"
   ]
  },
  {
   "cell_type": "code",
   "execution_count": 21,
   "metadata": {
    "execution": {
     "iopub.execute_input": "2021-02-10T04:54:16.276622Z",
     "iopub.status.busy": "2021-02-10T04:54:16.271352Z",
     "iopub.status.idle": "2021-02-10T04:57:33.075293Z",
     "shell.execute_reply": "2021-02-10T04:57:33.073980Z"
    },
    "id": "dmkLV2ZfegT9",
    "papermill": {
     "duration": 196.841912,
     "end_time": "2021-02-10T04:57:33.075461",
     "exception": false,
     "start_time": "2021-02-10T04:54:16.233549",
     "status": "completed"
    },
    "tags": []
   },
   "outputs": [],
   "source": [
    "test_predictions = test_df['cleaned_text'].apply(lambda tweet: classifier.classify(extract_features(tweet)))"
   ]
  },
  {
   "cell_type": "code",
   "execution_count": 22,
   "metadata": {
    "execution": {
     "iopub.execute_input": "2021-02-10T04:57:33.137200Z",
     "iopub.status.busy": "2021-02-10T04:57:33.136155Z",
     "iopub.status.idle": "2021-02-10T04:57:33.141803Z",
     "shell.execute_reply": "2021-02-10T04:57:33.142462Z"
    },
    "id": "S_ReeY2dgbOC",
    "outputId": "73526fb1-d3e4-4b2e-bf36-8f9f905f8325",
    "papermill": {
     "duration": 0.039495,
     "end_time": "2021-02-10T04:57:33.142698",
     "exception": false,
     "start_time": "2021-02-10T04:57:33.103203",
     "status": "completed"
    },
    "tags": []
   },
   "outputs": [
    {
     "data": {
      "text/plain": [
       "0    1\n",
       "1    0\n",
       "2    1\n",
       "3    0\n",
       "4    1\n",
       "Name: cleaned_text, dtype: int64"
      ]
     },
     "execution_count": 22,
     "metadata": {},
     "output_type": "execute_result"
    }
   ],
   "source": [
    "test_predictions[0:5]"
   ]
  },
  {
   "cell_type": "code",
   "execution_count": 23,
   "metadata": {
    "execution": {
     "iopub.execute_input": "2021-02-10T04:57:33.232673Z",
     "iopub.status.busy": "2021-02-10T04:57:33.231870Z",
     "iopub.status.idle": "2021-02-10T04:57:33.240740Z",
     "shell.execute_reply": "2021-02-10T04:57:33.241435Z"
    },
    "id": "Aa0z5cbZcLj-",
    "outputId": "bd4053ee-153c-475a-db34-a59adea0911e",
    "papermill": {
     "duration": 0.056213,
     "end_time": "2021-02-10T04:57:33.241630",
     "exception": false,
     "start_time": "2021-02-10T04:57:33.185417",
     "status": "completed"
    },
    "tags": []
   },
   "outputs": [
    {
     "data": {
      "text/html": [
       "<div>\n",
       "<style scoped>\n",
       "    .dataframe tbody tr th:only-of-type {\n",
       "        vertical-align: middle;\n",
       "    }\n",
       "\n",
       "    .dataframe tbody tr th {\n",
       "        vertical-align: top;\n",
       "    }\n",
       "\n",
       "    .dataframe thead th {\n",
       "        text-align: right;\n",
       "    }\n",
       "</style>\n",
       "<table border=\"1\" class=\"dataframe\">\n",
       "  <thead>\n",
       "    <tr style=\"text-align: right;\">\n",
       "      <th></th>\n",
       "      <th>id</th>\n",
       "      <th>target</th>\n",
       "    </tr>\n",
       "  </thead>\n",
       "  <tbody>\n",
       "    <tr>\n",
       "      <th>0</th>\n",
       "      <td>0</td>\n",
       "      <td>1</td>\n",
       "    </tr>\n",
       "    <tr>\n",
       "      <th>1</th>\n",
       "      <td>2</td>\n",
       "      <td>0</td>\n",
       "    </tr>\n",
       "    <tr>\n",
       "      <th>2</th>\n",
       "      <td>3</td>\n",
       "      <td>1</td>\n",
       "    </tr>\n",
       "    <tr>\n",
       "      <th>3</th>\n",
       "      <td>9</td>\n",
       "      <td>0</td>\n",
       "    </tr>\n",
       "    <tr>\n",
       "      <th>4</th>\n",
       "      <td>11</td>\n",
       "      <td>1</td>\n",
       "    </tr>\n",
       "  </tbody>\n",
       "</table>\n",
       "</div>"
      ],
      "text/plain": [
       "   id  target\n",
       "0   0       1\n",
       "1   2       0\n",
       "2   3       1\n",
       "3   9       0\n",
       "4  11       1"
      ]
     },
     "execution_count": 23,
     "metadata": {},
     "output_type": "execute_result"
    }
   ],
   "source": [
    "submission = pd.DataFrame({'id':test_df.id, 'target':test_predictions})\n",
    "submission.head()"
   ]
  },
  {
   "cell_type": "code",
   "execution_count": 24,
   "metadata": {
    "execution": {
     "iopub.execute_input": "2021-02-10T04:57:33.332008Z",
     "iopub.status.busy": "2021-02-10T04:57:33.331171Z",
     "iopub.status.idle": "2021-02-10T04:57:33.346588Z",
     "shell.execute_reply": "2021-02-10T04:57:33.347275Z"
    },
    "id": "qlydbS_ScQGG",
    "papermill": {
     "duration": 0.062867,
     "end_time": "2021-02-10T04:57:33.347500",
     "exception": false,
     "start_time": "2021-02-10T04:57:33.284633",
     "status": "completed"
    },
    "tags": []
   },
   "outputs": [],
   "source": [
    "submission.to_csv('./submission.csv', index=False)"
   ]
  },
  {
   "cell_type": "code",
   "execution_count": null,
   "metadata": {
    "id": "RQxDRgDJxVdH",
    "papermill": {
     "duration": 0.045103,
     "end_time": "2021-02-10T04:57:33.436510",
     "exception": false,
     "start_time": "2021-02-10T04:57:33.391407",
     "status": "completed"
    },
    "tags": []
   },
   "outputs": [],
   "source": []
  }
 ],
 "metadata": {
  "kernelspec": {
   "display_name": "Python 3",
   "language": "python",
   "name": "python3"
  },
  "language_info": {
   "codemirror_mode": {
    "name": "ipython",
    "version": 3
   },
   "file_extension": ".py",
   "mimetype": "text/x-python",
   "name": "python",
   "nbconvert_exporter": "python",
   "pygments_lexer": "ipython3",
   "version": "3.7.9"
  },
  "papermill": {
   "default_parameters": {},
   "duration": 1114.004868,
   "end_time": "2021-02-10T04:57:34.394224",
   "environment_variables": {},
   "exception": null,
   "input_path": "__notebook__.ipynb",
   "output_path": "__notebook__.ipynb",
   "parameters": {},
   "start_time": "2021-02-10T04:39:00.389356",
   "version": "2.2.2"
  }
 },
 "nbformat": 4,
 "nbformat_minor": 4
}
